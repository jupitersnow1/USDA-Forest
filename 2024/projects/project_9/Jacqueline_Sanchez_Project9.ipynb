{
 "cells": [
  {
   "cell_type": "markdown",
   "id": "be02a957-7133-4d02-818e-fedeb3cecb05",
   "metadata": {},
   "source": [
    "# Project 9 -- Jacqueline Sanchez"
   ]
  },
  {
   "cell_type": "markdown",
   "id": "a1228853-dd19-4ab2-89e0-0394d7d72de3",
   "metadata": {},
   "source": [
    "**TA Help:** N/A\n",
    "\n",
    "- \n",
    "    \n",
    "**Collaboration:** N/A\n",
    "    \n",
    "- \n",
    "- "
   ]
  },
  {
   "cell_type": "markdown",
   "id": "6180e742-8e39-4698-98ff-5b00c8cf8ea0",
   "metadata": {},
   "source": [
    "## Question 1"
   ]
  },
  {
   "cell_type": "code",
   "execution_count": 1,
   "id": "49445606-d363-41b4-b479-e319a9a84c01",
   "metadata": {},
   "outputs": [
    {
     "data": {
      "text/html": [
       "<table class=\"dataframe\">\n",
       "<caption>A data.table: 2 x 8</caption>\n",
       "<thead>\n",
       "\t<tr><th scope=col>brand</th><th scope=col>key</th><th scope=col>name</th><th scope=col>subhead</th><th scope=col>description</th><th scope=col>rating</th><th scope=col>rating_count</th><th scope=col>ingredients</th></tr>\n",
       "\t<tr><th scope=col>&lt;chr&gt;</th><th scope=col>&lt;chr&gt;</th><th scope=col>&lt;chr&gt;</th><th scope=col>&lt;chr&gt;</th><th scope=col>&lt;chr&gt;</th><th scope=col>&lt;dbl&gt;</th><th scope=col>&lt;int&gt;</th><th scope=col>&lt;chr&gt;</th></tr>\n",
       "</thead>\n",
       "<tbody>\n",
       "\t<tr><td>bj</td><td>0_bj</td><td><span style=white-space:pre-wrap>Salted Caramel Core           </span></td><td><span style=white-space:pre-wrap>Sweet Cream Ice Cream with Blonde Brownies &amp; a Salted Caramel Core        </span></td><td><span style=white-space:pre-wrap>Find your way to the ultimate ice cream experience with our Cores. Whether your primal urges lead you to the center of salted caramel or directly to the blonde brownies, you<e2><80><99>ll be in total control of your own ice cream destiny.                                                                                                      </span></td><td>3.7</td><td>208</td><td>CREAM, SKIM MILK, LIQUID SUGAR (SUGAR, WATER), WATER, BROWN SUGAR, SUGAR, MILK, WHEAT FLOUR, EGG YOLKS, CORN SYRUP, EGGS, BUTTER (CREAM, SALT), BUTTEROIL, PECTIN, SEA SALT, SOYBEAN OIL, VANILLA EXTRACT, GUAR GUM, SOY LECITHIN, BAKING POWDER (SODIUM ACID PYROPHOSPHATE, SODIUM BICARBONATE, CORN STARCH, MONOCALCIUM PHOSPHATE), BAKING SODA, SALT, CARRAGEENAN, LACTASE</td></tr>\n",
       "\t<tr><td>bj</td><td>1_bj</td><td>Netflix &amp; Chilll'd<e2><84><a2></td><td>Peanut Butter Ice Cream with Sweet &amp; Salty Pretzel Swirls &amp; Fudge Brownies</td><td>There<e2><80><99>s something for everyone to watch on Netflix &amp; flavors for everyone to enjoy from Ben &amp; Jerry<e2><80><99>s, so we<e2><80><99>ve teamed up to bring you a chillaxing new creation that<e2><80><99>s certain to satisfy any sweet or salty snack craving. It<e2><80><99>s a flavorful world, and everyone is invited to grab a spoon.</td><td>4.0</td><td>127</td><td><span style=white-space:pre-wrap>CREAM, SKIM MILK, LIQUID SUGAR (SUGAR, WATER), WATER, SUGAR, PEANUTS, WHEAT FLOUR, CANOLA OIL, EGG YOLKS, CORN STARCH, PEANUT OIL, COCOA POWDER, SALT, SOYBEAN OIL, INVERT CANE SUGAR, MILK FAT, EGGS, EGG WHITES, GUAR GUM, SOY LECITHIN, TAPIOCA STARCH, BAKING SODA, CARRAGEENAN, VANILLA EXTRACT, BARLEY MALT, MALTED BARLEY FLOUR                                       </span></td></tr>\n",
       "</tbody>\n",
       "</table>\n"
      ],
      "text/latex": [
       "A data.table: 2 x 8\n",
       "\\begin{tabular}{llllllll}\n",
       " brand & key & name & subhead & description & rating & rating\\_count & ingredients\\\\\n",
       " <chr> & <chr> & <chr> & <chr> & <chr> & <dbl> & <int> & <chr>\\\\\n",
       "\\hline\n",
       "\t bj & 0\\_bj & Salted Caramel Core            & Sweet Cream Ice Cream with Blonde Brownies \\& a Salted Caramel Core         & Find your way to the ultimate ice cream experience with our Cores. Whether your primal urges lead you to the center of salted caramel or directly to the blonde brownies, you<e2><80><99>ll be in total control of your own ice cream destiny.                                                                                                       & 3.7 & 208 & CREAM, SKIM MILK, LIQUID SUGAR (SUGAR, WATER), WATER, BROWN SUGAR, SUGAR, MILK, WHEAT FLOUR, EGG YOLKS, CORN SYRUP, EGGS, BUTTER (CREAM, SALT), BUTTEROIL, PECTIN, SEA SALT, SOYBEAN OIL, VANILLA EXTRACT, GUAR GUM, SOY LECITHIN, BAKING POWDER (SODIUM ACID PYROPHOSPHATE, SODIUM BICARBONATE, CORN STARCH, MONOCALCIUM PHOSPHATE), BAKING SODA, SALT, CARRAGEENAN, LACTASE\\\\\n",
       "\t bj & 1\\_bj & Netflix \\& Chilll'd<e2><84><a2> & Peanut Butter Ice Cream with Sweet \\& Salty Pretzel Swirls \\& Fudge Brownies & There<e2><80><99>s something for everyone to watch on Netflix \\& flavors for everyone to enjoy from Ben \\& Jerry<e2><80><99>s, so we<e2><80><99>ve teamed up to bring you a chillaxing new creation that<e2><80><99>s certain to satisfy any sweet or salty snack craving. It<e2><80><99>s a flavorful world, and everyone is invited to grab a spoon. & 4.0 & 127 & CREAM, SKIM MILK, LIQUID SUGAR (SUGAR, WATER), WATER, SUGAR, PEANUTS, WHEAT FLOUR, CANOLA OIL, EGG YOLKS, CORN STARCH, PEANUT OIL, COCOA POWDER, SALT, SOYBEAN OIL, INVERT CANE SUGAR, MILK FAT, EGGS, EGG WHITES, GUAR GUM, SOY LECITHIN, TAPIOCA STARCH, BAKING SODA, CARRAGEENAN, VANILLA EXTRACT, BARLEY MALT, MALTED BARLEY FLOUR                                       \\\\\n",
       "\\end{tabular}\n"
      ],
      "text/markdown": [
       "\n",
       "A data.table: 2 x 8\n",
       "\n",
       "| brand &lt;chr&gt; | key &lt;chr&gt; | name &lt;chr&gt; | subhead &lt;chr&gt; | description &lt;chr&gt; | rating &lt;dbl&gt; | rating_count &lt;int&gt; | ingredients &lt;chr&gt; |\n",
       "|---|---|---|---|---|---|---|---|\n",
       "| bj | 0_bj | Salted Caramel Core            | Sweet Cream Ice Cream with Blonde Brownies &amp; a Salted Caramel Core         | Find your way to the ultimate ice cream experience with our Cores. Whether your primal urges lead you to the center of salted caramel or directly to the blonde brownies, you<e2><80><99>ll be in total control of your own ice cream destiny.                                                                                                       | 3.7 | 208 | CREAM, SKIM MILK, LIQUID SUGAR (SUGAR, WATER), WATER, BROWN SUGAR, SUGAR, MILK, WHEAT FLOUR, EGG YOLKS, CORN SYRUP, EGGS, BUTTER (CREAM, SALT), BUTTEROIL, PECTIN, SEA SALT, SOYBEAN OIL, VANILLA EXTRACT, GUAR GUM, SOY LECITHIN, BAKING POWDER (SODIUM ACID PYROPHOSPHATE, SODIUM BICARBONATE, CORN STARCH, MONOCALCIUM PHOSPHATE), BAKING SODA, SALT, CARRAGEENAN, LACTASE |\n",
       "| bj | 1_bj | Netflix &amp; Chilll'd<e2><84><a2> | Peanut Butter Ice Cream with Sweet &amp; Salty Pretzel Swirls &amp; Fudge Brownies | There<e2><80><99>s something for everyone to watch on Netflix &amp; flavors for everyone to enjoy from Ben &amp; Jerry<e2><80><99>s, so we<e2><80><99>ve teamed up to bring you a chillaxing new creation that<e2><80><99>s certain to satisfy any sweet or salty snack craving. It<e2><80><99>s a flavorful world, and everyone is invited to grab a spoon. | 4.0 | 127 | CREAM, SKIM MILK, LIQUID SUGAR (SUGAR, WATER), WATER, SUGAR, PEANUTS, WHEAT FLOUR, CANOLA OIL, EGG YOLKS, CORN STARCH, PEANUT OIL, COCOA POWDER, SALT, SOYBEAN OIL, INVERT CANE SUGAR, MILK FAT, EGGS, EGG WHITES, GUAR GUM, SOY LECITHIN, TAPIOCA STARCH, BAKING SODA, CARRAGEENAN, VANILLA EXTRACT, BARLEY MALT, MALTED BARLEY FLOUR                                        |\n",
       "\n"
      ],
      "text/plain": [
       "  brand key  name                          \n",
       "1 bj    0_bj Salted Caramel Core           \n",
       "2 bj    1_bj Netflix & Chilll'd\\342\\204\\242\n",
       "  subhead                                                                   \n",
       "1 Sweet Cream Ice Cream with Blonde Brownies & a Salted Caramel Core        \n",
       "2 Peanut Butter Ice Cream with Sweet & Salty Pretzel Swirls & Fudge Brownies\n",
       "  description                                                                                                                                                                                                                                                                                                                                         \n",
       "1 Find your way to the ultimate ice cream experience with our Cores. Whether your primal urges lead you to the center of salted caramel or directly to the blonde brownies, you\\342\\200\\231ll be in total control of your own ice cream destiny.                                                                                                      \n",
       "2 There\\342\\200\\231s something for everyone to watch on Netflix & flavors for everyone to enjoy from Ben & Jerry\\342\\200\\231s, so we\\342\\200\\231ve teamed up to bring you a chillaxing new creation that\\342\\200\\231s certain to satisfy any sweet or salty snack craving. It\\342\\200\\231s a flavorful world, and everyone is invited to grab a spoon.\n",
       "  rating rating_count\n",
       "1 3.7    208         \n",
       "2 4.0    127         \n",
       "  ingredients                                                                                                                                                                                                                                                                                                                                                                  \n",
       "1 CREAM, SKIM MILK, LIQUID SUGAR (SUGAR, WATER), WATER, BROWN SUGAR, SUGAR, MILK, WHEAT FLOUR, EGG YOLKS, CORN SYRUP, EGGS, BUTTER (CREAM, SALT), BUTTEROIL, PECTIN, SEA SALT, SOYBEAN OIL, VANILLA EXTRACT, GUAR GUM, SOY LECITHIN, BAKING POWDER (SODIUM ACID PYROPHOSPHATE, SODIUM BICARBONATE, CORN STARCH, MONOCALCIUM PHOSPHATE), BAKING SODA, SALT, CARRAGEENAN, LACTASE\n",
       "2 CREAM, SKIM MILK, LIQUID SUGAR (SUGAR, WATER), WATER, SUGAR, PEANUTS, WHEAT FLOUR, CANOLA OIL, EGG YOLKS, CORN STARCH, PEANUT OIL, COCOA POWDER, SALT, SOYBEAN OIL, INVERT CANE SUGAR, MILK FAT, EGGS, EGG WHITES, GUAR GUM, SOY LECITHIN, TAPIOCA STARCH, BAKING SODA, CARRAGEENAN, VANILLA EXTRACT, BARLEY MALT, MALTED BARLEY FLOUR                                       "
      ]
     },
     "metadata": {},
     "output_type": "display_data"
    },
    {
     "data": {
      "text/html": [
       "<table class=\"dataframe\">\n",
       "<caption>A data.table: 2 x 13</caption>\n",
       "<thead>\n",
       "\t<tr><th scope=col>brand</th><th scope=col>key</th><th scope=col>author</th><th scope=col>date</th><th scope=col>stars</th><th scope=col>title</th><th scope=col>helpful_yes</th><th scope=col>helpful_no</th><th scope=col>text</th><th scope=col>taste</th><th scope=col>ingredients</th><th scope=col>texture</th><th scope=col>likes</th></tr>\n",
       "\t<tr><th scope=col>&lt;chr&gt;</th><th scope=col>&lt;chr&gt;</th><th scope=col>&lt;chr&gt;</th><th scope=col>&lt;IDate&gt;</th><th scope=col>&lt;int&gt;</th><th scope=col>&lt;chr&gt;</th><th scope=col>&lt;dbl&gt;</th><th scope=col>&lt;dbl&gt;</th><th scope=col>&lt;chr&gt;</th><th scope=col>&lt;dbl&gt;</th><th scope=col>&lt;dbl&gt;</th><th scope=col>&lt;dbl&gt;</th><th scope=col>&lt;chr&gt;</th></tr>\n",
       "</thead>\n",
       "<tbody>\n",
       "\t<tr><td>bj</td><td>0_bj</td><td>Ilovebennjerry</td><td>2017-04-15</td><td>3</td><td>Not enough brownies!                   </td><td>10</td><td>3</td><td>Super good, don't get me wrong. But I came for the caramel and brownies, not the sweet cream. The packaging made it seem like brownies were packed and bountiful *crying frowny emoji* I'd say the taste of this was amazing, but the ratio of brownie to sweet cream was disappointing. Liked it regardless but probably won't buy again simply because it didn't live up to its promising package. I'll find another one that has a better ratio and wayyy more yummy chewy brownies.\n",
       "Overall, good flavor, texture, idea, and brownies. Not so great caramel/sweet cream/ brownie RATIO. Just add more brownies. Please.                                                                                                                 </td><td>NA</td><td>NA</td><td>NA</td><td></td></tr>\n",
       "\t<tr><td>bj</td><td>0_bj</td><td>Sweettooth909 </td><td>2020-01-05</td><td>5</td><td>I<e2><80><99>m OBSESSED with this pint!</td><td> 3</td><td>0</td><td>I decided to try it out although I<e2><80><99>m not a huge caramel fan, and the first buy was ok, didn<e2><80><99>t like the caramel too much and for some reason that specific pint barely had any brownies! Like there were some on top but from the middle to the bottom? Zilch. Nada. Nothing! It was disappointing. But for some reason, I bought it again and I really do believe it was just that point bcuz the second one was glorious!! I had a big brownie chunk in EVERY bite. Plus the caramel didn<e2><80><99>t bother me as much and I took a liking to it. Conclusion: I<e2><80><99>m on my fifth pint, of the week and I<e2><80><99>m going back to get my daily pint cus I<e2><80><99>m kinda sick and need some happiness.</td><td>NA</td><td>NA</td><td>NA</td><td></td></tr>\n",
       "</tbody>\n",
       "</table>\n"
      ],
      "text/latex": [
       "A data.table: 2 x 13\n",
       "\\begin{tabular}{lllllllllllll}\n",
       " brand & key & author & date & stars & title & helpful\\_yes & helpful\\_no & text & taste & ingredients & texture & likes\\\\\n",
       " <chr> & <chr> & <chr> & <IDate> & <int> & <chr> & <dbl> & <dbl> & <chr> & <dbl> & <dbl> & <dbl> & <chr>\\\\\n",
       "\\hline\n",
       "\t bj & 0\\_bj & Ilovebennjerry & 2017-04-15 & 3 & Not enough brownies!                    & 10 & 3 & Super good, don't get me wrong. But I came for the caramel and brownies, not the sweet cream. The packaging made it seem like brownies were packed and bountiful *crying frowny emoji* I'd say the taste of this was amazing, but the ratio of brownie to sweet cream was disappointing. Liked it regardless but probably won't buy again simply because it didn't live up to its promising package. I'll find another one that has a better ratio and wayyy more yummy chewy brownies.\n",
       "Overall, good flavor, texture, idea, and brownies. Not so great caramel/sweet cream/ brownie RATIO. Just add more brownies. Please.                                                                                                                  & NA & NA & NA & \\\\\n",
       "\t bj & 0\\_bj & Sweettooth909  & 2020-01-05 & 5 & I<e2><80><99>m OBSESSED with this pint! &  3 & 0 & I decided to try it out although I<e2><80><99>m not a huge caramel fan, and the first buy was ok, didn<e2><80><99>t like the caramel too much and for some reason that specific pint barely had any brownies! Like there were some on top but from the middle to the bottom? Zilch. Nada. Nothing! It was disappointing. But for some reason, I bought it again and I really do believe it was just that point bcuz the second one was glorious!! I had a big brownie chunk in EVERY bite. Plus the caramel didn<e2><80><99>t bother me as much and I took a liking to it. Conclusion: I<e2><80><99>m on my fifth pint, of the week and I<e2><80><99>m going back to get my daily pint cus I<e2><80><99>m kinda sick and need some happiness. & NA & NA & NA & \\\\\n",
       "\\end{tabular}\n"
      ],
      "text/markdown": [
       "\n",
       "A data.table: 2 x 13\n",
       "\n",
       "| brand &lt;chr&gt; | key &lt;chr&gt; | author &lt;chr&gt; | date &lt;IDate&gt; | stars &lt;int&gt; | title &lt;chr&gt; | helpful_yes &lt;dbl&gt; | helpful_no &lt;dbl&gt; | text &lt;chr&gt; | taste &lt;dbl&gt; | ingredients &lt;dbl&gt; | texture &lt;dbl&gt; | likes &lt;chr&gt; |\n",
       "|---|---|---|---|---|---|---|---|---|---|---|---|---|\n",
       "| bj | 0_bj | Ilovebennjerry | 2017-04-15 | 3 | Not enough brownies!                    | 10 | 3 | Super good, don't get me wrong. But I came for the caramel and brownies, not the sweet cream. The packaging made it seem like brownies were packed and bountiful *crying frowny emoji* I'd say the taste of this was amazing, but the ratio of brownie to sweet cream was disappointing. Liked it regardless but probably won't buy again simply because it didn't live up to its promising package. I'll find another one that has a better ratio and wayyy more yummy chewy brownies.\n",
       "Overall, good flavor, texture, idea, and brownies. Not so great caramel/sweet cream/ brownie RATIO. Just add more brownies. Please.                                                                                                                  | NA | NA | NA | <!----> |\n",
       "| bj | 0_bj | Sweettooth909  | 2020-01-05 | 5 | I<e2><80><99>m OBSESSED with this pint! |  3 | 0 | I decided to try it out although I<e2><80><99>m not a huge caramel fan, and the first buy was ok, didn<e2><80><99>t like the caramel too much and for some reason that specific pint barely had any brownies! Like there were some on top but from the middle to the bottom? Zilch. Nada. Nothing! It was disappointing. But for some reason, I bought it again and I really do believe it was just that point bcuz the second one was glorious!! I had a big brownie chunk in EVERY bite. Plus the caramel didn<e2><80><99>t bother me as much and I took a liking to it. Conclusion: I<e2><80><99>m on my fifth pint, of the week and I<e2><80><99>m going back to get my daily pint cus I<e2><80><99>m kinda sick and need some happiness. | NA | NA | NA | <!----> |\n",
       "\n"
      ],
      "text/plain": [
       "  brand key  author         date       stars\n",
       "1 bj    0_bj Ilovebennjerry 2017-04-15 3    \n",
       "2 bj    0_bj Sweettooth909  2020-01-05 5    \n",
       "  title                                   helpful_yes helpful_no\n",
       "1 Not enough brownies!                    10          3         \n",
       "2 I\\342\\200\\231m OBSESSED with this pint!  3          0         \n",
       "  text                                                                                                                                                                                                                                                                                                                                                                                                                                                                                                                                                                                                                                                                                                                                         \n",
       "1 Super good, don't get me wrong. But I came for the caramel and brownies, not the sweet cream. The packaging made it seem like brownies were packed and bountiful *crying frowny emoji* I'd say the taste of this was amazing, but the ratio of brownie to sweet cream was disappointing. Liked it regardless but probably won't buy again simply because it didn't live up to its promising package. I'll find another one that has a better ratio and wayyy more yummy chewy brownies.\\nOverall, good flavor, texture, idea, and brownies. Not so great caramel/sweet cream/ brownie RATIO. Just add more brownies. Please.                                                                                                                 \n",
       "2 I decided to try it out although I\\342\\200\\231m not a huge caramel fan, and the first buy was ok, didn\\342\\200\\231t like the caramel too much and for some reason that specific pint barely had any brownies! Like there were some on top but from the middle to the bottom? Zilch. Nada. Nothing! It was disappointing. But for some reason, I bought it again and I really do believe it was just that point bcuz the second one was glorious!! I had a big brownie chunk in EVERY bite. Plus the caramel didn\\342\\200\\231t bother me as much and I took a liking to it. Conclusion: I\\342\\200\\231m on my fifth pint, of the week and I\\342\\200\\231m going back to get my daily pint cus I\\342\\200\\231m kinda sick and need some happiness.\n",
       "  taste ingredients texture likes\n",
       "1 NA    NA          NA           \n",
       "2 NA    NA          NA           "
      ]
     },
     "metadata": {},
     "output_type": "display_data"
    },
    {
     "data": {
      "text/html": [
       "<style>\n",
       ".list-inline {list-style: none; margin:0; padding: 0}\n",
       ".list-inline>li {display: inline-block}\n",
       ".list-inline>li:not(:last-child)::after {content: \"\\00b7\"; padding: 0 .5ex}\n",
       "</style>\n",
       "<ol class=list-inline><li>241</li><li>8</li></ol>\n"
      ],
      "text/latex": [
       "\\begin{enumerate*}\n",
       "\\item 241\n",
       "\\item 8\n",
       "\\end{enumerate*}\n"
      ],
      "text/markdown": [
       "1. 241\n",
       "2. 8\n",
       "\n",
       "\n"
      ],
      "text/plain": [
       "[1] 241   8"
      ]
     },
     "metadata": {},
     "output_type": "display_data"
    },
    {
     "data": {
      "text/html": [
       "<style>\n",
       ".list-inline {list-style: none; margin:0; padding: 0}\n",
       ".list-inline>li {display: inline-block}\n",
       ".list-inline>li:not(:last-child)::after {content: \"\\00b7\"; padding: 0 .5ex}\n",
       "</style>\n",
       "<ol class=list-inline><li>21674</li><li>13</li></ol>\n"
      ],
      "text/latex": [
       "\\begin{enumerate*}\n",
       "\\item 21674\n",
       "\\item 13\n",
       "\\end{enumerate*}\n"
      ],
      "text/markdown": [
       "1. 21674\n",
       "2. 13\n",
       "\n",
       "\n"
      ],
      "text/plain": [
       "[1] 21674    13"
      ]
     },
     "metadata": {},
     "output_type": "display_data"
    }
   ],
   "source": [
    "# reading the ice cream `products` and `reviews` files into seperate df \n",
    "library(data.table)\n",
    "productsDF <- fread(\"/anvil/projects/tdm/data/icecream/combined/products.csv\")\n",
    "reviewsDF <- fread(\"/anvil/projects/tdm/data/icecream/combined/reviews.csv\")\n",
    "\n",
    "# Display the heads\n",
    "head(productsDF, 2)\n",
    "head(reviewsDF, 2)\n",
    "\n",
    "dim(productsDF)\n",
    "dim(reviewsDF)\n",
    "# head"
   ]
  },
  {
   "cell_type": "code",
   "execution_count": 2,
   "id": "caae85ab-b1c4-459e-820b-fa6a09b99f28",
   "metadata": {},
   "outputs": [
    {
     "data": {
      "text/html": [
       "<style>\n",
       ".list-inline {list-style: none; margin:0; padding: 0}\n",
       ".list-inline>li {display: inline-block}\n",
       ".list-inline>li:not(:last-child)::after {content: \"\\00b7\"; padding: 0 .5ex}\n",
       "</style>\n",
       "<ol class=list-inline><li>'brand'</li><li>'key'</li><li>'ingredients'</li></ol>\n"
      ],
      "text/latex": [
       "\\begin{enumerate*}\n",
       "\\item 'brand'\n",
       "\\item 'key'\n",
       "\\item 'ingredients'\n",
       "\\end{enumerate*}\n"
      ],
      "text/markdown": [
       "1. 'brand'\n",
       "2. 'key'\n",
       "3. 'ingredients'\n",
       "\n",
       "\n"
      ],
      "text/plain": [
       "[1] \"brand\"       \"key\"         \"ingredients\""
      ]
     },
     "metadata": {},
     "output_type": "display_data"
    },
    {
     "data": {
      "text/html": [
       "<style>\n",
       ".list-inline {list-style: none; margin:0; padding: 0}\n",
       ".list-inline>li {display: inline-block}\n",
       ".list-inline>li:not(:last-child)::after {content: \"\\00b7\"; padding: 0 .5ex}\n",
       "</style>\n",
       "<ol class=list-inline><li>'brand'</li><li>'key'</li><li>'ingredients'</li></ol>\n"
      ],
      "text/latex": [
       "\\begin{enumerate*}\n",
       "\\item 'brand'\n",
       "\\item 'key'\n",
       "\\item 'ingredients'\n",
       "\\end{enumerate*}\n"
      ],
      "text/markdown": [
       "1. 'brand'\n",
       "2. 'key'\n",
       "3. 'ingredients'\n",
       "\n",
       "\n"
      ],
      "text/plain": [
       "[1] \"brand\"       \"key\"         \"ingredients\""
      ]
     },
     "metadata": {},
     "output_type": "display_data"
    }
   ],
   "source": [
    "# just analyzing and exploring ways to find similar columns between sets\n",
    "# Approach 1: using `intersect` function\n",
    "# specifying the columns of interest\n",
    "columns_to_check <- c(\"brand\", \"key\", \"ingredients\")\n",
    "\n",
    "# finding shared columns\n",
    "shared_columns <- intersect(columns_to_check, colnames(productsDF))\n",
    "shared_columns_reviews <- intersect(columns_to_check, colnames(reviewsDF))\n",
    "\n",
    "# displaying shared columns\n",
    "shared_columns\n",
    "shared_columns_reviews"
   ]
  },
  {
   "cell_type": "code",
   "execution_count": 3,
   "id": "52d4ea50-5d8f-45ea-badc-90698434fbf2",
   "metadata": {},
   "outputs": [
    {
     "data": {
      "text/html": [
       "<table class=\"dataframe\">\n",
       "<caption>A data.frame: 3 x 3</caption>\n",
       "<thead>\n",
       "\t<tr><th scope=col>Column</th><th scope=col>In_Products</th><th scope=col>In_Reviews</th></tr>\n",
       "\t<tr><th scope=col>&lt;chr&gt;</th><th scope=col>&lt;lgl&gt;</th><th scope=col>&lt;lgl&gt;</th></tr>\n",
       "</thead>\n",
       "<tbody>\n",
       "\t<tr><td>brand      </td><td>TRUE</td><td>TRUE</td></tr>\n",
       "\t<tr><td>key        </td><td>TRUE</td><td>TRUE</td></tr>\n",
       "\t<tr><td>ingredients</td><td>TRUE</td><td>TRUE</td></tr>\n",
       "</tbody>\n",
       "</table>\n"
      ],
      "text/latex": [
       "A data.frame: 3 x 3\n",
       "\\begin{tabular}{lll}\n",
       " Column & In\\_Products & In\\_Reviews\\\\\n",
       " <chr> & <lgl> & <lgl>\\\\\n",
       "\\hline\n",
       "\t brand       & TRUE & TRUE\\\\\n",
       "\t key         & TRUE & TRUE\\\\\n",
       "\t ingredients & TRUE & TRUE\\\\\n",
       "\\end{tabular}\n"
      ],
      "text/markdown": [
       "\n",
       "A data.frame: 3 x 3\n",
       "\n",
       "| Column &lt;chr&gt; | In_Products &lt;lgl&gt; | In_Reviews &lt;lgl&gt; |\n",
       "|---|---|---|\n",
       "| brand       | TRUE | TRUE |\n",
       "| key         | TRUE | TRUE |\n",
       "| ingredients | TRUE | TRUE |\n",
       "\n"
      ],
      "text/plain": [
       "  Column      In_Products In_Reviews\n",
       "1 brand       TRUE        TRUE      \n",
       "2 key         TRUE        TRUE      \n",
       "3 ingredients TRUE        TRUE      "
      ]
     },
     "metadata": {},
     "output_type": "display_data"
    }
   ],
   "source": [
    "# Approach 2: using pipeline operator\n",
    "# check which specified columns are present in each data frame\n",
    "products_shared <- columns_to_check %in% colnames(productsDF)\n",
    "reviews_shared <- columns_to_check %in% colnames(reviewsDF)\n",
    "\n",
    "# display results\n",
    "data.frame(Column = columns_to_check, \n",
    "           In_Products = products_shared, \n",
    "           In_Reviews = reviews_shared)"
   ]
  },
  {
   "cell_type": "code",
   "execution_count": 4,
   "id": "82a612c1-5fe5-4953-a262-8e84304a3898",
   "metadata": {},
   "outputs": [
    {
     "data": {
      "text/html": [
       "<style>\n",
       ".list-inline {list-style: none; margin:0; padding: 0}\n",
       ".list-inline>li {display: inline-block}\n",
       ".list-inline>li:not(:last-child)::after {content: \"\\00b7\"; padding: 0 .5ex}\n",
       "</style>\n",
       "<ol class=list-inline><li>21674</li><li>19</li></ol>\n"
      ],
      "text/latex": [
       "\\begin{enumerate*}\n",
       "\\item 21674\n",
       "\\item 19\n",
       "\\end{enumerate*}\n"
      ],
      "text/markdown": [
       "1. 21674\n",
       "2. 19\n",
       "\n",
       "\n"
      ],
      "text/plain": [
       "[1] 21674    19"
      ]
     },
     "metadata": {},
     "output_type": "display_data"
    },
    {
     "data": {
      "text/html": [
       "<style>\n",
       ".list-inline {list-style: none; margin:0; padding: 0}\n",
       ".list-inline>li {display: inline-block}\n",
       ".list-inline>li:not(:last-child)::after {content: \"\\00b7\"; padding: 0 .5ex}\n",
       "</style>\n",
       "<ol class=list-inline><li>'brand'</li><li>'key'</li><li>'name'</li><li>'subhead'</li><li>'description'</li><li>'rating'</li><li>'rating_count'</li><li>'ingredients.x'</li><li>'author'</li><li>'date'</li><li>'stars'</li><li>'title'</li><li>'helpful_yes'</li><li>'helpful_no'</li><li>'text'</li><li>'taste'</li><li>'ingredients.y'</li><li>'texture'</li><li>'likes'</li></ol>\n"
      ],
      "text/latex": [
       "\\begin{enumerate*}\n",
       "\\item 'brand'\n",
       "\\item 'key'\n",
       "\\item 'name'\n",
       "\\item 'subhead'\n",
       "\\item 'description'\n",
       "\\item 'rating'\n",
       "\\item 'rating\\_count'\n",
       "\\item 'ingredients.x'\n",
       "\\item 'author'\n",
       "\\item 'date'\n",
       "\\item 'stars'\n",
       "\\item 'title'\n",
       "\\item 'helpful\\_yes'\n",
       "\\item 'helpful\\_no'\n",
       "\\item 'text'\n",
       "\\item 'taste'\n",
       "\\item 'ingredients.y'\n",
       "\\item 'texture'\n",
       "\\item 'likes'\n",
       "\\end{enumerate*}\n"
      ],
      "text/markdown": [
       "1. 'brand'\n",
       "2. 'key'\n",
       "3. 'name'\n",
       "4. 'subhead'\n",
       "5. 'description'\n",
       "6. 'rating'\n",
       "7. 'rating_count'\n",
       "8. 'ingredients.x'\n",
       "9. 'author'\n",
       "10. 'date'\n",
       "11. 'stars'\n",
       "12. 'title'\n",
       "13. 'helpful_yes'\n",
       "14. 'helpful_no'\n",
       "15. 'text'\n",
       "16. 'taste'\n",
       "17. 'ingredients.y'\n",
       "18. 'texture'\n",
       "19. 'likes'\n",
       "\n",
       "\n"
      ],
      "text/plain": [
       " [1] \"brand\"         \"key\"           \"name\"          \"subhead\"      \n",
       " [5] \"description\"   \"rating\"        \"rating_count\"  \"ingredients.x\"\n",
       " [9] \"author\"        \"date\"          \"stars\"         \"title\"        \n",
       "[13] \"helpful_yes\"   \"helpful_no\"    \"text\"          \"taste\"        \n",
       "[17] \"ingredients.y\" \"texture\"       \"likes\"        "
      ]
     },
     "metadata": {},
     "output_type": "display_data"
    }
   ],
   "source": [
    "# merging both the df according to the `brand` and key values \n",
    "newmergedDF <- merge(productsDF, reviewsDF, by = c(\"brand\", \"key\"))\n",
    "dim(newmergedDF)\n",
    "# colnames(newmergedDF)\n",
    "names(newmergedDF)"
   ]
  },
  {
   "cell_type": "code",
   "execution_count": 5,
   "id": "6d9c8a84-cdba-458b-a607-2cf215743771",
   "metadata": {},
   "outputs": [
    {
     "data": {
      "text/html": [
       "<table class=\"dataframe\">\n",
       "<caption>A data.table: 1 x 19</caption>\n",
       "<thead>\n",
       "\t<tr><th scope=col>brand</th><th scope=col>key</th><th scope=col>name</th><th scope=col>subhead</th><th scope=col>description</th><th scope=col>rating</th><th scope=col>rating_count</th><th scope=col>ingredients.x</th><th scope=col>author</th><th scope=col>date</th><th scope=col>stars</th><th scope=col>title</th><th scope=col>helpful_yes</th><th scope=col>helpful_no</th><th scope=col>text</th><th scope=col>taste</th><th scope=col>ingredients.y</th><th scope=col>texture</th><th scope=col>likes</th></tr>\n",
       "\t<tr><th scope=col>&lt;chr&gt;</th><th scope=col>&lt;chr&gt;</th><th scope=col>&lt;chr&gt;</th><th scope=col>&lt;chr&gt;</th><th scope=col>&lt;chr&gt;</th><th scope=col>&lt;dbl&gt;</th><th scope=col>&lt;int&gt;</th><th scope=col>&lt;chr&gt;</th><th scope=col>&lt;chr&gt;</th><th scope=col>&lt;IDate&gt;</th><th scope=col>&lt;int&gt;</th><th scope=col>&lt;chr&gt;</th><th scope=col>&lt;dbl&gt;</th><th scope=col>&lt;dbl&gt;</th><th scope=col>&lt;chr&gt;</th><th scope=col>&lt;dbl&gt;</th><th scope=col>&lt;dbl&gt;</th><th scope=col>&lt;dbl&gt;</th><th scope=col>&lt;chr&gt;</th></tr>\n",
       "</thead>\n",
       "<tbody>\n",
       "\t<tr><td>bj</td><td>0_bj</td><td>Salted Caramel Core</td><td>Sweet Cream Ice Cream with Blonde Brownies &amp; a Salted Caramel Core</td><td>Find your way to the ultimate ice cream experience with our Cores. Whether your primal urges lead you to the center of salted caramel or directly to the blonde brownies, you<e2><80><99>ll be in total control of your own ice cream destiny.</td><td>3.7</td><td>208</td><td>CREAM, SKIM MILK, LIQUID SUGAR (SUGAR, WATER), WATER, BROWN SUGAR, SUGAR, MILK, WHEAT FLOUR, EGG YOLKS, CORN SYRUP, EGGS, BUTTER (CREAM, SALT), BUTTEROIL, PECTIN, SEA SALT, SOYBEAN OIL, VANILLA EXTRACT, GUAR GUM, SOY LECITHIN, BAKING POWDER (SODIUM ACID PYROPHOSPHATE, SODIUM BICARBONATE, CORN STARCH, MONOCALCIUM PHOSPHATE), BAKING SODA, SALT, CARRAGEENAN, LACTASE</td><td>Ilovebennjerry</td><td>2017-04-15</td><td>3</td><td>Not enough brownies!</td><td>10</td><td>3</td><td>Super good, don't get me wrong. But I came for the caramel and brownies, not the sweet cream. The packaging made it seem like brownies were packed and bountiful *crying frowny emoji* I'd say the taste of this was amazing, but the ratio of brownie to sweet cream was disappointing. Liked it regardless but probably won't buy again simply because it didn't live up to its promising package. I'll find another one that has a better ratio and wayyy more yummy chewy brownies.\n",
       "Overall, good flavor, texture, idea, and brownies. Not so great caramel/sweet cream/ brownie RATIO. Just add more brownies. Please.</td><td>NA</td><td>NA</td><td>NA</td><td></td></tr>\n",
       "</tbody>\n",
       "</table>\n"
      ],
      "text/latex": [
       "A data.table: 1 x 19\n",
       "\\begin{tabular}{lllllllllllllllllll}\n",
       " brand & key & name & subhead & description & rating & rating\\_count & ingredients.x & author & date & stars & title & helpful\\_yes & helpful\\_no & text & taste & ingredients.y & texture & likes\\\\\n",
       " <chr> & <chr> & <chr> & <chr> & <chr> & <dbl> & <int> & <chr> & <chr> & <IDate> & <int> & <chr> & <dbl> & <dbl> & <chr> & <dbl> & <dbl> & <dbl> & <chr>\\\\\n",
       "\\hline\n",
       "\t bj & 0\\_bj & Salted Caramel Core & Sweet Cream Ice Cream with Blonde Brownies \\& a Salted Caramel Core & Find your way to the ultimate ice cream experience with our Cores. Whether your primal urges lead you to the center of salted caramel or directly to the blonde brownies, you<e2><80><99>ll be in total control of your own ice cream destiny. & 3.7 & 208 & CREAM, SKIM MILK, LIQUID SUGAR (SUGAR, WATER), WATER, BROWN SUGAR, SUGAR, MILK, WHEAT FLOUR, EGG YOLKS, CORN SYRUP, EGGS, BUTTER (CREAM, SALT), BUTTEROIL, PECTIN, SEA SALT, SOYBEAN OIL, VANILLA EXTRACT, GUAR GUM, SOY LECITHIN, BAKING POWDER (SODIUM ACID PYROPHOSPHATE, SODIUM BICARBONATE, CORN STARCH, MONOCALCIUM PHOSPHATE), BAKING SODA, SALT, CARRAGEENAN, LACTASE & Ilovebennjerry & 2017-04-15 & 3 & Not enough brownies! & 10 & 3 & Super good, don't get me wrong. But I came for the caramel and brownies, not the sweet cream. The packaging made it seem like brownies were packed and bountiful *crying frowny emoji* I'd say the taste of this was amazing, but the ratio of brownie to sweet cream was disappointing. Liked it regardless but probably won't buy again simply because it didn't live up to its promising package. I'll find another one that has a better ratio and wayyy more yummy chewy brownies.\n",
       "Overall, good flavor, texture, idea, and brownies. Not so great caramel/sweet cream/ brownie RATIO. Just add more brownies. Please. & NA & NA & NA & \\\\\n",
       "\\end{tabular}\n"
      ],
      "text/markdown": [
       "\n",
       "A data.table: 1 x 19\n",
       "\n",
       "| brand &lt;chr&gt; | key &lt;chr&gt; | name &lt;chr&gt; | subhead &lt;chr&gt; | description &lt;chr&gt; | rating &lt;dbl&gt; | rating_count &lt;int&gt; | ingredients.x &lt;chr&gt; | author &lt;chr&gt; | date &lt;IDate&gt; | stars &lt;int&gt; | title &lt;chr&gt; | helpful_yes &lt;dbl&gt; | helpful_no &lt;dbl&gt; | text &lt;chr&gt; | taste &lt;dbl&gt; | ingredients.y &lt;dbl&gt; | texture &lt;dbl&gt; | likes &lt;chr&gt; |\n",
       "|---|---|---|---|---|---|---|---|---|---|---|---|---|---|---|---|---|---|---|\n",
       "| bj | 0_bj | Salted Caramel Core | Sweet Cream Ice Cream with Blonde Brownies &amp; a Salted Caramel Core | Find your way to the ultimate ice cream experience with our Cores. Whether your primal urges lead you to the center of salted caramel or directly to the blonde brownies, you<e2><80><99>ll be in total control of your own ice cream destiny. | 3.7 | 208 | CREAM, SKIM MILK, LIQUID SUGAR (SUGAR, WATER), WATER, BROWN SUGAR, SUGAR, MILK, WHEAT FLOUR, EGG YOLKS, CORN SYRUP, EGGS, BUTTER (CREAM, SALT), BUTTEROIL, PECTIN, SEA SALT, SOYBEAN OIL, VANILLA EXTRACT, GUAR GUM, SOY LECITHIN, BAKING POWDER (SODIUM ACID PYROPHOSPHATE, SODIUM BICARBONATE, CORN STARCH, MONOCALCIUM PHOSPHATE), BAKING SODA, SALT, CARRAGEENAN, LACTASE | Ilovebennjerry | 2017-04-15 | 3 | Not enough brownies! | 10 | 3 | Super good, don't get me wrong. But I came for the caramel and brownies, not the sweet cream. The packaging made it seem like brownies were packed and bountiful *crying frowny emoji* I'd say the taste of this was amazing, but the ratio of brownie to sweet cream was disappointing. Liked it regardless but probably won't buy again simply because it didn't live up to its promising package. I'll find another one that has a better ratio and wayyy more yummy chewy brownies.\n",
       "Overall, good flavor, texture, idea, and brownies. Not so great caramel/sweet cream/ brownie RATIO. Just add more brownies. Please. | NA | NA | NA | <!----> |\n",
       "\n"
      ],
      "text/plain": [
       "  brand key  name               \n",
       "1 bj    0_bj Salted Caramel Core\n",
       "  subhead                                                           \n",
       "1 Sweet Cream Ice Cream with Blonde Brownies & a Salted Caramel Core\n",
       "  description                                                                                                                                                                                                                                   \n",
       "1 Find your way to the ultimate ice cream experience with our Cores. Whether your primal urges lead you to the center of salted caramel or directly to the blonde brownies, you\\342\\200\\231ll be in total control of your own ice cream destiny.\n",
       "  rating rating_count\n",
       "1 3.7    208         \n",
       "  ingredients.x                                                                                                                                                                                                                                                                                                                                                                \n",
       "1 CREAM, SKIM MILK, LIQUID SUGAR (SUGAR, WATER), WATER, BROWN SUGAR, SUGAR, MILK, WHEAT FLOUR, EGG YOLKS, CORN SYRUP, EGGS, BUTTER (CREAM, SALT), BUTTEROIL, PECTIN, SEA SALT, SOYBEAN OIL, VANILLA EXTRACT, GUAR GUM, SOY LECITHIN, BAKING POWDER (SODIUM ACID PYROPHOSPHATE, SODIUM BICARBONATE, CORN STARCH, MONOCALCIUM PHOSPHATE), BAKING SODA, SALT, CARRAGEENAN, LACTASE\n",
       "  author         date       stars title                helpful_yes helpful_no\n",
       "1 Ilovebennjerry 2017-04-15 3     Not enough brownies! 10          3         \n",
       "  text                                                                                                                                                                                                                                                                                                                                                                                                                                                                                                                                                                                                                        \n",
       "1 Super good, don't get me wrong. But I came for the caramel and brownies, not the sweet cream. The packaging made it seem like brownies were packed and bountiful *crying frowny emoji* I'd say the taste of this was amazing, but the ratio of brownie to sweet cream was disappointing. Liked it regardless but probably won't buy again simply because it didn't live up to its promising package. I'll find another one that has a better ratio and wayyy more yummy chewy brownies.\\nOverall, good flavor, texture, idea, and brownies. Not so great caramel/sweet cream/ brownie RATIO. Just add more brownies. Please.\n",
       "  taste ingredients.y texture likes\n",
       "1 NA    NA            NA           "
      ]
     },
     "metadata": {},
     "output_type": "display_data"
    }
   ],
   "source": [
    "head(newmergedDF, 1)"
   ]
  },
  {
   "cell_type": "markdown",
   "id": "c7f03864-6550-4dd6-90a2-ef5f38902285",
   "metadata": {},
   "source": [
    "Interesting! like mentioned in the `The Examples Book` \n",
    "the dimenstion for productsDF is 241*8 and reviewsDF is 21674 * 13. \n",
    "How come when we merged them we get only 19 columns? Shouldn't it be 21?<br>\n",
    "brand and key are the same except for ingredient since in both df they play different roles these were not merged. "
   ]
  },
  {
   "cell_type": "code",
   "execution_count": 6,
   "id": "90075dc5-724e-4eae-882f-c57a0c9dad43",
   "metadata": {},
   "outputs": [
    {
     "data": {
      "text/html": [
       "<table class=\"dataframe\">\n",
       "<caption>A data.table: 1 x 19</caption>\n",
       "<thead>\n",
       "\t<tr><th scope=col>brand</th><th scope=col>key</th><th scope=col>name</th><th scope=col>subhead</th><th scope=col>description</th><th scope=col>rating</th><th scope=col>rating_count</th><th scope=col>ingredients.x</th><th scope=col>author</th><th scope=col>date</th><th scope=col>stars</th><th scope=col>title</th><th scope=col>helpful_yes</th><th scope=col>helpful_no</th><th scope=col>text</th><th scope=col>taste</th><th scope=col>ingredients.y</th><th scope=col>texture</th><th scope=col>likes</th></tr>\n",
       "\t<tr><th scope=col>&lt;chr&gt;</th><th scope=col>&lt;chr&gt;</th><th scope=col>&lt;chr&gt;</th><th scope=col>&lt;chr&gt;</th><th scope=col>&lt;chr&gt;</th><th scope=col>&lt;dbl&gt;</th><th scope=col>&lt;int&gt;</th><th scope=col>&lt;chr&gt;</th><th scope=col>&lt;chr&gt;</th><th scope=col>&lt;IDate&gt;</th><th scope=col>&lt;int&gt;</th><th scope=col>&lt;chr&gt;</th><th scope=col>&lt;dbl&gt;</th><th scope=col>&lt;dbl&gt;</th><th scope=col>&lt;chr&gt;</th><th scope=col>&lt;dbl&gt;</th><th scope=col>&lt;dbl&gt;</th><th scope=col>&lt;dbl&gt;</th><th scope=col>&lt;chr&gt;</th></tr>\n",
       "</thead>\n",
       "<tbody>\n",
       "\t<tr><td>bj</td><td>16_bj</td><td>Chocolate Chip Cookie Dough</td><td>Vanilla Ice Cream with Gobs of Chocolate Chip Cookie Dough</td><td>We knew we were onto something big when we made the world<e2><80><99>s first batch of Chocolate Chip Cookie Dough ice cream in 1984. Today the flavor still reigns among our all-time most popular concoctions.</td><td>4.6</td><td>983</td><td>CREAM, SKIM MILK, LIQUID SUGAR (SUGAR, WATER), WATER, WHEAT FLOUR, SUGAR, BROWN SUGAR, EGG YOLKS, BUTTER (CREAM, SALT), EXPELLER PRESSED SOYBEAN OIL, EGGS, COCONUT OIL, CHOCOLATE LIQUOR, VANILLA EXTRACT, COCOA (PROCESSED WITH ALKALI), COCOA POWDER, SALT, MOLASSES, GUAR GUM, COCOA BUTTER, NATURAL FLAVOR, CARRAGEENAN, MILK FAT, SOY LECITHIN</td><td>Justamom</td><td>2018-05-08</td><td>2</td><td>Hey Ben and Jerry where is my cookie dough?</td><td>5</td><td>1</td><td>Always have loved your chocolate chip cookie dough ice cream, my husband knows this and came home with some. Well it takes very little to excite me these days but after a day of errands, housework, homework, dinner then getting son to bed all I kept thinking of, was that small tub of heaven in my freezer. So finally I put on some Guilty pleasure reality television snugged into my couch with my favorite blanket and my favorite ice cream only to notice that after a couple spoonfuls......NO COOKIE DOUGH! This can<e2><80><99>t be correct NOOOOOOOOO!! First I was really doubting I was smarter than a fifth grader and now NO COOKIE DOUGH! Not the ending I needed to this day!</td><td>NA</td><td>NA</td><td>NA</td><td></td></tr>\n",
       "</tbody>\n",
       "</table>\n"
      ],
      "text/latex": [
       "A data.table: 1 x 19\n",
       "\\begin{tabular}{lllllllllllllllllll}\n",
       " brand & key & name & subhead & description & rating & rating\\_count & ingredients.x & author & date & stars & title & helpful\\_yes & helpful\\_no & text & taste & ingredients.y & texture & likes\\\\\n",
       " <chr> & <chr> & <chr> & <chr> & <chr> & <dbl> & <int> & <chr> & <chr> & <IDate> & <int> & <chr> & <dbl> & <dbl> & <chr> & <dbl> & <dbl> & <dbl> & <chr>\\\\\n",
       "\\hline\n",
       "\t bj & 16\\_bj & Chocolate Chip Cookie Dough & Vanilla Ice Cream with Gobs of Chocolate Chip Cookie Dough & We knew we were onto something big when we made the world<e2><80><99>s first batch of Chocolate Chip Cookie Dough ice cream in 1984. Today the flavor still reigns among our all-time most popular concoctions. & 4.6 & 983 & CREAM, SKIM MILK, LIQUID SUGAR (SUGAR, WATER), WATER, WHEAT FLOUR, SUGAR, BROWN SUGAR, EGG YOLKS, BUTTER (CREAM, SALT), EXPELLER PRESSED SOYBEAN OIL, EGGS, COCONUT OIL, CHOCOLATE LIQUOR, VANILLA EXTRACT, COCOA (PROCESSED WITH ALKALI), COCOA POWDER, SALT, MOLASSES, GUAR GUM, COCOA BUTTER, NATURAL FLAVOR, CARRAGEENAN, MILK FAT, SOY LECITHIN & Justamom & 2018-05-08 & 2 & Hey Ben and Jerry where is my cookie dough? & 5 & 1 & Always have loved your chocolate chip cookie dough ice cream, my husband knows this and came home with some. Well it takes very little to excite me these days but after a day of errands, housework, homework, dinner then getting son to bed all I kept thinking of, was that small tub of heaven in my freezer. So finally I put on some Guilty pleasure reality television snugged into my couch with my favorite blanket and my favorite ice cream only to notice that after a couple spoonfuls......NO COOKIE DOUGH! This can<e2><80><99>t be correct NOOOOOOOOO!! First I was really doubting I was smarter than a fifth grader and now NO COOKIE DOUGH! Not the ending I needed to this day! & NA & NA & NA & \\\\\n",
       "\\end{tabular}\n"
      ],
      "text/markdown": [
       "\n",
       "A data.table: 1 x 19\n",
       "\n",
       "| brand &lt;chr&gt; | key &lt;chr&gt; | name &lt;chr&gt; | subhead &lt;chr&gt; | description &lt;chr&gt; | rating &lt;dbl&gt; | rating_count &lt;int&gt; | ingredients.x &lt;chr&gt; | author &lt;chr&gt; | date &lt;IDate&gt; | stars &lt;int&gt; | title &lt;chr&gt; | helpful_yes &lt;dbl&gt; | helpful_no &lt;dbl&gt; | text &lt;chr&gt; | taste &lt;dbl&gt; | ingredients.y &lt;dbl&gt; | texture &lt;dbl&gt; | likes &lt;chr&gt; |\n",
       "|---|---|---|---|---|---|---|---|---|---|---|---|---|---|---|---|---|---|---|\n",
       "| bj | 16_bj | Chocolate Chip Cookie Dough | Vanilla Ice Cream with Gobs of Chocolate Chip Cookie Dough | We knew we were onto something big when we made the world<e2><80><99>s first batch of Chocolate Chip Cookie Dough ice cream in 1984. Today the flavor still reigns among our all-time most popular concoctions. | 4.6 | 983 | CREAM, SKIM MILK, LIQUID SUGAR (SUGAR, WATER), WATER, WHEAT FLOUR, SUGAR, BROWN SUGAR, EGG YOLKS, BUTTER (CREAM, SALT), EXPELLER PRESSED SOYBEAN OIL, EGGS, COCONUT OIL, CHOCOLATE LIQUOR, VANILLA EXTRACT, COCOA (PROCESSED WITH ALKALI), COCOA POWDER, SALT, MOLASSES, GUAR GUM, COCOA BUTTER, NATURAL FLAVOR, CARRAGEENAN, MILK FAT, SOY LECITHIN | Justamom | 2018-05-08 | 2 | Hey Ben and Jerry where is my cookie dough? | 5 | 1 | Always have loved your chocolate chip cookie dough ice cream, my husband knows this and came home with some. Well it takes very little to excite me these days but after a day of errands, housework, homework, dinner then getting son to bed all I kept thinking of, was that small tub of heaven in my freezer. So finally I put on some Guilty pleasure reality television snugged into my couch with my favorite blanket and my favorite ice cream only to notice that after a couple spoonfuls......NO COOKIE DOUGH! This can<e2><80><99>t be correct NOOOOOOOOO!! First I was really doubting I was smarter than a fifth grader and now NO COOKIE DOUGH! Not the ending I needed to this day! | NA | NA | NA | <!----> |\n",
       "\n"
      ],
      "text/plain": [
       "  brand key   name                       \n",
       "1 bj    16_bj Chocolate Chip Cookie Dough\n",
       "  subhead                                                   \n",
       "1 Vanilla Ice Cream with Gobs of Chocolate Chip Cookie Dough\n",
       "  description                                                                                                                                                                                                    \n",
       "1 We knew we were onto something big when we made the world\\342\\200\\231s first batch of Chocolate Chip Cookie Dough ice cream in 1984. Today the flavor still reigns among our all-time most popular concoctions.\n",
       "  rating rating_count\n",
       "1 4.6    983         \n",
       "  ingredients.x                                                                                                                                                                                                                                                                                                                                       \n",
       "1 CREAM, SKIM MILK, LIQUID SUGAR (SUGAR, WATER), WATER, WHEAT FLOUR, SUGAR, BROWN SUGAR, EGG YOLKS, BUTTER (CREAM, SALT), EXPELLER PRESSED SOYBEAN OIL, EGGS, COCONUT OIL, CHOCOLATE LIQUOR, VANILLA EXTRACT, COCOA (PROCESSED WITH ALKALI), COCOA POWDER, SALT, MOLASSES, GUAR GUM, COCOA BUTTER, NATURAL FLAVOR, CARRAGEENAN, MILK FAT, SOY LECITHIN\n",
       "  author   date       stars title                                      \n",
       "1 Justamom 2018-05-08 2     Hey Ben and Jerry where is my cookie dough?\n",
       "  helpful_yes helpful_no\n",
       "1 5           1         \n",
       "  text                                                                                                                                                                                                                                                                                                                                                                                                                                                                                                                                                                                                                                                                                                \n",
       "1 Always have loved your chocolate chip cookie dough ice cream, my husband knows this and came home with some. Well it takes very little to excite me these days but after a day of errands, housework, homework, dinner then getting son to bed all I kept thinking of, was that small tub of heaven in my freezer. So finally I put on some Guilty pleasure reality television snugged into my couch with my favorite blanket and my favorite ice cream only to notice that after a couple spoonfuls......NO COOKIE DOUGH! This can\\342\\200\\231t be correct NOOOOOOOOO!! First I was really doubting I was smarter than a fifth grader and now NO COOKIE DOUGH! Not the ending I needed to this day!\n",
       "  taste ingredients.y texture likes\n",
       "1 NA    NA            NA           "
      ]
     },
     "metadata": {},
     "output_type": "display_data"
    }
   ],
   "source": [
    "# new df is a subset, where there are 978 rows that correspond to the name \"Chocolate Chip Chip Dough\" , brand \"bj\" and key \"16_bj\"\n",
    "ChocolateChipCookieDoughDF <- subset(newmergedDF, (brand == \"bj\") & (key == \"16_bj\"))\n",
    "head(ChocolateChipCookieDoughDF,1)"
   ]
  },
  {
   "cell_type": "code",
   "execution_count": 7,
   "id": "6f7645eb-2735-4a4d-b147-ce81eda38145",
   "metadata": {},
   "outputs": [
    {
     "data": {
      "text/html": [
       "<style>\n",
       ".list-inline {list-style: none; margin:0; padding: 0}\n",
       ".list-inline>li {display: inline-block}\n",
       ".list-inline>li:not(:last-child)::after {content: \"\\00b7\"; padding: 0 .5ex}\n",
       "</style>\n",
       "<ol class=list-inline><li>'brand'</li><li>'key'</li><li>'name'</li><li>'subhead'</li><li>'description'</li><li>'rating'</li><li>'rating_count'</li><li>'ingredients.x'</li><li>'author'</li><li>'date'</li><li>'stars'</li><li>'title'</li><li>'helpful_yes'</li><li>'helpful_no'</li><li>'text'</li><li>'taste'</li><li>'ingredients.y'</li><li>'texture'</li><li>'likes'</li></ol>\n"
      ],
      "text/latex": [
       "\\begin{enumerate*}\n",
       "\\item 'brand'\n",
       "\\item 'key'\n",
       "\\item 'name'\n",
       "\\item 'subhead'\n",
       "\\item 'description'\n",
       "\\item 'rating'\n",
       "\\item 'rating\\_count'\n",
       "\\item 'ingredients.x'\n",
       "\\item 'author'\n",
       "\\item 'date'\n",
       "\\item 'stars'\n",
       "\\item 'title'\n",
       "\\item 'helpful\\_yes'\n",
       "\\item 'helpful\\_no'\n",
       "\\item 'text'\n",
       "\\item 'taste'\n",
       "\\item 'ingredients.y'\n",
       "\\item 'texture'\n",
       "\\item 'likes'\n",
       "\\end{enumerate*}\n"
      ],
      "text/markdown": [
       "1. 'brand'\n",
       "2. 'key'\n",
       "3. 'name'\n",
       "4. 'subhead'\n",
       "5. 'description'\n",
       "6. 'rating'\n",
       "7. 'rating_count'\n",
       "8. 'ingredients.x'\n",
       "9. 'author'\n",
       "10. 'date'\n",
       "11. 'stars'\n",
       "12. 'title'\n",
       "13. 'helpful_yes'\n",
       "14. 'helpful_no'\n",
       "15. 'text'\n",
       "16. 'taste'\n",
       "17. 'ingredients.y'\n",
       "18. 'texture'\n",
       "19. 'likes'\n",
       "\n",
       "\n"
      ],
      "text/plain": [
       " [1] \"brand\"         \"key\"           \"name\"          \"subhead\"      \n",
       " [5] \"description\"   \"rating\"        \"rating_count\"  \"ingredients.x\"\n",
       " [9] \"author\"        \"date\"          \"stars\"         \"title\"        \n",
       "[13] \"helpful_yes\"   \"helpful_no\"    \"text\"          \"taste\"        \n",
       "[17] \"ingredients.y\" \"texture\"       \"likes\"        "
      ]
     },
     "metadata": {},
     "output_type": "display_data"
    },
    {
     "data": {
      "text/html": [
       "<style>\n",
       ".list-inline {list-style: none; margin:0; padding: 0}\n",
       ".list-inline>li {display: inline-block}\n",
       ".list-inline>li:not(:last-child)::after {content: \"\\00b7\"; padding: 0 .5ex}\n",
       "</style>\n",
       "<ol class=list-inline><li>978</li><li>19</li></ol>\n"
      ],
      "text/latex": [
       "\\begin{enumerate*}\n",
       "\\item 978\n",
       "\\item 19\n",
       "\\end{enumerate*}\n"
      ],
      "text/markdown": [
       "1. 978\n",
       "2. 19\n",
       "\n",
       "\n"
      ],
      "text/plain": [
       "[1] 978  19"
      ]
     },
     "metadata": {},
     "output_type": "display_data"
    }
   ],
   "source": [
    "names(ChocolateChipCookieDoughDF)\n",
    "dim(ChocolateChipCookieDoughDF)"
   ]
  },
  {
   "cell_type": "code",
   "execution_count": 8,
   "id": "483c5e86-5a74-4ccd-a8ef-9ae081aa1093",
   "metadata": {},
   "outputs": [
    {
     "data": {
      "text/html": [
       "4.6"
      ],
      "text/latex": [
       "4.6"
      ],
      "text/markdown": [
       "4.6"
      ],
      "text/plain": [
       "[1] 4.6"
      ]
     },
     "metadata": {},
     "output_type": "display_data"
    }
   ],
   "source": [
    "# printing the average number of stars for the 978 reviews in the df\n",
    "mean(ChocolateChipCookieDoughDF$rating)"
   ]
  },
  {
   "cell_type": "markdown",
   "id": "b456e57c-4a12-464b-999a-ef2df5af80c1",
   "metadata": {},
   "source": [
    "* The average number of starts for the 978 review in the df is a rating of **4.6 stars**. So, they have really good over all ratings"
   ]
  },
  {
   "cell_type": "markdown",
   "id": "fc601975-35ed-4680-a4e1-0273ee3cc047",
   "metadata": {},
   "source": [
    "## Question 2"
   ]
  },
  {
   "cell_type": "code",
   "execution_count": 9,
   "id": "a16336a1-1ef0-41e8-bc7c-49387db27497",
   "metadata": {},
   "outputs": [
    {
     "name": "stdout",
     "output_type": "stream",
     "text": [
      "[1] 4.695701\n"
     ]
    }
   ],
   "source": [
    "# code here\n",
    "# find averagae num of `stars` for the reiviews of ice cream with  `name` == \"Half Baked\\302\\256\"\n",
    "specific_reviews <- newmergedDF[newmergedDF$name == \"Half Baked\\302\\256\", ]\n",
    "\n",
    "# checking filtered reviews \n",
    "# print(specific_reviews)\n",
    "\n",
    "# Calculate the average number of stars\n",
    "average_stars <- mean(specific_reviews$stars, na.rm = TRUE)\n",
    "print(average_stars)"
   ]
  },
  {
   "cell_type": "markdown",
   "id": "14dc22d4-ddc3-41cc-a91a-cb0025bc0c80",
   "metadata": {},
   "source": [
    "The average number of stars for the review of ice cream with the name `Half Baked\\302\\256` is around **4.6957 stars**"
   ]
  },
  {
   "cell_type": "markdown",
   "id": "8e586edd-ff26-4ce2-8f6b-2424b26f2929",
   "metadata": {},
   "source": [
    "## Question 3"
   ]
  },
  {
   "cell_type": "code",
   "execution_count": 10,
   "id": "bbe0f40d-9655-4653-9ca8-886bdb61cb91",
   "metadata": {},
   "outputs": [
    {
     "name": "stdout",
     "output_type": "stream",
     "text": [
      "[1] 4.154539\n"
     ]
    }
   ],
   "source": [
    "# code here\n",
    "# Find the products that have \"Chocolate\" in the name\n",
    "chocolate_products <- newmergedDF[grepl(\"Chocolate\", newmergedDF$name, ignore.case = TRUE), ]\n",
    "\n",
    "# checking the filtered data\n",
    "# print(chocolate_products)\n",
    "\n",
    "# average number of stars for items that contain chocolate \n",
    "average_stars_chocolate <- mean(chocolate_products$stars, na.rm = TRUE)\n",
    "\n",
    "# average stars\n",
    "print(average_stars_chocolate)"
   ]
  },
  {
   "cell_type": "markdown",
   "id": "47c6229f-35f7-400c-8366-c442baa5cf47",
   "metadata": {},
   "source": [
    "Seems like chocolate products are really popular with a good score of **4.154 stars**"
   ]
  },
  {
   "cell_type": "markdown",
   "id": "da22f29c-d245-4d2b-9fc1-ca14cb6087d9",
   "metadata": {},
   "source": [
    "## Question 4"
   ]
  },
  {
   "cell_type": "code",
   "execution_count": 11,
   "id": "8cffc767-d1c8-4d64-b7dc-f0d2ee8a80d1",
   "metadata": {},
   "outputs": [],
   "source": [
    "# code here\n",
    "# reading two separate data frames, it is said thta they do not have any columns in common \n",
    "library(data.table)\n",
    "airportsDF <- read.csv(\"/anvil/projects/tdm/data/flights/subset/airports.csv\", stringsAsFactors = FALSE)\n",
    "flightdataDF <- fread(\"/anvil/projects/tdm/data/flights/subset/1990.csv\")"
   ]
  },
  {
   "cell_type": "code",
   "execution_count": 12,
   "id": "3fdde9f1-fc80-47e4-8267-0750c8a172cb",
   "metadata": {},
   "outputs": [
    {
     "data": {
      "text/html": [
       "<table class=\"dataframe\">\n",
       "<caption>A data.frame: 2 x 35</caption>\n",
       "<thead>\n",
       "\t<tr><th></th><th scope=col>iata</th><th scope=col>airport</th><th scope=col>city</th><th scope=col>state</th><th scope=col>country</th><th scope=col>lat</th><th scope=col>long</th><th scope=col>Year</th><th scope=col>Month</th><th scope=col>DayofMonth</th><th scope=col>...</th><th scope=col>TaxiIn</th><th scope=col>TaxiOut</th><th scope=col>Cancelled</th><th scope=col>CancellationCode</th><th scope=col>Diverted</th><th scope=col>CarrierDelay</th><th scope=col>WeatherDelay</th><th scope=col>NASDelay</th><th scope=col>SecurityDelay</th><th scope=col>LateAircraftDelay</th></tr>\n",
       "\t<tr><th></th><th scope=col>&lt;chr&gt;</th><th scope=col>&lt;chr&gt;</th><th scope=col>&lt;chr&gt;</th><th scope=col>&lt;chr&gt;</th><th scope=col>&lt;chr&gt;</th><th scope=col>&lt;dbl&gt;</th><th scope=col>&lt;dbl&gt;</th><th scope=col>&lt;int&gt;</th><th scope=col>&lt;int&gt;</th><th scope=col>&lt;int&gt;</th><th scope=col>...</th><th scope=col>&lt;lgl&gt;</th><th scope=col>&lt;lgl&gt;</th><th scope=col>&lt;int&gt;</th><th scope=col>&lt;lgl&gt;</th><th scope=col>&lt;int&gt;</th><th scope=col>&lt;lgl&gt;</th><th scope=col>&lt;lgl&gt;</th><th scope=col>&lt;lgl&gt;</th><th scope=col>&lt;lgl&gt;</th><th scope=col>&lt;lgl&gt;</th></tr>\n",
       "</thead>\n",
       "<tbody>\n",
       "\t<tr><th scope=row>1</th><td>ABE</td><td>Lehigh Valley International</td><td>Allentown</td><td>PA</td><td>USA</td><td>40.65236</td><td>-75.4404</td><td>1990</td><td>9</td><td>26</td><td>...</td><td>NA</td><td>NA</td><td>0</td><td>NA</td><td>0</td><td>NA</td><td>NA</td><td>NA</td><td>NA</td><td>NA</td></tr>\n",
       "\t<tr><th scope=row>2</th><td>ABE</td><td>Lehigh Valley International</td><td>Allentown</td><td>PA</td><td>USA</td><td>40.65236</td><td>-75.4404</td><td>1990</td><td>9</td><td>28</td><td>...</td><td>NA</td><td>NA</td><td>0</td><td>NA</td><td>0</td><td>NA</td><td>NA</td><td>NA</td><td>NA</td><td>NA</td></tr>\n",
       "</tbody>\n",
       "</table>\n"
      ],
      "text/latex": [
       "A data.frame: 2 x 35\n",
       "\\begin{tabular}{r|lllllllllllllllllllll}\n",
       "  & iata & airport & city & state & country & lat & long & Year & Month & DayofMonth & ... & TaxiIn & TaxiOut & Cancelled & CancellationCode & Diverted & CarrierDelay & WeatherDelay & NASDelay & SecurityDelay & LateAircraftDelay\\\\\n",
       "  & <chr> & <chr> & <chr> & <chr> & <chr> & <dbl> & <dbl> & <int> & <int> & <int> & ... & <lgl> & <lgl> & <int> & <lgl> & <int> & <lgl> & <lgl> & <lgl> & <lgl> & <lgl>\\\\\n",
       "\\hline\n",
       "\t1 & ABE & Lehigh Valley International & Allentown & PA & USA & 40.65236 & -75.4404 & 1990 & 9 & 26 & ... & NA & NA & 0 & NA & 0 & NA & NA & NA & NA & NA\\\\\n",
       "\t2 & ABE & Lehigh Valley International & Allentown & PA & USA & 40.65236 & -75.4404 & 1990 & 9 & 28 & ... & NA & NA & 0 & NA & 0 & NA & NA & NA & NA & NA\\\\\n",
       "\\end{tabular}\n"
      ],
      "text/markdown": [
       "\n",
       "A data.frame: 2 x 35\n",
       "\n",
       "| <!--/--> | iata &lt;chr&gt; | airport &lt;chr&gt; | city &lt;chr&gt; | state &lt;chr&gt; | country &lt;chr&gt; | lat &lt;dbl&gt; | long &lt;dbl&gt; | Year &lt;int&gt; | Month &lt;int&gt; | DayofMonth &lt;int&gt; | ... ... | TaxiIn &lt;lgl&gt; | TaxiOut &lt;lgl&gt; | Cancelled &lt;int&gt; | CancellationCode &lt;lgl&gt; | Diverted &lt;int&gt; | CarrierDelay &lt;lgl&gt; | WeatherDelay &lt;lgl&gt; | NASDelay &lt;lgl&gt; | SecurityDelay &lt;lgl&gt; | LateAircraftDelay &lt;lgl&gt; |\n",
       "|---|---|---|---|---|---|---|---|---|---|---|---|---|---|---|---|---|---|---|---|---|---|\n",
       "| 1 | ABE | Lehigh Valley International | Allentown | PA | USA | 40.65236 | -75.4404 | 1990 | 9 | 26 | ... | NA | NA | 0 | NA | 0 | NA | NA | NA | NA | NA |\n",
       "| 2 | ABE | Lehigh Valley International | Allentown | PA | USA | 40.65236 | -75.4404 | 1990 | 9 | 28 | ... | NA | NA | 0 | NA | 0 | NA | NA | NA | NA | NA |\n",
       "\n"
      ],
      "text/plain": [
       "  iata airport                     city      state country lat      long    \n",
       "1 ABE  Lehigh Valley International Allentown PA    USA     40.65236 -75.4404\n",
       "2 ABE  Lehigh Valley International Allentown PA    USA     40.65236 -75.4404\n",
       "  Year Month DayofMonth ... TaxiIn TaxiOut Cancelled CancellationCode Diverted\n",
       "1 1990 9     26         ... NA     NA      0         NA               0       \n",
       "2 1990 9     28         ... NA     NA      0         NA               0       \n",
       "  CarrierDelay WeatherDelay NASDelay SecurityDelay LateAircraftDelay\n",
       "1 NA           NA           NA       NA            NA               \n",
       "2 NA           NA           NA       NA            NA               "
      ]
     },
     "metadata": {},
     "output_type": "display_data"
    }
   ],
   "source": [
    "# but these two df have some features that might match the other\n",
    "# in airportDF has an attribute \"iata\" which contain three-letter codes corresponding to airports\n",
    "# similar to `origin` and `Dest` attributes found in flightdataDF\n",
    "# so we are merging iata and Origin which studies when the flight departs\n",
    "mybigDF <- merge(airportsDF, flightdataDF, by.x = \"iata\", by.y = \"Origin\")\n",
    "head(mybigDF, 2)"
   ]
  },
  {
   "cell_type": "code",
   "execution_count": 13,
   "id": "5d63441f-d8e1-4af8-bee3-257a36f95eb8",
   "metadata": {},
   "outputs": [
    {
     "name": "stdout",
     "output_type": "stream",
     "text": [
      "[1] 5.370691\n"
     ]
    }
   ],
   "source": [
    "# filtering only flights made in Indiana\n",
    "Indiana_flights <- mybigDF[mybigDF$state == \"IN\", ]\n",
    "# str(Indiana_flights)\n",
    "# names(Indiana_flights)\n",
    "\n",
    "# calculating the average departure delay\n",
    "average_dep_delay <- mean(Indiana_flights$DepDelay, na.rm = TRUE)\n",
    "\n",
    "# avg dep delay\n",
    "print(average_dep_delay)"
   ]
  },
  {
   "cell_type": "markdown",
   "id": "0d552245-b4d6-474a-9cc9-fa7b8e674d55",
   "metadata": {},
   "source": [
    "The average departure delay for all flights whose origin is **Indiana** is aroud **5.3707**"
   ]
  },
  {
   "cell_type": "markdown",
   "id": "88c9cdac-3e92-498f-83fa-e089bfc44ac8",
   "metadata": {},
   "source": [
    "## Question 5"
   ]
  },
  {
   "cell_type": "code",
   "execution_count": 14,
   "id": "d370d7c9-06db-42b9-b75f-240481a5c491",
   "metadata": {},
   "outputs": [
    {
     "name": "stdout",
     "output_type": "stream",
     "text": [
      "[1] 7.802326\n"
     ]
    }
   ],
   "source": [
    "# filtering only flights made in Texas\n",
    "Texas_flights <- mybigDF[mybigDF$state == \"TX\", ]\n",
    "# names(Texas_flights)\n",
    "# calculating the average departure delay\n",
    "average_dep_delay <- mean(Texas_flights$DepDelay, na.rm = TRUE)\n",
    "# avg dep delay\n",
    "print(average_dep_delay)"
   ]
  },
  {
   "cell_type": "markdown",
   "id": "9fbf00fb-2418-460f-ae94-2a32b0c28952",
   "metadata": {},
   "source": [
    "The average departure delay for all flights whose origin is **Texas** is aroud **7.8023**"
   ]
  },
  {
   "cell_type": "markdown",
   "id": "f76442d6-d02e-4f26-b9d6-c3183e1d6929",
   "metadata": {},
   "source": [
    "## Pledge\n",
    "\n",
    "By submitting this work I hereby pledge that this is my own, personal work. I've acknowledged in the designated place at the top of this file all sources that I used to complete said work, including but not limited to: online resources, books, and electronic communications. I've noted all collaboration with fellow students and/or TA's. I did not copy or plagiarize another's work.\n",
    "\n",
    "> As a Boilermaker pursuing academic excellence, I pledge to be honest and true in all that I do. Accountable together – We are Purdue."
   ]
  }
 ],
 "metadata": {
  "kernelspec": {
   "display_name": "seminar-r",
   "language": "R",
   "name": "seminar-r"
  },
  "language_info": {
   "codemirror_mode": "r",
   "file_extension": ".r",
   "mimetype": "text/x-r-source",
   "name": "R",
   "pygments_lexer": "r",
   "version": "4.4.1"
  }
 },
 "nbformat": 4,
 "nbformat_minor": 5
}
