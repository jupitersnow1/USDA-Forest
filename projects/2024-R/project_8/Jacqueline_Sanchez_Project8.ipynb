{
 "cells": [
  {
   "cell_type": "markdown",
   "id": "be02a957-7133-4d02-818e-fedeb3cecb05",
   "metadata": {},
   "source": [
    "# Project 8 -- Jacqueline Sanchez"
   ]
  },
  {
   "cell_type": "markdown",
   "id": "a1228853-dd19-4ab2-89e0-0394d7d72de3",
   "metadata": {},
   "source": [
    "**TA Help:** N/A\n",
    "\n",
    "- \n",
    "    \n",
    "**Collaboration:** N/A\n",
    "    \n",
    "- \n",
    "- "
   ]
  },
  {
   "cell_type": "markdown",
   "id": "6180e742-8e39-4698-98ff-5b00c8cf8ea0",
   "metadata": {},
   "source": [
    "## Question 1"
   ]
  },
  {
   "cell_type": "code",
   "execution_count": 1,
   "id": "49445606-d363-41b4-b479-e319a9a84c01",
   "metadata": {},
   "outputs": [
    {
     "data": {
      "text/html": [
       "<table class=\"dataframe\">\n",
       "<caption>A data.table: 6 x 38</caption>\n",
       "<thead>\n",
       "\t<tr><th scope=col>Id</th><th scope=col>ResidentStatus</th><th scope=col>Education1989Revision</th><th scope=col>Education2003Revision</th><th scope=col>EducationReportingFlag</th><th scope=col>MonthOfDeath</th><th scope=col>Sex</th><th scope=col>AgeType</th><th scope=col>Age</th><th scope=col>AgeSubstitutionFlag</th><th scope=col>...</th><th scope=col>CauseRecode39</th><th scope=col>NumberOfEntityAxisConditions</th><th scope=col>NumberOfRecordAxisConditions</th><th scope=col>Race</th><th scope=col>BridgedRaceFlag</th><th scope=col>RaceImputationFlag</th><th scope=col>RaceRecode3</th><th scope=col>RaceRecode5</th><th scope=col>HispanicOrigin</th><th scope=col>HispanicOriginRaceRecode</th></tr>\n",
       "\t<tr><th scope=col>&lt;int&gt;</th><th scope=col>&lt;int&gt;</th><th scope=col>&lt;int&gt;</th><th scope=col>&lt;int&gt;</th><th scope=col>&lt;int&gt;</th><th scope=col>&lt;int&gt;</th><th scope=col>&lt;chr&gt;</th><th scope=col>&lt;int&gt;</th><th scope=col>&lt;int&gt;</th><th scope=col>&lt;int&gt;</th><th scope=col>...</th><th scope=col>&lt;int&gt;</th><th scope=col>&lt;int&gt;</th><th scope=col>&lt;int&gt;</th><th scope=col>&lt;int&gt;</th><th scope=col>&lt;int&gt;</th><th scope=col>&lt;int&gt;</th><th scope=col>&lt;int&gt;</th><th scope=col>&lt;int&gt;</th><th scope=col>&lt;int&gt;</th><th scope=col>&lt;int&gt;</th></tr>\n",
       "</thead>\n",
       "<tbody>\n",
       "\t<tr><td>1</td><td>1</td><td>0</td><td>2</td><td>1</td><td>1</td><td>M</td><td>1</td><td>87</td><td>0</td><td>...</td><td>24</td><td>1</td><td>1</td><td>1</td><td>0</td><td>0</td><td>1</td><td>1</td><td>100</td><td>6</td></tr>\n",
       "\t<tr><td>2</td><td>1</td><td>0</td><td>2</td><td>1</td><td>1</td><td>M</td><td>1</td><td>58</td><td>0</td><td>...</td><td>21</td><td>3</td><td>3</td><td>1</td><td>0</td><td>0</td><td>1</td><td>1</td><td>100</td><td>6</td></tr>\n",
       "\t<tr><td>3</td><td>1</td><td>0</td><td>7</td><td>1</td><td>1</td><td>F</td><td>1</td><td>75</td><td>0</td><td>...</td><td>28</td><td>2</td><td>2</td><td>1</td><td>0</td><td>0</td><td>1</td><td>1</td><td>100</td><td>6</td></tr>\n",
       "\t<tr><td>4</td><td>1</td><td>0</td><td>6</td><td>1</td><td>1</td><td>M</td><td>1</td><td>74</td><td>0</td><td>...</td><td>22</td><td>3</td><td>3</td><td>1</td><td>0</td><td>0</td><td>1</td><td>1</td><td>100</td><td>6</td></tr>\n",
       "\t<tr><td>5</td><td>1</td><td>0</td><td>3</td><td>1</td><td>1</td><td>M</td><td>1</td><td>64</td><td>0</td><td>...</td><td>21</td><td>1</td><td>1</td><td>1</td><td>0</td><td>0</td><td>1</td><td>1</td><td>100</td><td>6</td></tr>\n",
       "\t<tr><td>6</td><td>1</td><td>0</td><td>5</td><td>1</td><td>1</td><td>F</td><td>1</td><td>93</td><td>0</td><td>...</td><td>37</td><td>5</td><td>5</td><td>1</td><td>0</td><td>0</td><td>1</td><td>1</td><td>100</td><td>6</td></tr>\n",
       "</tbody>\n",
       "</table>\n"
      ],
      "text/latex": [
       "A data.table: 6 x 38\n",
       "\\begin{tabular}{lllllllllllllllllllll}\n",
       " Id & ResidentStatus & Education1989Revision & Education2003Revision & EducationReportingFlag & MonthOfDeath & Sex & AgeType & Age & AgeSubstitutionFlag & ... & CauseRecode39 & NumberOfEntityAxisConditions & NumberOfRecordAxisConditions & Race & BridgedRaceFlag & RaceImputationFlag & RaceRecode3 & RaceRecode5 & HispanicOrigin & HispanicOriginRaceRecode\\\\\n",
       " <int> & <int> & <int> & <int> & <int> & <int> & <chr> & <int> & <int> & <int> & ... & <int> & <int> & <int> & <int> & <int> & <int> & <int> & <int> & <int> & <int>\\\\\n",
       "\\hline\n",
       "\t 1 & 1 & 0 & 2 & 1 & 1 & M & 1 & 87 & 0 & ... & 24 & 1 & 1 & 1 & 0 & 0 & 1 & 1 & 100 & 6\\\\\n",
       "\t 2 & 1 & 0 & 2 & 1 & 1 & M & 1 & 58 & 0 & ... & 21 & 3 & 3 & 1 & 0 & 0 & 1 & 1 & 100 & 6\\\\\n",
       "\t 3 & 1 & 0 & 7 & 1 & 1 & F & 1 & 75 & 0 & ... & 28 & 2 & 2 & 1 & 0 & 0 & 1 & 1 & 100 & 6\\\\\n",
       "\t 4 & 1 & 0 & 6 & 1 & 1 & M & 1 & 74 & 0 & ... & 22 & 3 & 3 & 1 & 0 & 0 & 1 & 1 & 100 & 6\\\\\n",
       "\t 5 & 1 & 0 & 3 & 1 & 1 & M & 1 & 64 & 0 & ... & 21 & 1 & 1 & 1 & 0 & 0 & 1 & 1 & 100 & 6\\\\\n",
       "\t 6 & 1 & 0 & 5 & 1 & 1 & F & 1 & 93 & 0 & ... & 37 & 5 & 5 & 1 & 0 & 0 & 1 & 1 & 100 & 6\\\\\n",
       "\\end{tabular}\n"
      ],
      "text/markdown": [
       "\n",
       "A data.table: 6 x 38\n",
       "\n",
       "| Id &lt;int&gt; | ResidentStatus &lt;int&gt; | Education1989Revision &lt;int&gt; | Education2003Revision &lt;int&gt; | EducationReportingFlag &lt;int&gt; | MonthOfDeath &lt;int&gt; | Sex &lt;chr&gt; | AgeType &lt;int&gt; | Age &lt;int&gt; | AgeSubstitutionFlag &lt;int&gt; | ... ... | CauseRecode39 &lt;int&gt; | NumberOfEntityAxisConditions &lt;int&gt; | NumberOfRecordAxisConditions &lt;int&gt; | Race &lt;int&gt; | BridgedRaceFlag &lt;int&gt; | RaceImputationFlag &lt;int&gt; | RaceRecode3 &lt;int&gt; | RaceRecode5 &lt;int&gt; | HispanicOrigin &lt;int&gt; | HispanicOriginRaceRecode &lt;int&gt; |\n",
       "|---|---|---|---|---|---|---|---|---|---|---|---|---|---|---|---|---|---|---|---|---|\n",
       "| 1 | 1 | 0 | 2 | 1 | 1 | M | 1 | 87 | 0 | ... | 24 | 1 | 1 | 1 | 0 | 0 | 1 | 1 | 100 | 6 |\n",
       "| 2 | 1 | 0 | 2 | 1 | 1 | M | 1 | 58 | 0 | ... | 21 | 3 | 3 | 1 | 0 | 0 | 1 | 1 | 100 | 6 |\n",
       "| 3 | 1 | 0 | 7 | 1 | 1 | F | 1 | 75 | 0 | ... | 28 | 2 | 2 | 1 | 0 | 0 | 1 | 1 | 100 | 6 |\n",
       "| 4 | 1 | 0 | 6 | 1 | 1 | M | 1 | 74 | 0 | ... | 22 | 3 | 3 | 1 | 0 | 0 | 1 | 1 | 100 | 6 |\n",
       "| 5 | 1 | 0 | 3 | 1 | 1 | M | 1 | 64 | 0 | ... | 21 | 1 | 1 | 1 | 0 | 0 | 1 | 1 | 100 | 6 |\n",
       "| 6 | 1 | 0 | 5 | 1 | 1 | F | 1 | 93 | 0 | ... | 37 | 5 | 5 | 1 | 0 | 0 | 1 | 1 | 100 | 6 |\n",
       "\n"
      ],
      "text/plain": [
       "  Id ResidentStatus Education1989Revision Education2003Revision\n",
       "1 1  1              0                     2                    \n",
       "2 2  1              0                     2                    \n",
       "3 3  1              0                     7                    \n",
       "4 4  1              0                     6                    \n",
       "5 5  1              0                     3                    \n",
       "6 6  1              0                     5                    \n",
       "  EducationReportingFlag MonthOfDeath Sex AgeType Age AgeSubstitutionFlag ...\n",
       "1 1                      1            M   1       87  0                   ...\n",
       "2 1                      1            M   1       58  0                   ...\n",
       "3 1                      1            F   1       75  0                   ...\n",
       "4 1                      1            M   1       74  0                   ...\n",
       "5 1                      1            M   1       64  0                   ...\n",
       "6 1                      1            F   1       93  0                   ...\n",
       "  CauseRecode39 NumberOfEntityAxisConditions NumberOfRecordAxisConditions Race\n",
       "1 24            1                            1                            1   \n",
       "2 21            3                            3                            1   \n",
       "3 28            2                            2                            1   \n",
       "4 22            3                            3                            1   \n",
       "5 21            1                            1                            1   \n",
       "6 37            5                            5                            1   \n",
       "  BridgedRaceFlag RaceImputationFlag RaceRecode3 RaceRecode5 HispanicOrigin\n",
       "1 0               0                  1           1           100           \n",
       "2 0               0                  1           1           100           \n",
       "3 0               0                  1           1           100           \n",
       "4 0               0                  1           1           100           \n",
       "5 0               0                  1           1           100           \n",
       "6 0               0                  1           1           100           \n",
       "  HispanicOriginRaceRecode\n",
       "1 6                       \n",
       "2 6                       \n",
       "3 6                       \n",
       "4 6                       \n",
       "5 6                       \n",
       "6 6                       "
      ]
     },
     "metadata": {},
     "output_type": "display_data"
    }
   ],
   "source": [
    "library(data.table)\n",
    "\n",
    "# code here\n",
    "myDF <- fread(\"/anvil/projects/tdm/data/death_records/DeathRecords.csv\")\n",
    "head(myDF)"
   ]
  },
  {
   "cell_type": "code",
   "execution_count": 2,
   "id": "182ed963-3577-4fbb-b156-430b16908e19",
   "metadata": {},
   "outputs": [
    {
     "data": {
      "text/plain": [
       "\n",
       "        F         M      <NA> \n",
       "0.4939664 0.5060336 0.0000000 "
      ]
     },
     "metadata": {},
     "output_type": "display_data"
    }
   ],
   "source": [
    "# (a) marketable function for `sex` column\n",
    "prop.table(table(myDF$Sex, useNA=\"always\"))"
   ]
  },
  {
   "cell_type": "code",
   "execution_count": 3,
   "id": "f6f1f0e3-0630-409b-90b4-261f950e594a",
   "metadata": {},
   "outputs": [
    {
     "data": {
      "text/plain": [
       "\n",
       "          D           M           S           U           W        <NA> \n",
       "0.152388043 0.372463819 0.126575962 0.007112043 0.341460133 0.000000000 "
      ]
     },
     "metadata": {},
     "output_type": "display_data"
    }
   ],
   "source": [
    "# (b) marketable function of values from the `MartialStatus` column \n",
    "prop.table(table(myDF$MaritalStatus, useNA=\"always\"))"
   ]
  },
  {
   "cell_type": "markdown",
   "id": "b456e57c-4a12-464b-999a-ef2df5af80c1",
   "metadata": {},
   "source": [
    "Markdown notes and sentences and analysis written here."
   ]
  },
  {
   "cell_type": "markdown",
   "id": "fc601975-35ed-4680-a4e1-0273ee3cc047",
   "metadata": {},
   "source": [
    "## Question 2"
   ]
  },
  {
   "cell_type": "code",
   "execution_count": 4,
   "id": "a16336a1-1ef0-41e8-bc7c-49387db27497",
   "metadata": {},
   "outputs": [],
   "source": [
    "# defining a function named `teenagecount` \n",
    "teenagecount <- function(x) {length(x[(x >= 13) & (x <= 19) & (!is.na(x))])}"
   ]
  },
  {
   "cell_type": "code",
   "execution_count": 5,
   "id": "b485636b-98fd-4bc1-b89a-8b86f9b4b8c8",
   "metadata": {},
   "outputs": [
    {
     "data": {
      "text/html": [
       "12643"
      ],
      "text/latex": [
       "12643"
      ],
      "text/markdown": [
       "12643"
      ],
      "text/plain": [
       "[1] 12643"
      ]
     },
     "metadata": {},
     "output_type": "display_data"
    }
   ],
   "source": [
    "# (a) trying `teenagecount` on `Age column\n",
    "teenagecount(myDF$Age)"
   ]
  },
  {
   "cell_type": "code",
   "execution_count": 6,
   "id": "1cb62250-672c-46da-885a-14884ea9e79d",
   "metadata": {},
   "outputs": [
    {
     "data": {
      "text/html": [
       "<table class=\"dataframe\">\n",
       "<caption>A data.table: 6 x 15</caption>\n",
       "<thead>\n",
       "\t<tr><th scope=col>ID</th><th scope=col>Name</th><th scope=col>Sex</th><th scope=col>Age</th><th scope=col>Height</th><th scope=col>Weight</th><th scope=col>Team</th><th scope=col>NOC</th><th scope=col>Games</th><th scope=col>Year</th><th scope=col>Season</th><th scope=col>City</th><th scope=col>Sport</th><th scope=col>Event</th><th scope=col>Medal</th></tr>\n",
       "\t<tr><th scope=col>&lt;int&gt;</th><th scope=col>&lt;chr&gt;</th><th scope=col>&lt;chr&gt;</th><th scope=col>&lt;int&gt;</th><th scope=col>&lt;int&gt;</th><th scope=col>&lt;dbl&gt;</th><th scope=col>&lt;chr&gt;</th><th scope=col>&lt;chr&gt;</th><th scope=col>&lt;chr&gt;</th><th scope=col>&lt;int&gt;</th><th scope=col>&lt;chr&gt;</th><th scope=col>&lt;chr&gt;</th><th scope=col>&lt;chr&gt;</th><th scope=col>&lt;chr&gt;</th><th scope=col>&lt;chr&gt;</th></tr>\n",
       "</thead>\n",
       "<tbody>\n",
       "\t<tr><td>1</td><td>A Dijiang               </td><td>M</td><td>24</td><td>180</td><td>80</td><td>China         </td><td>CHN</td><td>1992 Summer</td><td>1992</td><td>Summer</td><td>Barcelona</td><td>Basketball   </td><td>Basketball Men's Basketball       </td><td>NA  </td></tr>\n",
       "\t<tr><td>2</td><td>A Lamusi                </td><td>M</td><td>23</td><td>170</td><td>60</td><td>China         </td><td>CHN</td><td>2012 Summer</td><td>2012</td><td>Summer</td><td>London   </td><td>Judo         </td><td>Judo Men's Extra-Lightweight      </td><td>NA  </td></tr>\n",
       "\t<tr><td>3</td><td>Gunnar Nielsen Aaby     </td><td>M</td><td>24</td><td> NA</td><td>NA</td><td>Denmark       </td><td>DEN</td><td>1920 Summer</td><td>1920</td><td>Summer</td><td>Antwerpen</td><td>Football     </td><td>Football Men's Football           </td><td>NA  </td></tr>\n",
       "\t<tr><td>4</td><td>Edgar Lindenau Aabye    </td><td>M</td><td>34</td><td> NA</td><td>NA</td><td>Denmark/Sweden</td><td>DEN</td><td>1900 Summer</td><td>1900</td><td>Summer</td><td>Paris    </td><td>Tug-Of-War   </td><td>Tug-Of-War Men's Tug-Of-War       </td><td>Gold</td></tr>\n",
       "\t<tr><td>5</td><td>Christine Jacoba Aaftink</td><td>F</td><td>21</td><td>185</td><td>82</td><td>Netherlands   </td><td>NED</td><td>1988 Winter</td><td>1988</td><td>Winter</td><td>Calgary  </td><td>Speed Skating</td><td>Speed Skating Women's 500 metres  </td><td>NA  </td></tr>\n",
       "\t<tr><td>5</td><td>Christine Jacoba Aaftink</td><td>F</td><td>21</td><td>185</td><td>82</td><td>Netherlands   </td><td>NED</td><td>1988 Winter</td><td>1988</td><td>Winter</td><td>Calgary  </td><td>Speed Skating</td><td>Speed Skating Women's 1,000 metres</td><td>NA  </td></tr>\n",
       "</tbody>\n",
       "</table>\n"
      ],
      "text/latex": [
       "A data.table: 6 x 15\n",
       "\\begin{tabular}{lllllllllllllll}\n",
       " ID & Name & Sex & Age & Height & Weight & Team & NOC & Games & Year & Season & City & Sport & Event & Medal\\\\\n",
       " <int> & <chr> & <chr> & <int> & <int> & <dbl> & <chr> & <chr> & <chr> & <int> & <chr> & <chr> & <chr> & <chr> & <chr>\\\\\n",
       "\\hline\n",
       "\t 1 & A Dijiang                & M & 24 & 180 & 80 & China          & CHN & 1992 Summer & 1992 & Summer & Barcelona & Basketball    & Basketball Men's Basketball        & NA  \\\\\n",
       "\t 2 & A Lamusi                 & M & 23 & 170 & 60 & China          & CHN & 2012 Summer & 2012 & Summer & London    & Judo          & Judo Men's Extra-Lightweight       & NA  \\\\\n",
       "\t 3 & Gunnar Nielsen Aaby      & M & 24 &  NA & NA & Denmark        & DEN & 1920 Summer & 1920 & Summer & Antwerpen & Football      & Football Men's Football            & NA  \\\\\n",
       "\t 4 & Edgar Lindenau Aabye     & M & 34 &  NA & NA & Denmark/Sweden & DEN & 1900 Summer & 1900 & Summer & Paris     & Tug-Of-War    & Tug-Of-War Men's Tug-Of-War        & Gold\\\\\n",
       "\t 5 & Christine Jacoba Aaftink & F & 21 & 185 & 82 & Netherlands    & NED & 1988 Winter & 1988 & Winter & Calgary   & Speed Skating & Speed Skating Women's 500 metres   & NA  \\\\\n",
       "\t 5 & Christine Jacoba Aaftink & F & 21 & 185 & 82 & Netherlands    & NED & 1988 Winter & 1988 & Winter & Calgary   & Speed Skating & Speed Skating Women's 1,000 metres & NA  \\\\\n",
       "\\end{tabular}\n"
      ],
      "text/markdown": [
       "\n",
       "A data.table: 6 x 15\n",
       "\n",
       "| ID &lt;int&gt; | Name &lt;chr&gt; | Sex &lt;chr&gt; | Age &lt;int&gt; | Height &lt;int&gt; | Weight &lt;dbl&gt; | Team &lt;chr&gt; | NOC &lt;chr&gt; | Games &lt;chr&gt; | Year &lt;int&gt; | Season &lt;chr&gt; | City &lt;chr&gt; | Sport &lt;chr&gt; | Event &lt;chr&gt; | Medal &lt;chr&gt; |\n",
       "|---|---|---|---|---|---|---|---|---|---|---|---|---|---|---|\n",
       "| 1 | A Dijiang                | M | 24 | 180 | 80 | China          | CHN | 1992 Summer | 1992 | Summer | Barcelona | Basketball    | Basketball Men's Basketball        | NA   |\n",
       "| 2 | A Lamusi                 | M | 23 | 170 | 60 | China          | CHN | 2012 Summer | 2012 | Summer | London    | Judo          | Judo Men's Extra-Lightweight       | NA   |\n",
       "| 3 | Gunnar Nielsen Aaby      | M | 24 |  NA | NA | Denmark        | DEN | 1920 Summer | 1920 | Summer | Antwerpen | Football      | Football Men's Football            | NA   |\n",
       "| 4 | Edgar Lindenau Aabye     | M | 34 |  NA | NA | Denmark/Sweden | DEN | 1900 Summer | 1900 | Summer | Paris     | Tug-Of-War    | Tug-Of-War Men's Tug-Of-War        | Gold |\n",
       "| 5 | Christine Jacoba Aaftink | F | 21 | 185 | 82 | Netherlands    | NED | 1988 Winter | 1988 | Winter | Calgary   | Speed Skating | Speed Skating Women's 500 metres   | NA   |\n",
       "| 5 | Christine Jacoba Aaftink | F | 21 | 185 | 82 | Netherlands    | NED | 1988 Winter | 1988 | Winter | Calgary   | Speed Skating | Speed Skating Women's 1,000 metres | NA   |\n",
       "\n"
      ],
      "text/plain": [
       "  ID Name                     Sex Age Height Weight Team           NOC\n",
       "1 1  A Dijiang                M   24  180    80     China          CHN\n",
       "2 2  A Lamusi                 M   23  170    60     China          CHN\n",
       "3 3  Gunnar Nielsen Aaby      M   24   NA    NA     Denmark        DEN\n",
       "4 4  Edgar Lindenau Aabye     M   34   NA    NA     Denmark/Sweden DEN\n",
       "5 5  Christine Jacoba Aaftink F   21  185    82     Netherlands    NED\n",
       "6 5  Christine Jacoba Aaftink F   21  185    82     Netherlands    NED\n",
       "  Games       Year Season City      Sport        \n",
       "1 1992 Summer 1992 Summer Barcelona Basketball   \n",
       "2 2012 Summer 2012 Summer London    Judo         \n",
       "3 1920 Summer 1920 Summer Antwerpen Football     \n",
       "4 1900 Summer 1900 Summer Paris     Tug-Of-War   \n",
       "5 1988 Winter 1988 Winter Calgary   Speed Skating\n",
       "6 1988 Winter 1988 Winter Calgary   Speed Skating\n",
       "  Event                              Medal\n",
       "1 Basketball Men's Basketball        NA   \n",
       "2 Judo Men's Extra-Lightweight       NA   \n",
       "3 Football Men's Football            NA   \n",
       "4 Tug-Of-War Men's Tug-Of-War        Gold \n",
       "5 Speed Skating Women's 500 metres   NA   \n",
       "6 Speed Skating Women's 1,000 metres NA   "
      ]
     },
     "metadata": {},
     "output_type": "display_data"
    }
   ],
   "source": [
    "myDF_OlympicsAthelte <- fread(\"/anvil/projects/tdm/data/olympics/athlete_events.csv\")\n",
    "head(myDF_OlympicsAthelte)"
   ]
  },
  {
   "cell_type": "code",
   "execution_count": 7,
   "id": "226c636f-0ead-4301-abdf-3ae61ab9cc92",
   "metadata": {},
   "outputs": [
    {
     "data": {
      "text/html": [
       "32250"
      ],
      "text/latex": [
       "32250"
      ],
      "text/markdown": [
       "32250"
      ],
      "text/plain": [
       "[1] 32250"
      ]
     },
     "metadata": {},
     "output_type": "display_data"
    }
   ],
   "source": [
    "# (b) applying the teenagecount to Olympics athetlete data set. \n",
    "teenagecount(myDF_OlympicsAthelte$Age)\n",
    "\n",
    "# myDF <- read.csv(\"/anvil/projects/tdm/data/olympics/athlete_events.csv\")"
   ]
  },
  {
   "cell_type": "markdown",
   "id": "14dc22d4-ddc3-41cc-a91a-cb0025bc0c80",
   "metadata": {},
   "source": [
    "Markdown notes and sentences and analysis written here."
   ]
  },
  {
   "cell_type": "markdown",
   "id": "8e586edd-ff26-4ce2-8f6b-2424b26f2929",
   "metadata": {},
   "source": [
    "## Question 3"
   ]
  },
  {
   "cell_type": "code",
   "execution_count": 8,
   "id": "bbe0f40d-9655-4653-9ca8-886bdb61cb91",
   "metadata": {},
   "outputs": [],
   "source": [
    "# defining the longesttest function \n",
    "longesttest <- function(x) {x[which.max(nchar(x))]}"
   ]
  },
  {
   "cell_type": "code",
   "execution_count": 9,
   "id": "72c98fad-620e-4ab3-9cd7-5ecc2f05f443",
   "metadata": {},
   "outputs": [
    {
     "data": {
      "text/html": [
       "<table class=\"dataframe\">\n",
       "<caption>A data.table: 1 x 10</caption>\n",
       "<thead>\n",
       "\t<tr><th scope=col>beer_id</th><th scope=col>username</th><th scope=col>date</th><th scope=col>text</th><th scope=col>look</th><th scope=col>smell</th><th scope=col>taste</th><th scope=col>feel</th><th scope=col>overall</th><th scope=col>score</th></tr>\n",
       "\t<tr><th scope=col>&lt;int&gt;</th><th scope=col>&lt;chr&gt;</th><th scope=col>&lt;IDate&gt;</th><th scope=col>&lt;chr&gt;</th><th scope=col>&lt;dbl&gt;</th><th scope=col>&lt;dbl&gt;</th><th scope=col>&lt;dbl&gt;</th><th scope=col>&lt;dbl&gt;</th><th scope=col>&lt;dbl&gt;</th><th scope=col>&lt;dbl&gt;</th></tr>\n",
       "</thead>\n",
       "<tbody>\n",
       "\t<tr><td>271781</td><td>bluejacket74</td><td>2017-03-17</td><td><c2><a0><c2><a0> 750 ml bottle, 2016 vintage, bottle #304 of 360. Served in a DFH snifter, the beer pours dark brown/black with about an inch tan head that stuck around a little while. There's also a good amount of lacing. I like the aroma, the brew smells like dark fruit (raisin, plum), chocolate, roasted malt, and a bit of licorice. For the most part I think the taste is just like the aroma, but with some coffee flavor noticeable too. Mouthfeel/body is medium/full, it's creamy and coating with a moderate amount of carbonation. I think it's a good overall brew, worth picking up if you want a nice straight forward imperial stout. Here's hoping Four String brings this back in the future! $9.99 a bottle. <c2><a0></td><td>4</td><td>4</td><td>4</td><td>4.25</td><td>4</td><td>4.03</td></tr>\n",
       "</tbody>\n",
       "</table>\n"
      ],
      "text/latex": [
       "A data.table: 1 x 10\n",
       "\\begin{tabular}{llllllllll}\n",
       " beer\\_id & username & date & text & look & smell & taste & feel & overall & score\\\\\n",
       " <int> & <chr> & <IDate> & <chr> & <dbl> & <dbl> & <dbl> & <dbl> & <dbl> & <dbl>\\\\\n",
       "\\hline\n",
       "\t 271781 & bluejacket74 & 2017-03-17 & <c2><a0><c2><a0> 750 ml bottle, 2016 vintage, bottle \\#304 of 360. Served in a DFH snifter, the beer pours dark brown/black with about an inch tan head that stuck around a little while. There's also a good amount of lacing. I like the aroma, the brew smells like dark fruit (raisin, plum), chocolate, roasted malt, and a bit of licorice. For the most part I think the taste is just like the aroma, but with some coffee flavor noticeable too. Mouthfeel/body is medium/full, it's creamy and coating with a moderate amount of carbonation. I think it's a good overall brew, worth picking up if you want a nice straight forward imperial stout. Here's hoping Four String brings this back in the future! \\$9.99 a bottle. <c2><a0> & 4 & 4 & 4 & 4.25 & 4 & 4.03\\\\\n",
       "\\end{tabular}\n"
      ],
      "text/markdown": [
       "\n",
       "A data.table: 1 x 10\n",
       "\n",
       "| beer_id &lt;int&gt; | username &lt;chr&gt; | date &lt;IDate&gt; | text &lt;chr&gt; | look &lt;dbl&gt; | smell &lt;dbl&gt; | taste &lt;dbl&gt; | feel &lt;dbl&gt; | overall &lt;dbl&gt; | score &lt;dbl&gt; |\n",
       "|---|---|---|---|---|---|---|---|---|---|\n",
       "| 271781 | bluejacket74 | 2017-03-17 | <c2><a0><c2><a0> 750 ml bottle, 2016 vintage, bottle #304 of 360. Served in a DFH snifter, the beer pours dark brown/black with about an inch tan head that stuck around a little while. There's also a good amount of lacing. I like the aroma, the brew smells like dark fruit (raisin, plum), chocolate, roasted malt, and a bit of licorice. For the most part I think the taste is just like the aroma, but with some coffee flavor noticeable too. Mouthfeel/body is medium/full, it's creamy and coating with a moderate amount of carbonation. I think it's a good overall brew, worth picking up if you want a nice straight forward imperial stout. Here's hoping Four String brings this back in the future! $9.99 a bottle. <c2><a0> | 4 | 4 | 4 | 4.25 | 4 | 4.03 |\n",
       "\n"
      ],
      "text/plain": [
       "  beer_id username     date      \n",
       "1 271781  bluejacket74 2017-03-17\n",
       "  text                                                                                                                                                                                                                                                                                                                                                                                                                                                                                                                                                                                                                                                                                                                                            \n",
       "1 \\302\\240\\302\\240 750 ml bottle, 2016 vintage, bottle #304 of 360. Served in a DFH snifter, the beer pours dark brown/black with about an inch tan head that stuck around a little while. There's also a good amount of lacing. I like the aroma, the brew smells like dark fruit (raisin, plum), chocolate, roasted malt, and a bit of licorice. For the most part I think the taste is just like the aroma, but with some coffee flavor noticeable too. Mouthfeel/body is medium/full, it's creamy and coating with a moderate amount of carbonation. I think it's a good overall brew, worth picking up if you want a nice straight forward imperial stout. Here's hoping Four String brings this back in the future! $9.99 a bottle. \\302\\240\n",
       "  look smell taste feel overall score\n",
       "1 4    4     4     4.25 4       4.03 "
      ]
     },
     "metadata": {},
     "output_type": "display_data"
    }
   ],
   "source": [
    "# reading the new dataframe in this case, beer review_sample.csv\n",
    "myDF <- fread(\"/anvil/projects/tdm/data/beer/reviews_sample.csv\")\n",
    "head(myDF,1)"
   ]
  },
  {
   "cell_type": "code",
   "execution_count": 10,
   "id": "08c40e30-a2a9-4228-b408-9a7be8d3a509",
   "metadata": {},
   "outputs": [
    {
     "data": {
      "text/html": [
       "'\\302\\240\\302\\240 32 fl oz brown glass Alesmith grumbler filled earlier today at The Growler Room in Austin, Texas, and stored in my fridge until consumption. Served into a Spaten stangekrug. Reviewed at low altitude live here in Austin on 08/31/13. Cost was $ $21 USD. Expectations are sky high given both its current ratings and the description \\342\\200\\223 which makes it sound tasty. This is my first Texan sour. Served frigid cold and allowed to warm following the initial pour. Side-poured with extra vigor as slight carbonation issues are anticipated given that it\\342\\200\\231s a growler pour. A: No bubble show forms as I pour. Pours a one finger wide head of gorgeous khaki colour. Great creaminess \\342\\200\\223 reminiscent actually of an Irish Dry Stout\\342\\200\\231s head. Good thickness. Supple. Has an appealing soft complexion. Okay lacing; some legs cling to the sides of the glass when I tilt it, but they quickly fall. Retention is pretty good \\342\\200\\223 about 3-4 minutes; not too shabby for a growler pour. Body colour is a nontransparent murky caramel-brown. Some light glowing translucency near the bottom of the glass; it\\342\\200\\231s certainly not opaque. No yeast particles are visible. It\\342\\200\\231s not incredible to look at, but there\\342\\200\\231s nothing overtly wrong with it. Looking forward to trying it. Sm: Tart acetic cherries, cherry pie crust, and accompanying sourness. It\\342\\200\\231s got more of a Flanders Red feel than anything else. Very light funkiness. I\\342\\200\\231m very impressed with the yeast-derived sourness and I\\342\\200\\231m rather curious what strain was used; this doesn\\342\\200\\231t have the sterile clinical feel of a sour brewed purely with lactobacillus (at least based on the aroma) \\342\\200\\223 there\\342\\200\\231s more complexity here, and the combination of well-integrated sourness with a subtle funkiness and complex tart character approximates lambic yeast. The yeast alone elevates the aroma beyond that of most wild ales. Unlike many subpar \\342\\200\\234wild\\342\\200\\235 ales, this one actually smells like it\\342\\200\\231s still alive \\342\\200\\223 and I don\\342\\200\\231t find myself doubting that wild yeast and bacteria were used in fermentation. It stops a bit short of evoking true spontaneous open fermentation, but I\\342\\200\\231m nitpicking. Very buried hints of vanilla and maple; they\\342\\200\\231re by no means overt. Layered caramel and biscuit malts. As it warms, the otherwise reticent oak notes begin to creep out; I don\\342\\200\\231t know that I\\342\\200\\231d say they\\342\\200\\231re evocative of a barrel per se. The cherry notes are dominant, a sound choice. No alcohol is detectable, nor is any significant hop character. A damn fine aroma for an American sour. Mild in strength, with well-executed subtlety. I\\342\\200\\231m impressed. I just hope the taste lives up to the smell. T: Tart cherries, acetic cherry pie crust notes (though not as prominent as I\\342\\200\\231d like), and a pleasant core sourness throughout are the first things I notice. It\\342\\200\\231s got a clean simple open comprised mainly of biscuit malts with a dash of caramalt in there too, a malty combination that continues on through the second act to form the body of the beer. Luckily, the malts don\\342\\200\\231t intrude and the beer\\342\\200\\231s sourness is allowed to take centre stage. Speaking of the sourness, it\\342\\200\\231s by no means puckerworthy. It\\342\\200\\231s somewhat tame yet still satisfying. This would be a good introduction to (American) sours for a beginner. Acidic. I have to retract what I said about the yeast above; it by no means approximates lambic yeast in the actual taste, and does suffer from the same sterile, clean, clinical feel of most American wild ales/sours. Unfortunate. Oak is present as a guiding undertone. Luckily, those vanilla and maple notes from the aroma are near imperceptible. No hop character or alcohol comes through. It\\342\\200\\231s got a good balance to it, and it\\342\\200\\231s nearest a Flanders Red Ale in terms of build. That said, it lacks the complexity of the best beers in that style; in fact, I\\342\\200\\231d say even Rodenbach Classic has a superior build in that respect. There is some nice subtlety here, but ultimately the second act feels a bit empty. More flavour depth and diversity is needed. Flavour duration and intensity are about average. Mf: Smooth and wet. Not oily, hot, gushed, or boozy. Acidic. Pretty good thickness and presence on the palate, if a bit unrefined for the style. Fits the attempted style well, but it doesn\\342\\200\\231t feel custom-tailored to this beer\\342\\200\\231s flavour profile specifically. Decent body. I would by no means call this a crisp beer. It\\342\\200\\231s undercarbonated, but I\\342\\200\\231m confident blaming that on the growler. I find myself tempted to smack my lips a biteen whilst consuming it; I consider that a good thing for a sour. Dr: Solid Flanders Red mimicry from the Yanks at Real Ale. I haven\\342\\200\\231t had the base beer, which I understand is their \\342\\200\\234Real Heavy\\342\\200\\235 scotch ale, but the beer never seems to out its base \\342\\200\\223 which seems favorable for a sour. I wouldn\\342\\200\\231t know the base was a wee heavy if I tried it blind, and I consider that alone a feat. This is ultimately a success from Real Ale, though the high price point as well as the availability of better cheaper offerings in the style will prevent me from buying it again. B- \\302\\240'"
      ],
      "text/latex": [
       "'\\textbackslash{}302\\textbackslash{}240\\textbackslash{}302\\textbackslash{}240 32 fl oz brown glass Alesmith grumbler filled earlier today at The Growler Room in Austin, Texas, and stored in my fridge until consumption. Served into a Spaten stangekrug. Reviewed at low altitude live here in Austin on 08/31/13. Cost was \\$ \\$21 USD. Expectations are sky high given both its current ratings and the description \\textbackslash{}342\\textbackslash{}200\\textbackslash{}223 which makes it sound tasty. This is my first Texan sour. Served frigid cold and allowed to warm following the initial pour. Side-poured with extra vigor as slight carbonation issues are anticipated given that it\\textbackslash{}342\\textbackslash{}200\\textbackslash{}231s a growler pour. A: No bubble show forms as I pour. Pours a one finger wide head of gorgeous khaki colour. Great creaminess \\textbackslash{}342\\textbackslash{}200\\textbackslash{}223 reminiscent actually of an Irish Dry Stout\\textbackslash{}342\\textbackslash{}200\\textbackslash{}231s head. Good thickness. Supple. Has an appealing soft complexion. Okay lacing; some legs cling to the sides of the glass when I tilt it, but they quickly fall. Retention is pretty good \\textbackslash{}342\\textbackslash{}200\\textbackslash{}223 about 3-4 minutes; not too shabby for a growler pour. Body colour is a nontransparent murky caramel-brown. Some light glowing translucency near the bottom of the glass; it\\textbackslash{}342\\textbackslash{}200\\textbackslash{}231s certainly not opaque. No yeast particles are visible. It\\textbackslash{}342\\textbackslash{}200\\textbackslash{}231s not incredible to look at, but there\\textbackslash{}342\\textbackslash{}200\\textbackslash{}231s nothing overtly wrong with it. Looking forward to trying it. Sm: Tart acetic cherries, cherry pie crust, and accompanying sourness. It\\textbackslash{}342\\textbackslash{}200\\textbackslash{}231s got more of a Flanders Red feel than anything else. Very light funkiness. I\\textbackslash{}342\\textbackslash{}200\\textbackslash{}231m very impressed with the yeast-derived sourness and I\\textbackslash{}342\\textbackslash{}200\\textbackslash{}231m rather curious what strain was used; this doesn\\textbackslash{}342\\textbackslash{}200\\textbackslash{}231t have the sterile clinical feel of a sour brewed purely with lactobacillus (at least based on the aroma) \\textbackslash{}342\\textbackslash{}200\\textbackslash{}223 there\\textbackslash{}342\\textbackslash{}200\\textbackslash{}231s more complexity here, and the combination of well-integrated sourness with a subtle funkiness and complex tart character approximates lambic yeast. The yeast alone elevates the aroma beyond that of most wild ales. Unlike many subpar \\textbackslash{}342\\textbackslash{}200\\textbackslash{}234wild\\textbackslash{}342\\textbackslash{}200\\textbackslash{}235 ales, this one actually smells like it\\textbackslash{}342\\textbackslash{}200\\textbackslash{}231s still alive \\textbackslash{}342\\textbackslash{}200\\textbackslash{}223 and I don\\textbackslash{}342\\textbackslash{}200\\textbackslash{}231t find myself doubting that wild yeast and bacteria were used in fermentation. It stops a bit short of evoking true spontaneous open fermentation, but I\\textbackslash{}342\\textbackslash{}200\\textbackslash{}231m nitpicking. Very buried hints of vanilla and maple; they\\textbackslash{}342\\textbackslash{}200\\textbackslash{}231re by no means overt. Layered caramel and biscuit malts. As it warms, the otherwise reticent oak notes begin to creep out; I don\\textbackslash{}342\\textbackslash{}200\\textbackslash{}231t know that I\\textbackslash{}342\\textbackslash{}200\\textbackslash{}231d say they\\textbackslash{}342\\textbackslash{}200\\textbackslash{}231re evocative of a barrel per se. The cherry notes are dominant, a sound choice. No alcohol is detectable, nor is any significant hop character. A damn fine aroma for an American sour. Mild in strength, with well-executed subtlety. I\\textbackslash{}342\\textbackslash{}200\\textbackslash{}231m impressed. I just hope the taste lives up to the smell. T: Tart cherries, acetic cherry pie crust notes (though not as prominent as I\\textbackslash{}342\\textbackslash{}200\\textbackslash{}231d like), and a pleasant core sourness throughout are the first things I notice. It\\textbackslash{}342\\textbackslash{}200\\textbackslash{}231s got a clean simple open comprised mainly of biscuit malts with a dash of caramalt in there too, a malty combination that continues on through the second act to form the body of the beer. Luckily, the malts don\\textbackslash{}342\\textbackslash{}200\\textbackslash{}231t intrude and the beer\\textbackslash{}342\\textbackslash{}200\\textbackslash{}231s sourness is allowed to take centre stage. Speaking of the sourness, it\\textbackslash{}342\\textbackslash{}200\\textbackslash{}231s by no means puckerworthy. It\\textbackslash{}342\\textbackslash{}200\\textbackslash{}231s somewhat tame yet still satisfying. This would be a good introduction to (American) sours for a beginner. Acidic. I have to retract what I said about the yeast above; it by no means approximates lambic yeast in the actual taste, and does suffer from the same sterile, clean, clinical feel of most American wild ales/sours. Unfortunate. Oak is present as a guiding undertone. Luckily, those vanilla and maple notes from the aroma are near imperceptible. No hop character or alcohol comes through. It\\textbackslash{}342\\textbackslash{}200\\textbackslash{}231s got a good balance to it, and it\\textbackslash{}342\\textbackslash{}200\\textbackslash{}231s nearest a Flanders Red Ale in terms of build. That said, it lacks the complexity of the best beers in that style; in fact, I\\textbackslash{}342\\textbackslash{}200\\textbackslash{}231d say even Rodenbach Classic has a superior build in that respect. There is some nice subtlety here, but ultimately the second act feels a bit empty. More flavour depth and diversity is needed. Flavour duration and intensity are about average. Mf: Smooth and wet. Not oily, hot, gushed, or boozy. Acidic. Pretty good thickness and presence on the palate, if a bit unrefined for the style. Fits the attempted style well, but it doesn\\textbackslash{}342\\textbackslash{}200\\textbackslash{}231t feel custom-tailored to this beer\\textbackslash{}342\\textbackslash{}200\\textbackslash{}231s flavour profile specifically. Decent body. I would by no means call this a crisp beer. It\\textbackslash{}342\\textbackslash{}200\\textbackslash{}231s undercarbonated, but I\\textbackslash{}342\\textbackslash{}200\\textbackslash{}231m confident blaming that on the growler. I find myself tempted to smack my lips a biteen whilst consuming it; I consider that a good thing for a sour. Dr: Solid Flanders Red mimicry from the Yanks at Real Ale. I haven\\textbackslash{}342\\textbackslash{}200\\textbackslash{}231t had the base beer, which I understand is their \\textbackslash{}342\\textbackslash{}200\\textbackslash{}234Real Heavy\\textbackslash{}342\\textbackslash{}200\\textbackslash{}235 scotch ale, but the beer never seems to out its base \\textbackslash{}342\\textbackslash{}200\\textbackslash{}223 which seems favorable for a sour. I wouldn\\textbackslash{}342\\textbackslash{}200\\textbackslash{}231t know the base was a wee heavy if I tried it blind, and I consider that alone a feat. This is ultimately a success from Real Ale, though the high price point as well as the availability of better cheaper offerings in the style will prevent me from buying it again. B- \\textbackslash{}302\\textbackslash{}240'"
      ],
      "text/markdown": [
       "'\\302\\240\\302\\240 32 fl oz brown glass Alesmith grumbler filled earlier today at The Growler Room in Austin, Texas, and stored in my fridge until consumption. Served into a Spaten stangekrug. Reviewed at low altitude live here in Austin on 08/31/13. Cost was $ $21 USD. Expectations are sky high given both its current ratings and the description \\342\\200\\223 which makes it sound tasty. This is my first Texan sour. Served frigid cold and allowed to warm following the initial pour. Side-poured with extra vigor as slight carbonation issues are anticipated given that it\\342\\200\\231s a growler pour. A: No bubble show forms as I pour. Pours a one finger wide head of gorgeous khaki colour. Great creaminess \\342\\200\\223 reminiscent actually of an Irish Dry Stout\\342\\200\\231s head. Good thickness. Supple. Has an appealing soft complexion. Okay lacing; some legs cling to the sides of the glass when I tilt it, but they quickly fall. Retention is pretty good \\342\\200\\223 about 3-4 minutes; not too shabby for a growler pour. Body colour is a nontransparent murky caramel-brown. Some light glowing translucency near the bottom of the glass; it\\342\\200\\231s certainly not opaque. No yeast particles are visible. It\\342\\200\\231s not incredible to look at, but there\\342\\200\\231s nothing overtly wrong with it. Looking forward to trying it. Sm: Tart acetic cherries, cherry pie crust, and accompanying sourness. It\\342\\200\\231s got more of a Flanders Red feel than anything else. Very light funkiness. I\\342\\200\\231m very impressed with the yeast-derived sourness and I\\342\\200\\231m rather curious what strain was used; this doesn\\342\\200\\231t have the sterile clinical feel of a sour brewed purely with lactobacillus (at least based on the aroma) \\342\\200\\223 there\\342\\200\\231s more complexity here, and the combination of well-integrated sourness with a subtle funkiness and complex tart character approximates lambic yeast. The yeast alone elevates the aroma beyond that of most wild ales. Unlike many subpar \\342\\200\\234wild\\342\\200\\235 ales, this one actually smells like it\\342\\200\\231s still alive \\342\\200\\223 and I don\\342\\200\\231t find myself doubting that wild yeast and bacteria were used in fermentation. It stops a bit short of evoking true spontaneous open fermentation, but I\\342\\200\\231m nitpicking. Very buried hints of vanilla and maple; they\\342\\200\\231re by no means overt. Layered caramel and biscuit malts. As it warms, the otherwise reticent oak notes begin to creep out; I don\\342\\200\\231t know that I\\342\\200\\231d say they\\342\\200\\231re evocative of a barrel per se. The cherry notes are dominant, a sound choice. No alcohol is detectable, nor is any significant hop character. A damn fine aroma for an American sour. Mild in strength, with well-executed subtlety. I\\342\\200\\231m impressed. I just hope the taste lives up to the smell. T: Tart cherries, acetic cherry pie crust notes (though not as prominent as I\\342\\200\\231d like), and a pleasant core sourness throughout are the first things I notice. It\\342\\200\\231s got a clean simple open comprised mainly of biscuit malts with a dash of caramalt in there too, a malty combination that continues on through the second act to form the body of the beer. Luckily, the malts don\\342\\200\\231t intrude and the beer\\342\\200\\231s sourness is allowed to take centre stage. Speaking of the sourness, it\\342\\200\\231s by no means puckerworthy. It\\342\\200\\231s somewhat tame yet still satisfying. This would be a good introduction to (American) sours for a beginner. Acidic. I have to retract what I said about the yeast above; it by no means approximates lambic yeast in the actual taste, and does suffer from the same sterile, clean, clinical feel of most American wild ales/sours. Unfortunate. Oak is present as a guiding undertone. Luckily, those vanilla and maple notes from the aroma are near imperceptible. No hop character or alcohol comes through. It\\342\\200\\231s got a good balance to it, and it\\342\\200\\231s nearest a Flanders Red Ale in terms of build. That said, it lacks the complexity of the best beers in that style; in fact, I\\342\\200\\231d say even Rodenbach Classic has a superior build in that respect. There is some nice subtlety here, but ultimately the second act feels a bit empty. More flavour depth and diversity is needed. Flavour duration and intensity are about average. Mf: Smooth and wet. Not oily, hot, gushed, or boozy. Acidic. Pretty good thickness and presence on the palate, if a bit unrefined for the style. Fits the attempted style well, but it doesn\\342\\200\\231t feel custom-tailored to this beer\\342\\200\\231s flavour profile specifically. Decent body. I would by no means call this a crisp beer. It\\342\\200\\231s undercarbonated, but I\\342\\200\\231m confident blaming that on the growler. I find myself tempted to smack my lips a biteen whilst consuming it; I consider that a good thing for a sour. Dr: Solid Flanders Red mimicry from the Yanks at Real Ale. I haven\\342\\200\\231t had the base beer, which I understand is their \\342\\200\\234Real Heavy\\342\\200\\235 scotch ale, but the beer never seems to out its base \\342\\200\\223 which seems favorable for a sour. I wouldn\\342\\200\\231t know the base was a wee heavy if I tried it blind, and I consider that alone a feat. This is ultimately a success from Real Ale, though the high price point as well as the availability of better cheaper offerings in the style will prevent me from buying it again. B- \\302\\240'"
      ],
      "text/plain": [
       "[1] \"\\302\\240\\302\\240 32 fl oz brown glass Alesmith grumbler filled earlier today at The Growler Room in Austin, Texas, and stored in my fridge until consumption. Served into a Spaten stangekrug. Reviewed at low altitude live here in Austin on 08/31/13. Cost was $ $21 USD. Expectations are sky high given both its current ratings and the description \\342\\200\\223 which makes it sound tasty. This is my first Texan sour. Served frigid cold and allowed to warm following the initial pour. Side-poured with extra vigor as slight carbonation issues are anticipated given that it\\342\\200\\231s a growler pour. A: No bubble show forms as I pour. Pours a one finger wide head of gorgeous khaki colour. Great creaminess \\342\\200\\223 reminiscent actually of an Irish Dry Stout\\342\\200\\231s head. Good thickness. Supple. Has an appealing soft complexion. Okay lacing; some legs cling to the sides of the glass when I tilt it, but they quickly fall. Retention is pretty good \\342\\200\\223 about 3-4 minutes; not too shabby for a growler pour. Body colour is a nontransparent murky caramel-brown. Some light glowing translucency near the bottom of the glass; it\\342\\200\\231s certainly not opaque. No yeast particles are visible. It\\342\\200\\231s not incredible to look at, but there\\342\\200\\231s nothing overtly wrong with it. Looking forward to trying it. Sm: Tart acetic cherries, cherry pie crust, and accompanying sourness. It\\342\\200\\231s got more of a Flanders Red feel than anything else. Very light funkiness. I\\342\\200\\231m very impressed with the yeast-derived sourness and I\\342\\200\\231m rather curious what strain was used; this doesn\\342\\200\\231t have the sterile clinical feel of a sour brewed purely with lactobacillus (at least based on the aroma) \\342\\200\\223 there\\342\\200\\231s more complexity here, and the combination of well-integrated sourness with a subtle funkiness and complex tart character approximates lambic yeast. The yeast alone elevates the aroma beyond that of most wild ales. Unlike many subpar \\342\\200\\234wild\\342\\200\\235 ales, this one actually smells like it\\342\\200\\231s still alive \\342\\200\\223 and I don\\342\\200\\231t find myself doubting that wild yeast and bacteria were used in fermentation. It stops a bit short of evoking true spontaneous open fermentation, but I\\342\\200\\231m nitpicking. Very buried hints of vanilla and maple; they\\342\\200\\231re by no means overt. Layered caramel and biscuit malts. As it warms, the otherwise reticent oak notes begin to creep out; I don\\342\\200\\231t know that I\\342\\200\\231d say they\\342\\200\\231re evocative of a barrel per se. The cherry notes are dominant, a sound choice. No alcohol is detectable, nor is any significant hop character. A damn fine aroma for an American sour. Mild in strength, with well-executed subtlety. I\\342\\200\\231m impressed. I just hope the taste lives up to the smell. T: Tart cherries, acetic cherry pie crust notes (though not as prominent as I\\342\\200\\231d like), and a pleasant core sourness throughout are the first things I notice. It\\342\\200\\231s got a clean simple open comprised mainly of biscuit malts with a dash of caramalt in there too, a malty combination that continues on through the second act to form the body of the beer. Luckily, the malts don\\342\\200\\231t intrude and the beer\\342\\200\\231s sourness is allowed to take centre stage. Speaking of the sourness, it\\342\\200\\231s by no means puckerworthy. It\\342\\200\\231s somewhat tame yet still satisfying. This would be a good introduction to (American) sours for a beginner. Acidic. I have to retract what I said about the yeast above; it by no means approximates lambic yeast in the actual taste, and does suffer from the same sterile, clean, clinical feel of most American wild ales/sours. Unfortunate. Oak is present as a guiding undertone. Luckily, those vanilla and maple notes from the aroma are near imperceptible. No hop character or alcohol comes through. It\\342\\200\\231s got a good balance to it, and it\\342\\200\\231s nearest a Flanders Red Ale in terms of build. That said, it lacks the complexity of the best beers in that style; in fact, I\\342\\200\\231d say even Rodenbach Classic has a superior build in that respect. There is some nice subtlety here, but ultimately the second act feels a bit empty. More flavour depth and diversity is needed. Flavour duration and intensity are about average. Mf: Smooth and wet. Not oily, hot, gushed, or boozy. Acidic. Pretty good thickness and presence on the palate, if a bit unrefined for the style. Fits the attempted style well, but it doesn\\342\\200\\231t feel custom-tailored to this beer\\342\\200\\231s flavour profile specifically. Decent body. I would by no means call this a crisp beer. It\\342\\200\\231s undercarbonated, but I\\342\\200\\231m confident blaming that on the growler. I find myself tempted to smack my lips a biteen whilst consuming it; I consider that a good thing for a sour. Dr: Solid Flanders Red mimicry from the Yanks at Real Ale. I haven\\342\\200\\231t had the base beer, which I understand is their \\342\\200\\234Real Heavy\\342\\200\\235 scotch ale, but the beer never seems to out its base \\342\\200\\223 which seems favorable for a sour. I wouldn\\342\\200\\231t know the base was a wee heavy if I tried it blind, and I consider that alone a feat. This is ultimately a success from Real Ale, though the high price point as well as the availability of better cheaper offerings in the style will prevent me from buying it again. B- \\302\\240\""
      ]
     },
     "metadata": {},
     "output_type": "display_data"
    }
   ],
   "source": [
    "# (a) printing the longest review in the text col of the beer reviewa\n",
    "longesttest(myDF$text)"
   ]
  },
  {
   "cell_type": "code",
   "execution_count": 11,
   "id": "e76a34cc-1192-4238-9bf6-ff0587211840",
   "metadata": {},
   "outputs": [],
   "source": [
    "# reading the election of 1980 csv file\n",
    "myDF <- fread(\"/anvil/projects/tdm/data/election/itcont1980.txt\", quote=\"\")\n",
    "names(myDF) <- c(\"CMTE_ID\", \"AMNDT_IND\", \"RPT_TP\", \"TRANSACTION_PGI\", \"IMAGE_NUM\", \"TRANSACTION_TP\", \"ENTITY_TP\", \"NAME\", \"CITY\", \"STATE\", \"ZIP_CODE\", \"EMPLOYER\", \"OCCUPATION\", \"TRANSACTION_DT\", \"TRANSACTION_AMT\", \"OTHER_ID\", \"TRAN_ID\", \"FILE_NUM\", \"MEMO_CD\", \"MEMO_TEXT\", \"SUB_ID\")"
   ]
  },
  {
   "cell_type": "code",
   "execution_count": 12,
   "id": "3cf6c84d-1cf2-455d-8e94-06244cf7c7f3",
   "metadata": {},
   "outputs": [
    {
     "data": {
      "text/html": [
       "<table class=\"dataframe\">\n",
       "<caption>A data.table: 1 x 21</caption>\n",
       "<thead>\n",
       "\t<tr><th scope=col>CMTE_ID</th><th scope=col>AMNDT_IND</th><th scope=col>RPT_TP</th><th scope=col>TRANSACTION_PGI</th><th scope=col>IMAGE_NUM</th><th scope=col>TRANSACTION_TP</th><th scope=col>ENTITY_TP</th><th scope=col>NAME</th><th scope=col>CITY</th><th scope=col>STATE</th><th scope=col>...</th><th scope=col>EMPLOYER</th><th scope=col>OCCUPATION</th><th scope=col>TRANSACTION_DT</th><th scope=col>TRANSACTION_AMT</th><th scope=col>OTHER_ID</th><th scope=col>TRAN_ID</th><th scope=col>FILE_NUM</th><th scope=col>MEMO_CD</th><th scope=col>MEMO_TEXT</th><th scope=col>SUB_ID</th></tr>\n",
       "\t<tr><th scope=col>&lt;chr&gt;</th><th scope=col>&lt;chr&gt;</th><th scope=col>&lt;chr&gt;</th><th scope=col>&lt;chr&gt;</th><th scope=col>&lt;int64&gt;</th><th scope=col>&lt;chr&gt;</th><th scope=col>&lt;lgl&gt;</th><th scope=col>&lt;chr&gt;</th><th scope=col>&lt;chr&gt;</th><th scope=col>&lt;chr&gt;</th><th scope=col>...</th><th scope=col>&lt;chr&gt;</th><th scope=col>&lt;lgl&gt;</th><th scope=col>&lt;int&gt;</th><th scope=col>&lt;int&gt;</th><th scope=col>&lt;chr&gt;</th><th scope=col>&lt;lgl&gt;</th><th scope=col>&lt;lgl&gt;</th><th scope=col>&lt;lgl&gt;</th><th scope=col>&lt;chr&gt;</th><th scope=col>&lt;int64&gt;</th></tr>\n",
       "</thead>\n",
       "<tbody>\n",
       "\t<tr><td>C00003079</td><td>N</td><td>Q2</td><td></td><td>79031314185</td><td>15</td><td>NA</td><td>PAPPAS, THOMAS A</td><td>BOSTON</td><td>MA</td><td>...</td><td>SELF-EMPLOYED</td><td>NA</td><td>4241979</td><td>200</td><td></td><td>NA</td><td>NA</td><td>NA</td><td></td><td>3061920110000494718</td></tr>\n",
       "</tbody>\n",
       "</table>\n"
      ],
      "text/latex": [
       "A data.table: 1 x 21\n",
       "\\begin{tabular}{lllllllllllllllllllll}\n",
       " CMTE\\_ID & AMNDT\\_IND & RPT\\_TP & TRANSACTION\\_PGI & IMAGE\\_NUM & TRANSACTION\\_TP & ENTITY\\_TP & NAME & CITY & STATE & ... & EMPLOYER & OCCUPATION & TRANSACTION\\_DT & TRANSACTION\\_AMT & OTHER\\_ID & TRAN\\_ID & FILE\\_NUM & MEMO\\_CD & MEMO\\_TEXT & SUB\\_ID\\\\\n",
       " <chr> & <chr> & <chr> & <chr> & <int64> & <chr> & <lgl> & <chr> & <chr> & <chr> & ... & <chr> & <lgl> & <int> & <int> & <chr> & <lgl> & <lgl> & <lgl> & <chr> & <int64>\\\\\n",
       "\\hline\n",
       "\t C00003079 & N & Q2 &  & 79031314185 & 15 & NA & PAPPAS, THOMAS A & BOSTON & MA & ... & SELF-EMPLOYED & NA & 4241979 & 200 &  & NA & NA & NA &  & 3061920110000494718\\\\\n",
       "\\end{tabular}\n"
      ],
      "text/markdown": [
       "\n",
       "A data.table: 1 x 21\n",
       "\n",
       "| CMTE_ID &lt;chr&gt; | AMNDT_IND &lt;chr&gt; | RPT_TP &lt;chr&gt; | TRANSACTION_PGI &lt;chr&gt; | IMAGE_NUM &lt;int64&gt; | TRANSACTION_TP &lt;chr&gt; | ENTITY_TP &lt;lgl&gt; | NAME &lt;chr&gt; | CITY &lt;chr&gt; | STATE &lt;chr&gt; | ... ... | EMPLOYER &lt;chr&gt; | OCCUPATION &lt;lgl&gt; | TRANSACTION_DT &lt;int&gt; | TRANSACTION_AMT &lt;int&gt; | OTHER_ID &lt;chr&gt; | TRAN_ID &lt;lgl&gt; | FILE_NUM &lt;lgl&gt; | MEMO_CD &lt;lgl&gt; | MEMO_TEXT &lt;chr&gt; | SUB_ID &lt;int64&gt; |\n",
       "|---|---|---|---|---|---|---|---|---|---|---|---|---|---|---|---|---|---|---|---|---|\n",
       "| C00003079 | N | Q2 | <!----> | 79031314185 | 15 | NA | PAPPAS, THOMAS A | BOSTON | MA | ... | SELF-EMPLOYED | NA | 4241979 | 200 | <!----> | NA | NA | NA | <!----> | 3061920110000494718 |\n",
       "\n"
      ],
      "text/plain": [
       "  CMTE_ID   AMNDT_IND RPT_TP TRANSACTION_PGI IMAGE_NUM   TRANSACTION_TP\n",
       "1 C00003079 N         Q2                     79031314185 15            \n",
       "  ENTITY_TP NAME             CITY   STATE ... EMPLOYER      OCCUPATION\n",
       "1 NA        PAPPAS, THOMAS A BOSTON MA    ... SELF-EMPLOYED NA        \n",
       "  TRANSACTION_DT TRANSACTION_AMT OTHER_ID TRAN_ID FILE_NUM MEMO_CD MEMO_TEXT\n",
       "1 4241979        200                      NA      NA       NA               \n",
       "  SUB_ID             \n",
       "1 3061920110000494718"
      ]
     },
     "metadata": {},
     "output_type": "display_data"
    }
   ],
   "source": [
    "# (b) printing the longest name in NAME column from 1980 exletion data\n",
    "longesttest(myDF)"
   ]
  },
  {
   "cell_type": "markdown",
   "id": "47c6229f-35f7-400c-8366-c442baa5cf47",
   "metadata": {},
   "source": [
    "Markdown notes and sentences and analysis written here."
   ]
  },
  {
   "cell_type": "markdown",
   "id": "da22f29c-d245-4d2b-9fc1-ca14cb6087d9",
   "metadata": {},
   "source": [
    "## Question 4"
   ]
  },
  {
   "cell_type": "code",
   "execution_count": 13,
   "id": "8cffc767-d1c8-4d64-b7dc-f0d2ee8a80d1",
   "metadata": {},
   "outputs": [],
   "source": [
    "# (a) creating mostpopulardate function\n",
    "# mostpopulardate <- function(x) {as.Date(names(sort(table(x), decreasing = TRUE)[1]))}\n",
    "\n",
    "mostpopulardate <- function(x) { # the issue arise from the part c where the date is not in proper date format\n",
    "  # converting x if not in Date format\n",
    "  if (!inherits(x, \"Date\")) {\n",
    "    x <- as.Date(as.character(x), format = \"%m%d%Y\")\n",
    "  }\n",
    "  as.Date(names(sort(table(x), decreasing = TRUE)[1]))\n",
    "}"
   ]
  },
  {
   "cell_type": "code",
   "execution_count": 14,
   "id": "a4ee6f12-fcf2-4a88-ad25-62e799ee162f",
   "metadata": {},
   "outputs": [
    {
     "data": {
      "text/html": [
       "<time datetime=\"2011-11-15\">2011-11-15</time>"
      ],
      "text/latex": [
       "2011-11-15"
      ],
      "text/markdown": [
       "2011-11-15"
      ],
      "text/plain": [
       "[1] \"2011-11-15\""
      ]
     },
     "metadata": {},
     "output_type": "display_data"
    }
   ],
   "source": [
    "# (b) finding the most popular date in the beer review csv \n",
    "myDF <- fread(\"/anvil/projects/tdm/data/beer/reviews_sample.csv\")\n",
    "mostpopulardate(myDF$date)"
   ]
  },
  {
   "cell_type": "code",
   "execution_count": 15,
   "id": "2cb11a96-afa0-49fa-86c5-044397301175",
   "metadata": {},
   "outputs": [
    {
     "data": {
      "text/html": [
       "<time datetime=\"1979-12-31\">1979-12-31</time>"
      ],
      "text/latex": [
       "1979-12-31"
      ],
      "text/markdown": [
       "1979-12-31"
      ],
      "text/plain": [
       "[1] \"1979-12-31\""
      ]
     },
     "metadata": {},
     "output_type": "display_data"
    }
   ],
   "source": [
    "# (c) finding the most popular transaction date in the 1980s election\n",
    "myDF <- fread(\"/anvil/projects/tdm/data/election/itcont1980.txt\", quote=\"\")\n",
    "names(myDF) <- c(\"CMTE_ID\", \"AMNDT_IND\", \"RPT_TP\", \"TRANSACTION_PGI\", \"IMAGE_NUM\", \"TRANSACTION_TP\", \"ENTITY_TP\", \"NAME\", \"CITY\", \"STATE\", \"ZIP_CODE\", \"EMPLOYER\", \"OCCUPATION\", \"TRANSACTION_DT\", \"TRANSACTION_AMT\", \"OTHER_ID\", \"TRAN_ID\", \"FILE_NUM\", \"MEMO_CD\", \"MEMO_TEXT\", \"SUB_ID\")\n",
    "# head(myDF, 2)\n",
    "\n",
    "mostpopulardate(myDF$TRANSACTION_DT)"
   ]
  },
  {
   "cell_type": "markdown",
   "id": "0d552245-b4d6-474a-9cc9-fa7b8e674d55",
   "metadata": {},
   "source": [
    "Markdown notes and sentences and analysis written here."
   ]
  },
  {
   "cell_type": "markdown",
   "id": "88c9cdac-3e92-498f-83fa-e089bfc44ac8",
   "metadata": {},
   "source": [
    "## Question 5"
   ]
  },
  {
   "cell_type": "code",
   "execution_count": 16,
   "id": "3b9d1617-7eea-40b1-8628-e2ae641abb6c",
   "metadata": {},
   "outputs": [],
   "source": [
    "  # reading the flight data\n",
    "  flights_data <- fread(\"/anvil/projects/tdm/data/flights/subset/1990.csv\")"
   ]
  },
  {
   "cell_type": "code",
   "execution_count": 17,
   "id": "d370d7c9-06db-42b9-b75f-240481a5c491",
   "metadata": {},
   "outputs": [],
   "source": [
    "# (a) defining the function called myaveragedelay\n",
    "myaveragedelay <- function(airport_code) { \n",
    "    \n",
    "    # calculating the average departure delay using indexing method \n",
    "    average_delay <- mean(flights_data[Origin == airport_code, DepDelay], na.rm = TRUE)\n",
    "      return(average_delay) # return the avg occurances\n",
    "}"
   ]
  },
  {
   "cell_type": "code",
   "execution_count": 18,
   "id": "edcd0244-580f-4a10-af7d-f4854b056efe",
   "metadata": {},
   "outputs": [
    {
     "name": "stdout",
     "output_type": "stream",
     "text": [
      "[1] 5.969772\n"
     ]
    }
   ],
   "source": [
    "# (b) testing the function for \"IND\"\n",
    "average_delay_IND <- myaveragedelay(\"IND\")\n",
    "print(average_delay_IND)"
   ]
  },
  {
   "cell_type": "code",
   "execution_count": 19,
   "id": "b1e11bdf-509d-4392-847f-301c62a5d950",
   "metadata": {},
   "outputs": [
    {
     "name": "stdout",
     "output_type": "stream",
     "text": [
      "[1] 11.85727\n"
     ]
    }
   ],
   "source": [
    "# (c) testing the function for \"JFK\"\n",
    "average_delay_JFK <- myaveragedelay(\"JFK\")\n",
    "print(average_delay_JFK)"
   ]
  },
  {
   "cell_type": "markdown",
   "id": "9fbf00fb-2418-460f-ae94-2a32b0c28952",
   "metadata": {},
   "source": [
    "Markdown notes and sentences and analysis written here."
   ]
  },
  {
   "cell_type": "markdown",
   "id": "f76442d6-d02e-4f26-b9d6-c3183e1d6929",
   "metadata": {},
   "source": [
    "## Pledge\n",
    "\n",
    "By submitting this work I hereby pledge that this is my own, personal work. I've acknowledged in the designated place at the top of this file all sources that I used to complete said work, including but not limited to: online resources, books, and electronic communications. I've noted all collaboration with fellow students and/or TA's. I did not copy or plagiarize another's work.\n",
    "\n",
    "> As a Boilermaker pursuing academic excellence, I pledge to be honest and true in all that I do. Accountable together – We are Purdue."
   ]
  }
 ],
 "metadata": {
  "kernelspec": {
   "display_name": "seminar-r",
   "language": "R",
   "name": "seminar-r"
  },
  "language_info": {
   "codemirror_mode": "r",
   "file_extension": ".r",
   "mimetype": "text/x-r-source",
   "name": "R",
   "pygments_lexer": "r",
   "version": "4.4.1"
  }
 },
 "nbformat": 4,
 "nbformat_minor": 5
}
