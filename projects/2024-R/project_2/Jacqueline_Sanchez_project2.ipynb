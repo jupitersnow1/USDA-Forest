{
 "cells": [
  {
   "cell_type": "markdown",
   "id": "be02a957-7133-4d02-818e-fedeb3cecb05",
   "metadata": {},
   "source": [
    "# Project 2 -- Jacqueline Sanchez"
   ]
  },
  {
   "cell_type": "markdown",
   "id": "a1228853-dd19-4ab2-89e0-0394d7d72de3",
   "metadata": {},
   "source": [
    "**TA Help:** N/A\n",
    "\n",
    " - \n",
    "    \n",
    "**Collaboration:** None\n",
    "    \n",
    "- \n",
    "- "
   ]
  },
  {
   "cell_type": "markdown",
   "id": "6180e742-8e39-4698-98ff-5b00c8cf8ea0",
   "metadata": {},
   "source": [
    "## Question 1"
   ]
  },
  {
   "cell_type": "markdown",
   "id": "4bb5efa4-9c16-4d9d-ad94-d4e345c4b256",
   "metadata": {},
   "source": [
    "I am currently using kernel type `seminar -r` and this allows me to use R within the cells without using cell magic function %%R"
   ]
  },
  {
   "cell_type": "code",
   "execution_count": 1,
   "id": "49445606-d363-41b4-b479-e319a9a84c01",
   "metadata": {},
   "outputs": [
    {
     "data": {
      "text/html": [
       "<table class=\"dataframe\">\n",
       "<caption>A data.frame: 6 x 15</caption>\n",
       "<thead>\n",
       "\t<tr><th></th><th scope=col>ID</th><th scope=col>Name</th><th scope=col>Sex</th><th scope=col>Age</th><th scope=col>Height</th><th scope=col>Weight</th><th scope=col>Team</th><th scope=col>NOC</th><th scope=col>Games</th><th scope=col>Year</th><th scope=col>Season</th><th scope=col>City</th><th scope=col>Sport</th><th scope=col>Event</th><th scope=col>Medal</th></tr>\n",
       "\t<tr><th></th><th scope=col>&lt;int&gt;</th><th scope=col>&lt;chr&gt;</th><th scope=col>&lt;chr&gt;</th><th scope=col>&lt;int&gt;</th><th scope=col>&lt;int&gt;</th><th scope=col>&lt;dbl&gt;</th><th scope=col>&lt;chr&gt;</th><th scope=col>&lt;chr&gt;</th><th scope=col>&lt;chr&gt;</th><th scope=col>&lt;int&gt;</th><th scope=col>&lt;chr&gt;</th><th scope=col>&lt;chr&gt;</th><th scope=col>&lt;chr&gt;</th><th scope=col>&lt;chr&gt;</th><th scope=col>&lt;chr&gt;</th></tr>\n",
       "</thead>\n",
       "<tbody>\n",
       "\t<tr><th scope=row>1</th><td>1</td><td>A Dijiang               </td><td>M</td><td>24</td><td>180</td><td>80</td><td>China         </td><td>CHN</td><td>1992 Summer</td><td>1992</td><td>Summer</td><td>Barcelona</td><td>Basketball   </td><td>Basketball Men's Basketball       </td><td>NA  </td></tr>\n",
       "\t<tr><th scope=row>2</th><td>2</td><td>A Lamusi                </td><td>M</td><td>23</td><td>170</td><td>60</td><td>China         </td><td>CHN</td><td>2012 Summer</td><td>2012</td><td>Summer</td><td>London   </td><td>Judo         </td><td>Judo Men's Extra-Lightweight      </td><td>NA  </td></tr>\n",
       "\t<tr><th scope=row>3</th><td>3</td><td>Gunnar Nielsen Aaby     </td><td>M</td><td>24</td><td> NA</td><td>NA</td><td>Denmark       </td><td>DEN</td><td>1920 Summer</td><td>1920</td><td>Summer</td><td>Antwerpen</td><td>Football     </td><td>Football Men's Football           </td><td>NA  </td></tr>\n",
       "\t<tr><th scope=row>4</th><td>4</td><td>Edgar Lindenau Aabye    </td><td>M</td><td>34</td><td> NA</td><td>NA</td><td>Denmark/Sweden</td><td>DEN</td><td>1900 Summer</td><td>1900</td><td>Summer</td><td>Paris    </td><td>Tug-Of-War   </td><td>Tug-Of-War Men's Tug-Of-War       </td><td>Gold</td></tr>\n",
       "\t<tr><th scope=row>5</th><td>5</td><td>Christine Jacoba Aaftink</td><td>F</td><td>21</td><td>185</td><td>82</td><td>Netherlands   </td><td>NED</td><td>1988 Winter</td><td>1988</td><td>Winter</td><td>Calgary  </td><td>Speed Skating</td><td>Speed Skating Women's 500 metres  </td><td>NA  </td></tr>\n",
       "\t<tr><th scope=row>6</th><td>5</td><td>Christine Jacoba Aaftink</td><td>F</td><td>21</td><td>185</td><td>82</td><td>Netherlands   </td><td>NED</td><td>1988 Winter</td><td>1988</td><td>Winter</td><td>Calgary  </td><td>Speed Skating</td><td>Speed Skating Women's 1,000 metres</td><td>NA  </td></tr>\n",
       "</tbody>\n",
       "</table>\n"
      ],
      "text/latex": [
       "A data.frame: 6 x 15\n",
       "\\begin{tabular}{r|lllllllllllllll}\n",
       "  & ID & Name & Sex & Age & Height & Weight & Team & NOC & Games & Year & Season & City & Sport & Event & Medal\\\\\n",
       "  & <int> & <chr> & <chr> & <int> & <int> & <dbl> & <chr> & <chr> & <chr> & <int> & <chr> & <chr> & <chr> & <chr> & <chr>\\\\\n",
       "\\hline\n",
       "\t1 & 1 & A Dijiang                & M & 24 & 180 & 80 & China          & CHN & 1992 Summer & 1992 & Summer & Barcelona & Basketball    & Basketball Men's Basketball        & NA  \\\\\n",
       "\t2 & 2 & A Lamusi                 & M & 23 & 170 & 60 & China          & CHN & 2012 Summer & 2012 & Summer & London    & Judo          & Judo Men's Extra-Lightweight       & NA  \\\\\n",
       "\t3 & 3 & Gunnar Nielsen Aaby      & M & 24 &  NA & NA & Denmark        & DEN & 1920 Summer & 1920 & Summer & Antwerpen & Football      & Football Men's Football            & NA  \\\\\n",
       "\t4 & 4 & Edgar Lindenau Aabye     & M & 34 &  NA & NA & Denmark/Sweden & DEN & 1900 Summer & 1900 & Summer & Paris     & Tug-Of-War    & Tug-Of-War Men's Tug-Of-War        & Gold\\\\\n",
       "\t5 & 5 & Christine Jacoba Aaftink & F & 21 & 185 & 82 & Netherlands    & NED & 1988 Winter & 1988 & Winter & Calgary   & Speed Skating & Speed Skating Women's 500 metres   & NA  \\\\\n",
       "\t6 & 5 & Christine Jacoba Aaftink & F & 21 & 185 & 82 & Netherlands    & NED & 1988 Winter & 1988 & Winter & Calgary   & Speed Skating & Speed Skating Women's 1,000 metres & NA  \\\\\n",
       "\\end{tabular}\n"
      ],
      "text/markdown": [
       "\n",
       "A data.frame: 6 x 15\n",
       "\n",
       "| <!--/--> | ID &lt;int&gt; | Name &lt;chr&gt; | Sex &lt;chr&gt; | Age &lt;int&gt; | Height &lt;int&gt; | Weight &lt;dbl&gt; | Team &lt;chr&gt; | NOC &lt;chr&gt; | Games &lt;chr&gt; | Year &lt;int&gt; | Season &lt;chr&gt; | City &lt;chr&gt; | Sport &lt;chr&gt; | Event &lt;chr&gt; | Medal &lt;chr&gt; |\n",
       "|---|---|---|---|---|---|---|---|---|---|---|---|---|---|---|---|\n",
       "| 1 | 1 | A Dijiang                | M | 24 | 180 | 80 | China          | CHN | 1992 Summer | 1992 | Summer | Barcelona | Basketball    | Basketball Men's Basketball        | NA   |\n",
       "| 2 | 2 | A Lamusi                 | M | 23 | 170 | 60 | China          | CHN | 2012 Summer | 2012 | Summer | London    | Judo          | Judo Men's Extra-Lightweight       | NA   |\n",
       "| 3 | 3 | Gunnar Nielsen Aaby      | M | 24 |  NA | NA | Denmark        | DEN | 1920 Summer | 1920 | Summer | Antwerpen | Football      | Football Men's Football            | NA   |\n",
       "| 4 | 4 | Edgar Lindenau Aabye     | M | 34 |  NA | NA | Denmark/Sweden | DEN | 1900 Summer | 1900 | Summer | Paris     | Tug-Of-War    | Tug-Of-War Men's Tug-Of-War        | Gold |\n",
       "| 5 | 5 | Christine Jacoba Aaftink | F | 21 | 185 | 82 | Netherlands    | NED | 1988 Winter | 1988 | Winter | Calgary   | Speed Skating | Speed Skating Women's 500 metres   | NA   |\n",
       "| 6 | 5 | Christine Jacoba Aaftink | F | 21 | 185 | 82 | Netherlands    | NED | 1988 Winter | 1988 | Winter | Calgary   | Speed Skating | Speed Skating Women's 1,000 metres | NA   |\n",
       "\n"
      ],
      "text/plain": [
       "  ID Name                     Sex Age Height Weight Team           NOC\n",
       "1 1  A Dijiang                M   24  180    80     China          CHN\n",
       "2 2  A Lamusi                 M   23  170    60     China          CHN\n",
       "3 3  Gunnar Nielsen Aaby      M   24   NA    NA     Denmark        DEN\n",
       "4 4  Edgar Lindenau Aabye     M   34   NA    NA     Denmark/Sweden DEN\n",
       "5 5  Christine Jacoba Aaftink F   21  185    82     Netherlands    NED\n",
       "6 5  Christine Jacoba Aaftink F   21  185    82     Netherlands    NED\n",
       "  Games       Year Season City      Sport        \n",
       "1 1992 Summer 1992 Summer Barcelona Basketball   \n",
       "2 2012 Summer 2012 Summer London    Judo         \n",
       "3 1920 Summer 1920 Summer Antwerpen Football     \n",
       "4 1900 Summer 1900 Summer Paris     Tug-Of-War   \n",
       "5 1988 Winter 1988 Winter Calgary   Speed Skating\n",
       "6 1988 Winter 1988 Winter Calgary   Speed Skating\n",
       "  Event                              Medal\n",
       "1 Basketball Men's Basketball        NA   \n",
       "2 Judo Men's Extra-Lightweight       NA   \n",
       "3 Football Men's Football            NA   \n",
       "4 Tug-Of-War Men's Tug-Of-War        Gold \n",
       "5 Speed Skating Women's 500 metres   NA   \n",
       "6 Speed Skating Women's 1,000 metres NA   "
      ]
     },
     "metadata": {},
     "output_type": "display_data"
    }
   ],
   "source": [
    "# This will read the athlete_events.csv file and store it in a variable 'myDF' as a dataframe\n",
    "myDF <- read.csv(\"/anvil/projects/tdm/data/olympics/athlete_events.csv\")\n",
    "\n",
    "# Now I can display the first six obervations of the dataframe\n",
    "head(myDF)"
   ]
  },
  {
   "cell_type": "markdown",
   "id": "708ee000-6b08-4af1-86da-719483e9aea1",
   "metadata": {},
   "source": [
    "## Making a `table` "
   ]
  },
  {
   "cell_type": "markdown",
   "id": "2ccb6615-144e-49c3-be20-d12ebce781de",
   "metadata": {},
   "source": [
    "Now we are going to be building a table from the valies in the `column myDF$Year` and then plot this table."
   ]
  },
  {
   "cell_type": "code",
   "execution_count": 2,
   "id": "092835ee-daae-41bd-8467-daeee4462ef8",
   "metadata": {},
   "outputs": [
    {
     "data": {
      "text/plain": [
       "\n",
       " 1896  1900  1904  1906  1908  1912  1920  1924  1928  1932  1936  1948  1952 \n",
       "  380  1936  1301  1733  3101  4040  4292  5693  5574  3321  7401  7480  9358 \n",
       " 1956  1960  1964  1968  1972  1976  1980  1984  1988  1992  1994  1996  1998 \n",
       " 6434  9235  9480 10479 11959 10502  8937 11588 14676 16413  3160 13780  3605 \n",
       " 2000  2002  2004  2006  2008  2010  2012  2014  2016 \n",
       "13821  4109 13443  4382 13602  4402 12920  4891 13688 "
      ]
     },
     "metadata": {},
     "output_type": "display_data"
    }
   ],
   "source": [
    "# we first generate a table for the values stored in column `myDF$Year`\n",
    "table(myDF$Year)"
   ]
  },
  {
   "cell_type": "markdown",
   "id": "b9971f47-68d2-4967-bbab-5a807ffad328",
   "metadata": {},
   "source": [
    "This is another cool function I learned from the previous project the `sort`function. The `sort` function will be very handy when dealing with large datasets in cases where they may ask to distinguish the smallest and largest value in the dataset. "
   ]
  },
  {
   "cell_type": "code",
   "execution_count": 3,
   "id": "da8767fa-87e2-47d7-8105-c79ce7b6f773",
   "metadata": {},
   "outputs": [
    {
     "data": {
      "text/plain": [
       "\n",
       " 1896  1904  1906  1900  1908  1994  1932  1998  1912  2002  1920  2006  2010 \n",
       "  380  1301  1733  1936  3101  3160  3321  3605  4040  4109  4292  4382  4402 \n",
       " 2014  1928  1924  1956  1936  1948  1980  1960  1952  1964  1968  1976  1984 \n",
       " 4891  5574  5693  6434  7401  7480  8937  9235  9358  9480 10479 10502 11588 \n",
       " 1972  2012  2004  2008  2016  1996  2000  1988  1992 \n",
       "11959 12920 13443 13602 13688 13780 13821 14676 16413 "
      ]
     },
     "metadata": {},
     "output_type": "display_data"
    }
   ],
   "source": [
    "sort(table(myDF$Year))"
   ]
  },
  {
   "cell_type": "code",
   "execution_count": 4,
   "id": "b355e0ab-f352-43d8-9115-2740714926f8",
   "metadata": {},
   "outputs": [
    {
     "data": {
      "image/png": "[encoded data removed]",
      "text/plain": [
       "plot without title"
      ]
     },
     "metadata": {
      "image/png": {
       "height": 420,
       "width": 420
      }
     },
     "output_type": "display_data"
    }
   ],
   "source": [
    "# now we can generate a plot for the table above this cell\n",
    "plot(table(myDF$Year))"
   ]
  },
  {
   "cell_type": "markdown",
   "id": "fc601975-35ed-4680-a4e1-0273ee3cc047",
   "metadata": {},
   "source": [
    "## Question 2"
   ]
  },
  {
   "cell_type": "markdown",
   "id": "914520a9-f048-4769-831c-378a2a4e8499",
   "metadata": {},
   "source": [
    "#### Q: Which value appears in the \"NOC\" column the most times? "
   ]
  },
  {
   "cell_type": "code",
   "execution_count": 5,
   "id": "a16336a1-1ef0-41e8-bc7c-49387db27497",
   "metadata": {},
   "outputs": [
    {
     "data": {
      "text/plain": [
       "\n",
       "  NFL   NBO   UNK   SSD   YMD   TUV   KOS   TLS   BRU   CRT   KIR   YAR   RHO \n",
       "    1     2     2     3     5     7     8     9    10    11    11    11    12 \n",
       "  ROT   NRU   MHL   STP   CPV   COM   DMA   WIF   GBS   PLE   PLW   FSM   SOL \n",
       "   12    13    14    15    18    19    19    20    21    21    25    26    27 \n",
       "  LCA   MTN   SOM   YEM   VAN   BHU   ASA   DJI   BDI   COK   GEQ   CHA   ARU \n",
       "   28    29    32    32    35    36    37    38    39    40    40    41    42 \n",
       "  SKN   VIN   ERI   BUR   IVB   MAL   TGA   NIG   MDV   GRN   LAO   TKM   BAN \n",
       "   42    42    43    44    45    45    46    47    49    54    54    54    55 \n",
       "  GAM   RWA   TOG   VNM   CAM   GAB   SAM   LES   OMA   CAF   SWZ   SUR   ALB \n",
       "   56    56    59    62    63    63    63    66    66    67    67    69    70 \n",
       "  TJK   BEN   GUI   LBR   BIZ   NAM   MOZ   AHO   JOR   CAY   LBA   MKD   ANZ \n",
       "   70    71    73    74    76    77    78    79    80    83    84    84    86 \n",
       "  MAW   BOT   MLI   COD   SAA   IOA   MNE   NEP   GUY   CGO   HAI   SUD   PNG \n",
       "   87    90    92    93    93    94    94    94   102   105   106   107   108 \n",
       "  MYA   SEY   GUM   SLE   MLT   MAD   UAR   AFG   BRN   NCA   ANT   BIH   PAR \n",
       "  111   111   112   114   118   119   123   126   126   129   133   134   135 \n",
       "  PAN   MRI   UAE   SRI   BOL   BOH   VIE   SYR   TAN   AND   SMR   ZAM   HON \n",
       "  139   144   144   146   152   153   154   156   161   169   181   183   189 \n",
       "  QAT   CIV   MON   BER   ESA   BAR   ARM   CYP   KGZ   KSA   FIJ   IRQ   MDA \n",
       "  192   193   197   212   218   219   221   225   227   230   232   232   234 \n",
       "  UGA   CRC   ANG   DOM   ECU   AZE   KUW   GEO   ISV   ZIM   CMR   SCG   LIB \n",
       "  260   264   267   277   277   283   284   286   294   311   312   321   329 \n",
       "  SGP   GHA   LIE   BAH   TTO   ETH   SRB   SEN   INA   GUA   UZB   MAS   PER \n",
       "  349   359   369   374   375   378   392   393   412   425   495   530   532 \n",
       "  MGL   ALG   TUN   PAK   URU   ISL   LTU   ISR   MAR   HKG   PHI   THA   KEN \n",
       "  550   551   561   562   576   627   654   665   682   685   694   747   772 \n",
       "  IRI   PRK   JAM   EUN   CRO   EST   NGR   CHI   VEN   PUR   LAT   LUX   SVK \n",
       "  789   807   848   864   876   876   882   925   925   927   951   996  1055 \n",
       "  COL   TPE   SLO   IRL   TUR   IND   KAZ   POR   EGY   RSA   BLR   CZE   NZL \n",
       " 1069  1097  1111  1325  1356  1408  1429  1522  1622  1711  1787  1874  2342 \n",
       "  CUB   UKR   YUG   GDR   MEX   GRE   ARG   FRG   BUL   DEN   BRA   BEL   TCH \n",
       " 2479  2559  2583  2645  2880  3181  3297  3315  3530  3570  3848  3857  4404 \n",
       "  ROU   KOR   NOR   AUT   CHN   RUS   ESP   FIN   URS   NED   SUI   POL   HUN \n",
       " 4405  4464  4960  5141  5141  5143  5313  5467  5685  5839  6150  6207  6607 \n",
       "  AUS   SWE   JPN   CAN   GER   ITA   GBR   FRA   USA \n",
       " 7638  8339  8444  9733  9830 10715 12256 12758 18853 "
      ]
     },
     "metadata": {},
     "output_type": "display_data"
    }
   ],
   "source": [
    "# generating a table for the column `NOC` in myDF\n",
    "sort(table(myDF$NOC))"
   ]
  },
  {
   "cell_type": "markdown",
   "id": "a048108b-685b-4c99-9bef-afec730a56f6",
   "metadata": {},
   "source": [
    "According to the table above the most frequent value in the NOC column is **'USA'** with a value of instances being **18853**"
   ]
  },
  {
   "cell_type": "code",
   "execution_count": 6,
   "id": "10990640-f19f-41f2-99f3-c69a025f6de5",
   "metadata": {},
   "outputs": [
    {
     "data": {
      "text/plain": [
       "\n",
       "NFL NBO UNK SSD YMD TUV \n",
       "  1   2   2   3   5   7 "
      ]
     },
     "metadata": {},
     "output_type": "display_data"
    }
   ],
   "source": [
    "# viewing the first six elements of the dataframe in a sorted manner\n",
    "head(sort(table(myDF$NOC)))"
   ]
  },
  {
   "cell_type": "code",
   "execution_count": 7,
   "id": "63371c56-1227-4285-8603-e6bd73c28e3d",
   "metadata": {},
   "outputs": [
    {
     "data": {
      "text/plain": [
       "\n",
       "  CAN   GER   ITA   GBR   FRA   USA \n",
       " 9733  9830 10715 12256 12758 18853 "
      ]
     },
     "metadata": {},
     "output_type": "display_data"
    }
   ],
   "source": [
    "# viewing the last six elements of the dataframe in a sorted manner as well\n",
    "tail(sort(table(myDF$NOC)))"
   ]
  },
  {
   "cell_type": "markdown",
   "id": "284134fb-5b96-42fa-a29f-ead80d3658b8",
   "metadata": {},
   "source": [
    "### **New** `Head` and `Tail` function with `n` argument"
   ]
  },
  {
   "cell_type": "code",
   "execution_count": 8,
   "id": "d100b30d-5fe6-4e54-85f4-59a19cdab84f",
   "metadata": {},
   "outputs": [
    {
     "data": {
      "text/plain": [
       "\n",
       "  NOR   AUT   CHN   RUS   ESP   FIN   URS   NED   SUI   POL   HUN   AUS   SWE \n",
       " 4960  5141  5141  5143  5313  5467  5685  5839  6150  6207  6607  7638  8339 \n",
       "  JPN   CAN   GER   ITA   GBR   FRA   USA \n",
       " 8444  9733  9830 10715 12256 12758 18853 "
      ]
     },
     "metadata": {},
     "output_type": "display_data"
    }
   ],
   "source": [
    "# in this line I can now view n tail observations (in this case the last 20 observations)\n",
    "tail(sort(table(myDF$NOC)), n = 20)"
   ]
  },
  {
   "cell_type": "code",
   "execution_count": 9,
   "id": "ab01ed46-43f1-4317-947b-708f78bc66ad",
   "metadata": {},
   "outputs": [
    {
     "data": {
      "text/plain": [
       "\n",
       "AFG AHO ALB ALG AND ANG \n",
       "126  79  70 551 169 267 "
      ]
     },
     "metadata": {},
     "output_type": "display_data"
    }
   ],
   "source": [
    "# using the `head` function to retrieve the first six elements of the NOC col.\n",
    "head(table(myDF$NOC))"
   ]
  },
  {
   "cell_type": "code",
   "execution_count": 10,
   "id": "8d6eade3-858e-4895-a2e8-6e8f0b66af43",
   "metadata": {},
   "outputs": [
    {
     "data": {
      "text/plain": [
       "\n",
       "NFL NBO UNK SSD YMD TUV \n",
       "  1   2   2   3   5   7 "
      ]
     },
     "metadata": {},
     "output_type": "display_data"
    }
   ],
   "source": [
    "# using the 'head' function but this time on NOC column table that is sorted. \n",
    "head(sort(table(myDF$NOC)))"
   ]
  },
  {
   "cell_type": "markdown",
   "id": "30329684-3744-4f4d-9a6a-6c91222acb1c",
   "metadata": {},
   "source": [
    "#### Q: Which values appears in the \"Name\" column the most times? "
   ]
  },
  {
   "cell_type": "code",
   "execution_count": 11,
   "id": "5051c755-9dbb-4d87-ae07-9bee2da56d56",
   "metadata": {},
   "outputs": [
    {
     "data": {
      "text/plain": [
       "\n",
       "Jean Lucien Nicolas Jacoby                Takashi Ono \n",
       "                        32                         33 \n",
       "       Ioannis Theofilakis      Joseph \"Josy\" Stoffel \n",
       "                        36                         38 \n",
       "  Heikki Ilmari Savolainen       Robert Tait McKenzie \n",
       "                        39                         58 "
      ]
     },
     "metadata": {},
     "output_type": "display_data"
    }
   ],
   "source": [
    "tail(sort(table(myDF$Name)))"
   ]
  },
  {
   "cell_type": "markdown",
   "id": "7ea804bf-d33c-4206-a345-2905d3b321ac",
   "metadata": {},
   "source": [
    "using the `tail` function and sort the frequencies of the names I was able to discover that **Rober Tait McKenzie** had the most instances in the `Name` column, appearing **58** times."
   ]
  },
  {
   "cell_type": "markdown",
   "id": "8e586edd-ff26-4ce2-8f6b-2424b26f2929",
   "metadata": {},
   "source": [
    "## Question 3"
   ]
  },
  {
   "cell_type": "code",
   "execution_count": 12,
   "id": "bbe0f40d-9655-4653-9ca8-886bdb61cb91",
   "metadata": {},
   "outputs": [
    {
     "data": {
      "text/html": [
       "<table class=\"dataframe\">\n",
       "<caption>A data.frame: 6 x 15</caption>\n",
       "<thead>\n",
       "\t<tr><th></th><th scope=col>ID</th><th scope=col>Name</th><th scope=col>Sex</th><th scope=col>Age</th><th scope=col>Height</th><th scope=col>Weight</th><th scope=col>Team</th><th scope=col>NOC</th><th scope=col>Games</th><th scope=col>Year</th><th scope=col>Season</th><th scope=col>City</th><th scope=col>Sport</th><th scope=col>Event</th><th scope=col>Medal</th></tr>\n",
       "\t<tr><th></th><th scope=col>&lt;int&gt;</th><th scope=col>&lt;chr&gt;</th><th scope=col>&lt;chr&gt;</th><th scope=col>&lt;int&gt;</th><th scope=col>&lt;int&gt;</th><th scope=col>&lt;dbl&gt;</th><th scope=col>&lt;chr&gt;</th><th scope=col>&lt;chr&gt;</th><th scope=col>&lt;chr&gt;</th><th scope=col>&lt;int&gt;</th><th scope=col>&lt;chr&gt;</th><th scope=col>&lt;chr&gt;</th><th scope=col>&lt;chr&gt;</th><th scope=col>&lt;chr&gt;</th><th scope=col>&lt;chr&gt;</th></tr>\n",
       "</thead>\n",
       "<tbody>\n",
       "\t<tr><th scope=row>1</th><td>1</td><td>A Dijiang               </td><td>M</td><td>24</td><td>180</td><td>80</td><td>China         </td><td>CHN</td><td>1992 Summer</td><td>1992</td><td>Summer</td><td>Barcelona</td><td>Basketball   </td><td>Basketball Men's Basketball       </td><td>NA  </td></tr>\n",
       "\t<tr><th scope=row>2</th><td>2</td><td>A Lamusi                </td><td>M</td><td>23</td><td>170</td><td>60</td><td>China         </td><td>CHN</td><td>2012 Summer</td><td>2012</td><td>Summer</td><td>London   </td><td>Judo         </td><td>Judo Men's Extra-Lightweight      </td><td>NA  </td></tr>\n",
       "\t<tr><th scope=row>3</th><td>3</td><td>Gunnar Nielsen Aaby     </td><td>M</td><td>24</td><td> NA</td><td>NA</td><td>Denmark       </td><td>DEN</td><td>1920 Summer</td><td>1920</td><td>Summer</td><td>Antwerpen</td><td>Football     </td><td>Football Men's Football           </td><td>NA  </td></tr>\n",
       "\t<tr><th scope=row>4</th><td>4</td><td>Edgar Lindenau Aabye    </td><td>M</td><td>34</td><td> NA</td><td>NA</td><td>Denmark/Sweden</td><td>DEN</td><td>1900 Summer</td><td>1900</td><td>Summer</td><td>Paris    </td><td>Tug-Of-War   </td><td>Tug-Of-War Men's Tug-Of-War       </td><td>Gold</td></tr>\n",
       "\t<tr><th scope=row>5</th><td>5</td><td>Christine Jacoba Aaftink</td><td>F</td><td>21</td><td>185</td><td>82</td><td>Netherlands   </td><td>NED</td><td>1988 Winter</td><td>1988</td><td>Winter</td><td>Calgary  </td><td>Speed Skating</td><td>Speed Skating Women's 500 metres  </td><td>NA  </td></tr>\n",
       "\t<tr><th scope=row>6</th><td>5</td><td>Christine Jacoba Aaftink</td><td>F</td><td>21</td><td>185</td><td>82</td><td>Netherlands   </td><td>NED</td><td>1988 Winter</td><td>1988</td><td>Winter</td><td>Calgary  </td><td>Speed Skating</td><td>Speed Skating Women's 1,000 metres</td><td>NA  </td></tr>\n",
       "</tbody>\n",
       "</table>\n"
      ],
      "text/latex": [
       "A data.frame: 6 x 15\n",
       "\\begin{tabular}{r|lllllllllllllll}\n",
       "  & ID & Name & Sex & Age & Height & Weight & Team & NOC & Games & Year & Season & City & Sport & Event & Medal\\\\\n",
       "  & <int> & <chr> & <chr> & <int> & <int> & <dbl> & <chr> & <chr> & <chr> & <int> & <chr> & <chr> & <chr> & <chr> & <chr>\\\\\n",
       "\\hline\n",
       "\t1 & 1 & A Dijiang                & M & 24 & 180 & 80 & China          & CHN & 1992 Summer & 1992 & Summer & Barcelona & Basketball    & Basketball Men's Basketball        & NA  \\\\\n",
       "\t2 & 2 & A Lamusi                 & M & 23 & 170 & 60 & China          & CHN & 2012 Summer & 2012 & Summer & London    & Judo          & Judo Men's Extra-Lightweight       & NA  \\\\\n",
       "\t3 & 3 & Gunnar Nielsen Aaby      & M & 24 &  NA & NA & Denmark        & DEN & 1920 Summer & 1920 & Summer & Antwerpen & Football      & Football Men's Football            & NA  \\\\\n",
       "\t4 & 4 & Edgar Lindenau Aabye     & M & 34 &  NA & NA & Denmark/Sweden & DEN & 1900 Summer & 1900 & Summer & Paris     & Tug-Of-War    & Tug-Of-War Men's Tug-Of-War        & Gold\\\\\n",
       "\t5 & 5 & Christine Jacoba Aaftink & F & 21 & 185 & 82 & Netherlands    & NED & 1988 Winter & 1988 & Winter & Calgary   & Speed Skating & Speed Skating Women's 500 metres   & NA  \\\\\n",
       "\t6 & 5 & Christine Jacoba Aaftink & F & 21 & 185 & 82 & Netherlands    & NED & 1988 Winter & 1988 & Winter & Calgary   & Speed Skating & Speed Skating Women's 1,000 metres & NA  \\\\\n",
       "\\end{tabular}\n"
      ],
      "text/markdown": [
       "\n",
       "A data.frame: 6 x 15\n",
       "\n",
       "| <!--/--> | ID &lt;int&gt; | Name &lt;chr&gt; | Sex &lt;chr&gt; | Age &lt;int&gt; | Height &lt;int&gt; | Weight &lt;dbl&gt; | Team &lt;chr&gt; | NOC &lt;chr&gt; | Games &lt;chr&gt; | Year &lt;int&gt; | Season &lt;chr&gt; | City &lt;chr&gt; | Sport &lt;chr&gt; | Event &lt;chr&gt; | Medal &lt;chr&gt; |\n",
       "|---|---|---|---|---|---|---|---|---|---|---|---|---|---|---|---|\n",
       "| 1 | 1 | A Dijiang                | M | 24 | 180 | 80 | China          | CHN | 1992 Summer | 1992 | Summer | Barcelona | Basketball    | Basketball Men's Basketball        | NA   |\n",
       "| 2 | 2 | A Lamusi                 | M | 23 | 170 | 60 | China          | CHN | 2012 Summer | 2012 | Summer | London    | Judo          | Judo Men's Extra-Lightweight       | NA   |\n",
       "| 3 | 3 | Gunnar Nielsen Aaby      | M | 24 |  NA | NA | Denmark        | DEN | 1920 Summer | 1920 | Summer | Antwerpen | Football      | Football Men's Football            | NA   |\n",
       "| 4 | 4 | Edgar Lindenau Aabye     | M | 34 |  NA | NA | Denmark/Sweden | DEN | 1900 Summer | 1900 | Summer | Paris     | Tug-Of-War    | Tug-Of-War Men's Tug-Of-War        | Gold |\n",
       "| 5 | 5 | Christine Jacoba Aaftink | F | 21 | 185 | 82 | Netherlands    | NED | 1988 Winter | 1988 | Winter | Calgary   | Speed Skating | Speed Skating Women's 500 metres   | NA   |\n",
       "| 6 | 5 | Christine Jacoba Aaftink | F | 21 | 185 | 82 | Netherlands    | NED | 1988 Winter | 1988 | Winter | Calgary   | Speed Skating | Speed Skating Women's 1,000 metres | NA   |\n",
       "\n"
      ],
      "text/plain": [
       "  ID Name                     Sex Age Height Weight Team           NOC\n",
       "1 1  A Dijiang                M   24  180    80     China          CHN\n",
       "2 2  A Lamusi                 M   23  170    60     China          CHN\n",
       "3 3  Gunnar Nielsen Aaby      M   24   NA    NA     Denmark        DEN\n",
       "4 4  Edgar Lindenau Aabye     M   34   NA    NA     Denmark/Sweden DEN\n",
       "5 5  Christine Jacoba Aaftink F   21  185    82     Netherlands    NED\n",
       "6 5  Christine Jacoba Aaftink F   21  185    82     Netherlands    NED\n",
       "  Games       Year Season City      Sport        \n",
       "1 1992 Summer 1992 Summer Barcelona Basketball   \n",
       "2 2012 Summer 2012 Summer London    Judo         \n",
       "3 1920 Summer 1920 Summer Antwerpen Football     \n",
       "4 1900 Summer 1900 Summer Paris     Tug-Of-War   \n",
       "5 1988 Winter 1988 Winter Calgary   Speed Skating\n",
       "6 1988 Winter 1988 Winter Calgary   Speed Skating\n",
       "  Event                              Medal\n",
       "1 Basketball Men's Basketball        NA   \n",
       "2 Judo Men's Extra-Lightweight       NA   \n",
       "3 Football Men's Football            NA   \n",
       "4 Tug-Of-War Men's Tug-Of-War        Gold \n",
       "5 Speed Skating Women's 500 metres   NA   \n",
       "6 Speed Skating Women's 1,000 metres NA   "
      ]
     },
     "metadata": {},
     "output_type": "display_data"
    }
   ],
   "source": [
    "# viewing the first six elements of myDF dataframe \n",
    "head(myDF)"
   ]
  },
  {
   "cell_type": "markdown",
   "id": "2952738a-713e-46ef-9ee2-f7cc68bc1c44",
   "metadata": {},
   "source": [
    "How many rows correspond **exactly** to team Denmark?"
   ]
  },
  {
   "cell_type": "code",
   "execution_count": 13,
   "id": "d2123bf4-c4ee-470a-8ebe-9629980c68c7",
   "metadata": {},
   "outputs": [
    {
     "data": {
      "text/html": [
       "3424"
      ],
      "text/latex": [
       "3424"
      ],
      "text/markdown": [
       "3424"
      ],
      "text/plain": [
       "[1] 3424"
      ]
     },
     "metadata": {},
     "output_type": "display_data"
    }
   ],
   "source": [
    "# `sum` is used to find the total number Denmark teams in myDF\n",
    "sum(myDF$Team == \"Denmark\")"
   ]
  },
  {
   "cell_type": "markdown",
   "id": "4b49ec3e-b00f-48fa-9535-9b1facead31c",
   "metadata": {},
   "source": [
    "There are **3424** entries that correspond to team **Denmark**(exact match)"
   ]
  },
  {
   "cell_type": "markdown",
   "id": "35b17c39-83e2-4b53-95b5-42122314aa5e",
   "metadata": {},
   "source": [
    "### `grep()` \n",
    "handy function that finds the location where a pattern occurs\n",
    "\n",
    "### `grepl()`\n",
    "return TRUE or FALSE according to whether or not the pattern occurs"
   ]
  },
  {
   "cell_type": "markdown",
   "id": "a98243de-1184-42b2-95be-95d4888308b8",
   "metadata": {},
   "source": [
    "Now we are going to answer, How many rows have Denmark in the team name? (contains)"
   ]
  },
  {
   "cell_type": "code",
   "execution_count": 14,
   "id": "4f668e12-ad8a-42b9-98cb-74e8417f70aa",
   "metadata": {},
   "outputs": [
    {
     "data": {
      "text/html": [
       "3496"
      ],
      "text/latex": [
       "3496"
      ],
      "text/markdown": [
       "3496"
      ],
      "text/plain": [
       "[1] 3496"
      ]
     },
     "metadata": {},
     "output_type": "display_data"
    }
   ],
   "source": [
    "# getting the total number of teams that contain `Denmark` \n",
    "length(grep(\"Denmark\", myDF$Team))"
   ]
  },
  {
   "cell_type": "code",
   "execution_count": 15,
   "id": "07fddfc4-a836-4760-91ec-3fa45175f973",
   "metadata": {},
   "outputs": [
    {
     "data": {
      "text/html": [
       "<style>\n",
       ".list-inline {list-style: none; margin:0; padding: 0}\n",
       ".list-inline>li {display: inline-block}\n",
       ".list-inline>li:not(:last-child)::after {content: \"\\00b7\"; padding: 0 .5ex}\n",
       "</style>\n",
       "<ol class=list-inline><li>FALSE</li><li>FALSE</li><li>TRUE</li><li>TRUE</li><li>FALSE</li><li>FALSE</li></ol>\n"
      ],
      "text/latex": [
       "\\begin{enumerate*}\n",
       "\\item FALSE\n",
       "\\item FALSE\n",
       "\\item TRUE\n",
       "\\item TRUE\n",
       "\\item FALSE\n",
       "\\item FALSE\n",
       "\\end{enumerate*}\n"
      ],
      "text/markdown": [
       "1. FALSE\n",
       "2. FALSE\n",
       "3. TRUE\n",
       "4. TRUE\n",
       "5. FALSE\n",
       "6. FALSE\n",
       "\n",
       "\n"
      ],
      "text/plain": [
       "[1] FALSE FALSE  TRUE  TRUE FALSE FALSE"
      ]
     },
     "metadata": {},
     "output_type": "display_data"
    }
   ],
   "source": [
    "# viewing whether the first six elements of the Team column contain `Denmark` or not\n",
    "head(grepl(\"Denmark\", myDF$Team))"
   ]
  },
  {
   "cell_type": "code",
   "execution_count": 16,
   "id": "13e0ef52-0bbe-4c9d-b0b3-8ada79af511c",
   "metadata": {},
   "outputs": [
    {
     "data": {
      "text/html": [
       "3496"
      ],
      "text/latex": [
       "3496"
      ],
      "text/markdown": [
       "3496"
      ],
      "text/plain": [
       "[1] 3496"
      ]
     },
     "metadata": {},
     "output_type": "display_data"
    }
   ],
   "source": [
    "sum(grepl(\"Denmark\", myDF$Team))\n",
    "# when TRUE and FALSE values are summed up\n",
    "# the FALSE values become 0 and the TRUE values become 1\n",
    "# so the sum is the number of TRUE values"
   ]
  },
  {
   "cell_type": "markdown",
   "id": "6770faf5-1fbb-46af-b675-52a77b8a2f7f",
   "metadata": {},
   "source": [
    "There a **3496** instances of **Denmark** in these team names but may or may not be the full teams name. "
   ]
  },
  {
   "cell_type": "markdown",
   "id": "1a7257a1-451c-463a-8c6f-e8b2e454dcf6",
   "metadata": {},
   "source": [
    "To answer the final question, The names of teams that have **Denmark** include but are not exactly **Denmark**."
   ]
  },
  {
   "cell_type": "markdown",
   "id": "4c027090-99d0-46ce-956b-c673263b9f54",
   "metadata": {},
   "source": [
    "since we already have the number of rows of teams whose name is exactly Denmark in this case 3424 lets subtract them from the rows that have instances of Denamark which happened to be 3496. This should return the total number of rows of teams whose names contain Denmark but are not exactly Denmark. "
   ]
  },
  {
   "cell_type": "code",
   "execution_count": 17,
   "id": "d18fab8c-db79-4ea4-8c09-21358ac8d6cb",
   "metadata": {},
   "outputs": [
    {
     "data": {
      "text/html": [
       "72"
      ],
      "text/latex": [
       "72"
      ],
      "text/markdown": [
       "72"
      ],
      "text/plain": [
       "[1] 72"
      ]
     },
     "metadata": {},
     "output_type": "display_data"
    }
   ],
   "source": [
    "# [teams whose name is exactly Denmark] - [Instances which Denmarks appear] \n",
    "3496-3424"
   ]
  },
  {
   "cell_type": "markdown",
   "id": "68e83133-ceac-4798-94f4-c376fd064c69",
   "metadata": {},
   "source": [
    "There are **72 rows** that have **Denmark** in the team name but are not exactly **Denmark**"
   ]
  },
  {
   "cell_type": "markdown",
   "id": "da22f29c-d245-4d2b-9fc1-ca14cb6087d9",
   "metadata": {},
   "source": [
    "## Question 4"
   ]
  },
  {
   "cell_type": "markdown",
   "id": "776de3fa-63e5-4a15-a88f-c3e16b563265",
   "metadata": {},
   "source": [
    "### Handling non-comma deliminated format"
   ]
  },
  {
   "cell_type": "markdown",
   "id": "67b3682b-079f-48bc-8207-ea367eaa45b6",
   "metadata": {},
   "source": [
    "### `fread([data], quote = \"\")`\n",
    "reads in the data, and it will **automatically** detect what symbol is placed between the pieces of data. "
   ]
  },
  {
   "cell_type": "code",
   "execution_count": 18,
   "id": "8cffc767-d1c8-4d64-b7dc-f0d2ee8a80d1",
   "metadata": {},
   "outputs": [],
   "source": [
    "# reading the data.table library\n",
    "library(data.table) \n",
    "\n",
    "# using the fread() function to detect the symbol that seperates the pieces of data\n",
    "myDF <- fread(\"/anvil/projects/tdm/data/election/itcont1980.txt\", quote = \"\")\n",
    "\n",
    "# adding names to the columns of the dataframe\n",
    "names(myDF) <- c(\"CMTE_ID\", \"AMNDT_IND\", \"RPT_TP\", \"TRANSACTION_PGI\", \"IMAGE_NUM\",\"TRANSACTION_TP\", \"ENTITY_TP\", \"NAME\", \"CITY\", \"STATE\", \"ZIP_CODE\",\"EMPLOYER\", \"OCCUPATION\", \"TRANSACTION_DT\", \"TRANSACTION_AMT\", \"OTHER_ID\", \"TRAN_ID\", \"FILE_NUM\", \"MEMO_CD\", \"MEMO_TEXT\", \"SUB_ID\")"
   ]
  },
  {
   "cell_type": "markdown",
   "id": "221eb750-ad9e-496c-87ee-2e52dab8bbaf",
   "metadata": {},
   "source": [
    "#### The value that appears in the STATE column the most times"
   ]
  },
  {
   "cell_type": "code",
   "execution_count": 19,
   "id": "1f00c5a4-804a-47b2-840d-de9981fe6304",
   "metadata": {},
   "outputs": [
    {
     "data": {
      "text/plain": [
       "\n",
       "   BE    EL    TU    AS    01    CZ    GU    VI    ND    ZZ    VT    MT    SD \n",
       "    1     1     1     2     3     3    59    91   265   424   453   524   587 \n",
       "   ME    DE    WV    RI    NE    WY    ID    AK    PR    UT    NM    HI    NH \n",
       "  633   704   804   853   915   949   992  1003  1016  1190  1306  1382  1536 \n",
       "   AR    MS    OR    NV    WI    SC    IA    KY    NC    KS    WA    AL    AZ \n",
       " 1721  1869  2199  2268  2395  2424  2573  2601  3203  3321  4109  4389  4415 \n",
       "   MD    IN    CO    VA    MN    MO    TN    LA    DC    GA    OK    MI    NJ \n",
       " 4537  4606  4639  4763  5096  5402  5571  6176  6881  6957  7009  7697  7814 \n",
       "   MA    CT    PA    OH          FL    IL    NY    TX    CA \n",
       " 7826  8402  9546 10865 12654 15576 15895 25669 34862 37069 "
      ]
     },
     "metadata": {},
     "output_type": "display_data"
    }
   ],
   "source": [
    "# sort really does come in handy when determining the largest or smallest value in a dataset. \n",
    "# in this case we are trying to find the largest value. \n",
    "sort(table(myDF$STATE))"
   ]
  },
  {
   "cell_type": "markdown",
   "id": "8af507fc-e4dc-4817-a55f-ce8f5100e957",
   "metadata": {},
   "source": [
    "**`CA`** is the state that appears the most, appearing **37069** times!"
   ]
  },
  {
   "cell_type": "code",
   "execution_count": 20,
   "id": "77575e55-98cb-48dd-8a04-4743a5bf6e47",
   "metadata": {},
   "outputs": [
    {
     "data": {
      "text/html": [
       "217646"
      ],
      "text/latex": [
       "217646"
      ],
      "text/markdown": [
       "217646"
      ],
      "text/plain": [
       "[1] 217646"
      ]
     },
     "metadata": {},
     "output_type": "display_data"
    }
   ],
   "source": [
    "dim(table(myDF$NAME))"
   ]
  },
  {
   "cell_type": "markdown",
   "id": "a15dd65c-6749-4da5-84e1-a60c181de2cf",
   "metadata": {},
   "source": [
    "### The value appears in the NAME column the most times."
   ]
  },
  {
   "cell_type": "code",
   "execution_count": 21,
   "id": "9c2c5143-71ab-429b-9718-c5978754e9d3",
   "metadata": {},
   "outputs": [
    {
     "data": {
      "text/plain": [
       "\n",
       "                            LUCAS, HARRY JR \n",
       "                                         46 \n",
       "                              WILLIAMS, J D \n",
       "                                         64 \n",
       "  DEMOCRATIC CONGRESSIONAL DINNER COMMITTEE \n",
       "                                         65 \n",
       "                               REPP, WARD W \n",
       "                                         89 \n",
       " AMERICAN DENTAL POLITICAL ACTION COMMITTEE \n",
       "                                         96 \n",
       "AMERICAN MEDICAL POLITICAL ACTION COMMITTEE \n",
       "                                        769 "
      ]
     },
     "metadata": {},
     "output_type": "display_data"
    }
   ],
   "source": [
    "# we are going to use the tail function on a sorted column because \n",
    "# the largest value in a sorted column will be the last element. \n",
    "tail(sort(table(myDF$NAME)))"
   ]
  },
  {
   "cell_type": "markdown",
   "id": "0d552245-b4d6-474a-9cc9-fa7b8e674d55",
   "metadata": {},
   "source": [
    "The value that appears the most in NAME column is, `AMERICAN MEDICAL POLITICAL ACTION COMMITTEE` appearing **769** times."
   ]
  },
  {
   "cell_type": "markdown",
   "id": "88c9cdac-3e92-498f-83fa-e089bfc44ac8",
   "metadata": {},
   "source": [
    "## Question 5"
   ]
  },
  {
   "cell_type": "markdown",
   "id": "94a6f12b-a067-463f-8793-6744353b6636",
   "metadata": {},
   "source": [
    "### `paste()` \n",
    "joins column elements together"
   ]
  },
  {
   "cell_type": "markdown",
   "id": "781638ec-79e8-40bf-9fe7-f504d3895aac",
   "metadata": {},
   "source": [
    "We are going to use `paste` command to join CITY and STATE columns, to determinge where the top 5 city and sate location where the donation where made. "
   ]
  },
  {
   "cell_type": "code",
   "execution_count": 22,
   "id": "f6c5b958-8e13-43f9-ac83-090f01fb7537",
   "metadata": {},
   "outputs": [
    {
     "data": {
      "text/html": [
       "<style>\n",
       ".list-inline {list-style: none; margin:0; padding: 0}\n",
       ".list-inline>li {display: inline-block}\n",
       ".list-inline>li:not(:last-child)::after {content: \"\\00b7\"; padding: 0 .5ex}\n",
       "</style>\n",
       "<ol class=list-inline><li>'MIDLAND'</li><li>'MIDLAND'</li><li>'MIDLAND'</li><li>'MIDLAND'</li><li>'CHICAGO'</li><li>'CHICAGO'</li></ol>\n"
      ],
      "text/latex": [
       "\\begin{enumerate*}\n",
       "\\item 'MIDLAND'\n",
       "\\item 'MIDLAND'\n",
       "\\item 'MIDLAND'\n",
       "\\item 'MIDLAND'\n",
       "\\item 'CHICAGO'\n",
       "\\item 'CHICAGO'\n",
       "\\end{enumerate*}\n"
      ],
      "text/markdown": [
       "1. 'MIDLAND'\n",
       "2. 'MIDLAND'\n",
       "3. 'MIDLAND'\n",
       "4. 'MIDLAND'\n",
       "5. 'CHICAGO'\n",
       "6. 'CHICAGO'\n",
       "\n",
       "\n"
      ],
      "text/plain": [
       "[1] \"MIDLAND\" \"MIDLAND\" \"MIDLAND\" \"MIDLAND\" \"CHICAGO\" \"CHICAGO\""
      ]
     },
     "metadata": {},
     "output_type": "display_data"
    }
   ],
   "source": [
    "head(myDF$CITY)"
   ]
  },
  {
   "cell_type": "code",
   "execution_count": 23,
   "id": "7487e165-4956-484b-84ba-6d486c30b558",
   "metadata": {},
   "outputs": [
    {
     "data": {
      "text/html": [
       "<style>\n",
       ".list-inline {list-style: none; margin:0; padding: 0}\n",
       ".list-inline>li {display: inline-block}\n",
       ".list-inline>li:not(:last-child)::after {content: \"\\00b7\"; padding: 0 .5ex}\n",
       "</style>\n",
       "<ol class=list-inline><li>'MI'</li><li>'MI'</li><li>'MI'</li><li>'MI'</li><li>'IL'</li><li>'IL'</li></ol>\n"
      ],
      "text/latex": [
       "\\begin{enumerate*}\n",
       "\\item 'MI'\n",
       "\\item 'MI'\n",
       "\\item 'MI'\n",
       "\\item 'MI'\n",
       "\\item 'IL'\n",
       "\\item 'IL'\n",
       "\\end{enumerate*}\n"
      ],
      "text/markdown": [
       "1. 'MI'\n",
       "2. 'MI'\n",
       "3. 'MI'\n",
       "4. 'MI'\n",
       "5. 'IL'\n",
       "6. 'IL'\n",
       "\n",
       "\n"
      ],
      "text/plain": [
       "[1] \"MI\" \"MI\" \"MI\" \"MI\" \"IL\" \"IL\""
      ]
     },
     "metadata": {},
     "output_type": "display_data"
    }
   ],
   "source": [
    "head(myDF$STATE)"
   ]
  },
  {
   "cell_type": "code",
   "execution_count": 24,
   "id": "12a40762-2706-4888-bd82-6eac31744ca5",
   "metadata": {},
   "outputs": [
    {
     "data": {
      "text/html": [
       "<style>\n",
       ".list-inline {list-style: none; margin:0; padding: 0}\n",
       ".list-inline>li {display: inline-block}\n",
       ".list-inline>li:not(:last-child)::after {content: \"\\00b7\"; padding: 0 .5ex}\n",
       "</style>\n",
       "<ol class=list-inline><li>'MIDLAND MI'</li><li>'MIDLAND MI'</li><li>'MIDLAND MI'</li><li>'MIDLAND MI'</li><li>'CHICAGO IL'</li><li>'CHICAGO IL'</li></ol>\n"
      ],
      "text/latex": [
       "\\begin{enumerate*}\n",
       "\\item 'MIDLAND MI'\n",
       "\\item 'MIDLAND MI'\n",
       "\\item 'MIDLAND MI'\n",
       "\\item 'MIDLAND MI'\n",
       "\\item 'CHICAGO IL'\n",
       "\\item 'CHICAGO IL'\n",
       "\\end{enumerate*}\n"
      ],
      "text/markdown": [
       "1. 'MIDLAND MI'\n",
       "2. 'MIDLAND MI'\n",
       "3. 'MIDLAND MI'\n",
       "4. 'MIDLAND MI'\n",
       "5. 'CHICAGO IL'\n",
       "6. 'CHICAGO IL'\n",
       "\n",
       "\n"
      ],
      "text/plain": [
       "[1] \"MIDLAND MI\" \"MIDLAND MI\" \"MIDLAND MI\" \"MIDLAND MI\" \"CHICAGO IL\"\n",
       "[6] \"CHICAGO IL\""
      ]
     },
     "metadata": {},
     "output_type": "display_data"
    }
   ],
   "source": [
    "paste(head(myDF$CITY), head(myDF$STATE))"
   ]
  },
  {
   "cell_type": "code",
   "execution_count": 25,
   "id": "1ce353d4-c526-4619-875e-2713925e782f",
   "metadata": {},
   "outputs": [
    {
     "data": {
      "text/plain": [
       "\n",
       " ID  KS  LA  MO  OK  TN \n",
       "  1   1   1   1   1   1 "
      ]
     },
     "metadata": {},
     "output_type": "display_data"
    }
   ],
   "source": [
    "head(sort(table(paste(myDF$CITY, myDF$STATE))))"
   ]
  },
  {
   "cell_type": "code",
   "execution_count": 26,
   "id": "39f9a8f3-d51b-441e-874a-9fc0772db689",
   "metadata": {},
   "outputs": [
    {
     "data": {
      "text/plain": [
       "\n",
       "LOS ANGELES CA  WASHINGTON DC      DALLAS TX     HOUSTON TX                \n",
       "          5866           5890           6438          10146          11582 \n",
       "   NEW YORK NY \n",
       "         13862 "
      ]
     },
     "metadata": {},
     "output_type": "display_data"
    }
   ],
   "source": [
    "tail(sort(table(paste(myDF$CITY, myDF$STATE))))"
   ]
  },
  {
   "cell_type": "code",
   "execution_count": 27,
   "id": "8ae94a85-b403-4272-b032-4578a5be8e17",
   "metadata": {},
   "outputs": [
    {
     "data": {
      "text/plain": [
       "\n",
       "   CINCINNATI OH     NASHVILLE TN       SEATTLE WA     GREENWICH CT \n",
       "            1535             1543             1607             1855 \n",
       "        TULSA OK        DENVER CO         MIAMI FL OKLAHOMA CITY OK \n",
       "            1919             1968             1983             2014 \n",
       "  SAN ANTONIO TX BEVERLY HILLS CA      ST LOUIS MO SAN FRANCISCO CA \n",
       "            2103             2451             2581             2904 \n",
       "      ATLANTA GA       CHICAGO IL   LOS ANGELES CA    WASHINGTON DC \n",
       "            2932             4841             5866             5890 \n",
       "       DALLAS TX       HOUSTON TX                       NEW YORK NY \n",
       "            6438            10146            11582            13862 "
      ]
     },
     "metadata": {},
     "output_type": "display_data"
    }
   ],
   "source": [
    "tail(sort(table(paste(myDF$CITY, myDF$STATE))), n = 20)"
   ]
  },
  {
   "cell_type": "markdown",
   "id": "58d0d91f-d420-442e-b14f-d6d285dc7b0c",
   "metadata": {},
   "source": [
    "To answer the question then we are going to want to view the top 5 states and city that contain the most donations. In this case are going to get the last 5 CITY and STATES from the sorted merged city and state column since these values will be larger than the ones found somewhere at the top of the sorted table."
   ]
  },
  {
   "cell_type": "code",
   "execution_count": 28,
   "id": "f16e0a4f-6243-4e94-90e9-75024a8b4113",
   "metadata": {},
   "outputs": [
    {
     "data": {
      "text/plain": [
       "\n",
       "WASHINGTON DC     DALLAS TX    HOUSTON TX                 NEW YORK NY \n",
       "         5890          6438         10146         11582         13862 "
      ]
     },
     "metadata": {},
     "output_type": "display_data"
    }
   ],
   "source": [
    "tail(sort(table(paste(myDF$CITY, myDF$STATE))), n = 5)"
   ]
  },
  {
   "cell_type": "markdown",
   "id": "e21688e8-ed48-47bf-877d-e5e4391e7e7b",
   "metadata": {},
   "source": [
    "There is indeed **11582** rows in the data set in which the CITY and STATE are **both empty**."
   ]
  },
  {
   "cell_type": "markdown",
   "id": "7369bbb4-54a3-4ace-b550-2a946036ef8b",
   "metadata": {},
   "source": [
    "The top 5 states with the most donations is `New York, NY`, NULL, `Houston, TX`, `Dallas, TX`, `Washington, DC` <br> \n",
    "The **second place CITY and STATE** has **11582** entries which happens to be empty for both CITY and STATE name. "
   ]
  },
  {
   "cell_type": "markdown",
   "id": "f76442d6-d02e-4f26-b9d6-c3183e1d6929",
   "metadata": {},
   "source": [
    "## Pledge\n",
    "\n",
    "By submitting this work I hereby pledge that this is my own, personal work. I've acknowledged in the designated place at the top of this file all sources that I used to complete said work, including but not limited to: online resources, books, and electronic communications. I've noted all collaboration with fellow students and/or TA's. I did not copy or plagiarize another's work.\n",
    "\n",
    "> As a Boilermaker pursuing academic excellence, I pledge to be honest and true in all that I do. Accountable together – We are Purdue."
   ]
  }
 ],
 "metadata": {
  "kernelspec": {
   "display_name": "seminar-r",
   "language": "R",
   "name": "seminar-r"
  },
  "language_info": {
   "codemirror_mode": "r",
   "file_extension": ".r",
   "mimetype": "text/x-r-source",
   "name": "R",
   "pygments_lexer": "r",
   "version": "4.3.1"
  }
 },
 "nbformat": 4,
 "nbformat_minor": 5
}
