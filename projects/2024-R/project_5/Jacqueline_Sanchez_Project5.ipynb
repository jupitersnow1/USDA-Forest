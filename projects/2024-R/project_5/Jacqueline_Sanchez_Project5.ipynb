{
 "cells": [
  {
   "cell_type": "markdown",
   "id": "be02a957-7133-4d02-818e-fedeb3cecb05",
   "metadata": {},
   "source": [
    "# Project 5 -- Jacqueline Sanchez"
   ]
  },
  {
   "cell_type": "markdown",
   "id": "a1228853-dd19-4ab2-89e0-0394d7d72de3",
   "metadata": {},
   "source": [
    "**TA Help:** N/A\n",
    "\n",
    "- \n",
    "    \n",
    "**Collaboration:** N/A\n",
    "    \n",
    "- \n",
    "- "
   ]
  },
  {
   "cell_type": "markdown",
   "id": "4f6c3caf-782e-4b59-b58f-83f7e90753fe",
   "metadata": {},
   "source": [
    "Notes for myself: <br>\n",
    "Objective: \n",
    "- Learning about how to work with missing data and how to take subsets of data. "
   ]
  },
  {
   "cell_type": "markdown",
   "id": "6180e742-8e39-4698-98ff-5b00c8cf8ea0",
   "metadata": {},
   "source": [
    "### Pre-Practice Examples"
   ]
  },
  {
   "cell_type": "code",
   "execution_count": 1,
   "id": "24bf8bf8-987d-4f2c-aa08-6fd75bab704e",
   "metadata": {},
   "outputs": [],
   "source": [
    "# importing libary\n",
    "library(data.table)"
   ]
  },
  {
   "cell_type": "code",
   "execution_count": 2,
   "id": "49445606-d363-41b4-b479-e319a9a84c01",
   "metadata": {},
   "outputs": [
    {
     "data": {
      "text/html": [
       "<table>\n",
       "<caption>A data.table: 6 x 15</caption>\n",
       "<thead>\n",
       "\t<tr><th scope=col>ID</th><th scope=col>Name</th><th scope=col>Sex</th><th scope=col>Age</th><th scope=col>Height</th><th scope=col>Weight</th><th scope=col>Team</th><th scope=col>NOC</th><th scope=col>Games</th><th scope=col>Year</th><th scope=col>Season</th><th scope=col>City</th><th scope=col>Sport</th><th scope=col>Event</th><th scope=col>Medal</th></tr>\n",
       "\t<tr><th scope=col>&lt;int&gt;</th><th scope=col>&lt;chr&gt;</th><th scope=col>&lt;chr&gt;</th><th scope=col>&lt;int&gt;</th><th scope=col>&lt;int&gt;</th><th scope=col>&lt;dbl&gt;</th><th scope=col>&lt;chr&gt;</th><th scope=col>&lt;chr&gt;</th><th scope=col>&lt;chr&gt;</th><th scope=col>&lt;int&gt;</th><th scope=col>&lt;chr&gt;</th><th scope=col>&lt;chr&gt;</th><th scope=col>&lt;chr&gt;</th><th scope=col>&lt;chr&gt;</th><th scope=col>&lt;chr&gt;</th></tr>\n",
       "</thead>\n",
       "<tbody>\n",
       "\t<tr><td>1</td><td>A Dijiang               </td><td>M</td><td>24</td><td>180</td><td>80</td><td>China         </td><td>CHN</td><td>1992 Summer</td><td>1992</td><td>Summer</td><td>Barcelona</td><td>Basketball   </td><td>Basketball Men's Basketball       </td><td>NA  </td></tr>\n",
       "\t<tr><td>2</td><td>A Lamusi                </td><td>M</td><td>23</td><td>170</td><td>60</td><td>China         </td><td>CHN</td><td>2012 Summer</td><td>2012</td><td>Summer</td><td>London   </td><td>Judo         </td><td>Judo Men's Extra-Lightweight      </td><td>NA  </td></tr>\n",
       "\t<tr><td>3</td><td>Gunnar Nielsen Aaby     </td><td>M</td><td>24</td><td> NA</td><td>NA</td><td>Denmark       </td><td>DEN</td><td>1920 Summer</td><td>1920</td><td>Summer</td><td>Antwerpen</td><td>Football     </td><td>Football Men's Football           </td><td>NA  </td></tr>\n",
       "\t<tr><td>4</td><td>Edgar Lindenau Aabye    </td><td>M</td><td>34</td><td> NA</td><td>NA</td><td>Denmark/Sweden</td><td>DEN</td><td>1900 Summer</td><td>1900</td><td>Summer</td><td>Paris    </td><td>Tug-Of-War   </td><td>Tug-Of-War Men's Tug-Of-War       </td><td>Gold</td></tr>\n",
       "\t<tr><td>5</td><td>Christine Jacoba Aaftink</td><td>F</td><td>21</td><td>185</td><td>82</td><td>Netherlands   </td><td>NED</td><td>1988 Winter</td><td>1988</td><td>Winter</td><td>Calgary  </td><td>Speed Skating</td><td>Speed Skating Women's 500 metres  </td><td>NA  </td></tr>\n",
       "\t<tr><td>5</td><td>Christine Jacoba Aaftink</td><td>F</td><td>21</td><td>185</td><td>82</td><td>Netherlands   </td><td>NED</td><td>1988 Winter</td><td>1988</td><td>Winter</td><td>Calgary  </td><td>Speed Skating</td><td>Speed Skating Women's 1,000 metres</td><td>NA  </td></tr>\n",
       "</tbody>\n",
       "</table>\n"
      ],
      "text/latex": [
       "A data.table: 6 x 15\n",
       "\\begin{tabular}{lllllllllllllll}\n",
       " ID & Name & Sex & Age & Height & Weight & Team & NOC & Games & Year & Season & City & Sport & Event & Medal\\\\\n",
       " <int> & <chr> & <chr> & <int> & <int> & <dbl> & <chr> & <chr> & <chr> & <int> & <chr> & <chr> & <chr> & <chr> & <chr>\\\\\n",
       "\\hline\n",
       "\t 1 & A Dijiang                & M & 24 & 180 & 80 & China          & CHN & 1992 Summer & 1992 & Summer & Barcelona & Basketball    & Basketball Men's Basketball        & NA  \\\\\n",
       "\t 2 & A Lamusi                 & M & 23 & 170 & 60 & China          & CHN & 2012 Summer & 2012 & Summer & London    & Judo          & Judo Men's Extra-Lightweight       & NA  \\\\\n",
       "\t 3 & Gunnar Nielsen Aaby      & M & 24 &  NA & NA & Denmark        & DEN & 1920 Summer & 1920 & Summer & Antwerpen & Football      & Football Men's Football            & NA  \\\\\n",
       "\t 4 & Edgar Lindenau Aabye     & M & 34 &  NA & NA & Denmark/Sweden & DEN & 1900 Summer & 1900 & Summer & Paris     & Tug-Of-War    & Tug-Of-War Men's Tug-Of-War        & Gold\\\\\n",
       "\t 5 & Christine Jacoba Aaftink & F & 21 & 185 & 82 & Netherlands    & NED & 1988 Winter & 1988 & Winter & Calgary   & Speed Skating & Speed Skating Women's 500 metres   & NA  \\\\\n",
       "\t 5 & Christine Jacoba Aaftink & F & 21 & 185 & 82 & Netherlands    & NED & 1988 Winter & 1988 & Winter & Calgary   & Speed Skating & Speed Skating Women's 1,000 metres & NA  \\\\\n",
       "\\end{tabular}\n"
      ],
      "text/markdown": [
       "\n",
       "A data.table: 6 x 15\n",
       "\n",
       "| ID &lt;int&gt; | Name &lt;chr&gt; | Sex &lt;chr&gt; | Age &lt;int&gt; | Height &lt;int&gt; | Weight &lt;dbl&gt; | Team &lt;chr&gt; | NOC &lt;chr&gt; | Games &lt;chr&gt; | Year &lt;int&gt; | Season &lt;chr&gt; | City &lt;chr&gt; | Sport &lt;chr&gt; | Event &lt;chr&gt; | Medal &lt;chr&gt; |\n",
       "|---|---|---|---|---|---|---|---|---|---|---|---|---|---|---|\n",
       "| 1 | A Dijiang                | M | 24 | 180 | 80 | China          | CHN | 1992 Summer | 1992 | Summer | Barcelona | Basketball    | Basketball Men's Basketball        | NA   |\n",
       "| 2 | A Lamusi                 | M | 23 | 170 | 60 | China          | CHN | 2012 Summer | 2012 | Summer | London    | Judo          | Judo Men's Extra-Lightweight       | NA   |\n",
       "| 3 | Gunnar Nielsen Aaby      | M | 24 |  NA | NA | Denmark        | DEN | 1920 Summer | 1920 | Summer | Antwerpen | Football      | Football Men's Football            | NA   |\n",
       "| 4 | Edgar Lindenau Aabye     | M | 34 |  NA | NA | Denmark/Sweden | DEN | 1900 Summer | 1900 | Summer | Paris     | Tug-Of-War    | Tug-Of-War Men's Tug-Of-War        | Gold |\n",
       "| 5 | Christine Jacoba Aaftink | F | 21 | 185 | 82 | Netherlands    | NED | 1988 Winter | 1988 | Winter | Calgary   | Speed Skating | Speed Skating Women's 500 metres   | NA   |\n",
       "| 5 | Christine Jacoba Aaftink | F | 21 | 185 | 82 | Netherlands    | NED | 1988 Winter | 1988 | Winter | Calgary   | Speed Skating | Speed Skating Women's 1,000 metres | NA   |\n",
       "\n"
      ],
      "text/plain": [
       "  ID Name                     Sex Age Height Weight Team           NOC\n",
       "1 1  A Dijiang                M   24  180    80     China          CHN\n",
       "2 2  A Lamusi                 M   23  170    60     China          CHN\n",
       "3 3  Gunnar Nielsen Aaby      M   24   NA    NA     Denmark        DEN\n",
       "4 4  Edgar Lindenau Aabye     M   34   NA    NA     Denmark/Sweden DEN\n",
       "5 5  Christine Jacoba Aaftink F   21  185    82     Netherlands    NED\n",
       "6 5  Christine Jacoba Aaftink F   21  185    82     Netherlands    NED\n",
       "  Games       Year Season City      Sport        \n",
       "1 1992 Summer 1992 Summer Barcelona Basketball   \n",
       "2 2012 Summer 2012 Summer London    Judo         \n",
       "3 1920 Summer 1920 Summer Antwerpen Football     \n",
       "4 1900 Summer 1900 Summer Paris     Tug-Of-War   \n",
       "5 1988 Winter 1988 Winter Calgary   Speed Skating\n",
       "6 1988 Winter 1988 Winter Calgary   Speed Skating\n",
       "  Event                              Medal\n",
       "1 Basketball Men's Basketball        NA   \n",
       "2 Judo Men's Extra-Lightweight       NA   \n",
       "3 Football Men's Football            NA   \n",
       "4 Tug-Of-War Men's Tug-Of-War        Gold \n",
       "5 Speed Skating Women's 500 metres   NA   \n",
       "6 Speed Skating Women's 1,000 metres NA   "
      ]
     },
     "metadata": {},
     "output_type": "display_data"
    }
   ],
   "source": [
    "# code here\n",
    "myDF <- fread(\"/anvil/projects/tdm/data/olympics/athlete_events.csv\")\n",
    "head(myDF)"
   ]
  },
  {
   "cell_type": "code",
   "execution_count": 3,
   "id": "649a6767-2890-474c-b1aa-3ffe2aa25414",
   "metadata": {},
   "outputs": [
    {
     "data": {
      "text/plain": [
       "\n",
       "Bronze   Gold Silver   <NA> \n",
       " 13295  13372  13116 231333 "
      ]
     },
     "metadata": {},
     "output_type": "display_data"
    }
   ],
   "source": [
    "#checking the missing values\n",
    "table(myDF$Medal, useNA = \"always\")"
   ]
  },
  {
   "cell_type": "code",
   "execution_count": 4,
   "id": "e4242d9a-9299-42d9-baa9-cf203d57ae3c",
   "metadata": {},
   "outputs": [
    {
     "data": {
      "text/html": [
       "<style>\n",
       ".list-inline {list-style: none; margin:0; padding: 0}\n",
       ".list-inline>li {display: inline-block}\n",
       ".list-inline>li:not(:last-child)::after {content: \"\\00b7\"; padding: 0 .5ex}\n",
       "</style>\n",
       "<ol class=list-inline><li>271116</li><li>15</li></ol>\n"
      ],
      "text/latex": [
       "\\begin{enumerate*}\n",
       "\\item 271116\n",
       "\\item 15\n",
       "\\end{enumerate*}\n"
      ],
      "text/markdown": [
       "1. 271116\n",
       "2. 15\n",
       "\n",
       "\n"
      ],
      "text/plain": [
       "[1] 271116     15"
      ]
     },
     "metadata": {},
     "output_type": "display_data"
    }
   ],
   "source": [
    "dim(myDF) #27111615 rows and 15 columns"
   ]
  },
  {
   "cell_type": "markdown",
   "id": "2728550d-19af-4b36-9f1c-f90f4b70e4ff",
   "metadata": {},
   "source": [
    "### Using the `.na` and `subset()` to remove missing values"
   ]
  },
  {
   "cell_type": "code",
   "execution_count": 5,
   "id": "ba4b5e0f-e723-406b-a124-d0112df69c58",
   "metadata": {},
   "outputs": [
    {
     "data": {
      "text/html": [
       "<style>\n",
       ".list-inline {list-style: none; margin:0; padding: 0}\n",
       ".list-inline>li {display: inline-block}\n",
       ".list-inline>li:not(:last-child)::after {content: \"\\00b7\"; padding: 0 .5ex}\n",
       "</style>\n",
       "<ol class=list-inline><li>271116</li><li>15</li></ol>\n"
      ],
      "text/latex": [
       "\\begin{enumerate*}\n",
       "\\item 271116\n",
       "\\item 15\n",
       "\\end{enumerate*}\n"
      ],
      "text/markdown": [
       "1. 271116\n",
       "2. 15\n",
       "\n",
       "\n"
      ],
      "text/plain": [
       "[1] 271116     15"
      ]
     },
     "metadata": {},
     "output_type": "display_data"
    },
    {
     "data": {
      "text/html": [
       "<style>\n",
       ".list-inline {list-style: none; margin:0; padding: 0}\n",
       ".list-inline>li {display: inline-block}\n",
       ".list-inline>li:not(:last-child)::after {content: \"\\00b7\"; padding: 0 .5ex}\n",
       "</style>\n",
       "<ol class=list-inline><li>39783</li><li>15</li></ol>\n"
      ],
      "text/latex": [
       "\\begin{enumerate*}\n",
       "\\item 39783\n",
       "\\item 15\n",
       "\\end{enumerate*}\n"
      ],
      "text/markdown": [
       "1. 39783\n",
       "2. 15\n",
       "\n",
       "\n"
      ],
      "text/plain": [
       "[1] 39783    15"
      ]
     },
     "metadata": {},
     "output_type": "display_data"
    }
   ],
   "source": [
    "#another way to missing values are present in our dataframe\n",
    "dim(myDF)\n",
    "goodmedalsDF <- subset(myDF, !is.na(Medal))\n",
    "dim(goodmedalsDF)"
   ]
  },
  {
   "cell_type": "code",
   "execution_count": 1,
   "id": "f7b13961-f432-4eb2-a977-c3827e87794b",
   "metadata": {},
   "outputs": [
    {
     "ename": "ERROR",
     "evalue": "Error in head(goodmedalsDF): object 'goodmedalsDF' not found\n",
     "execution_count": 1,
     "output_type": "error",
     "traceback": [
      "Error in head(goodmedalsDF): object 'goodmedalsDF' not found\nTraceback:\n",
      "1. head(goodmedalsDF)"
     ]
    }
   ],
   "source": [
    "head(goodmedalsDF)"
   ]
  },
  {
   "cell_type": "markdown",
   "id": "b456e57c-4a12-464b-999a-ef2df5af80c1",
   "metadata": {},
   "source": [
    "In this example we demostrated that we can use `.na` and `subset()` to remove missing values. "
   ]
  },
  {
   "cell_type": "markdown",
   "id": "b9092d19-5ce2-4522-abff-f56303c143cb",
   "metadata": {},
   "source": [
    "## Question 1"
   ]
  },
  {
   "cell_type": "code",
   "execution_count": 7,
   "id": "3f3ca998-51a8-4002-9151-acdc0affee1b",
   "metadata": {},
   "outputs": [
    {
     "data": {
      "text/html": [
       "<table>\n",
       "<caption>A data.table: 6 x 38</caption>\n",
       "<thead>\n",
       "\t<tr><th scope=col>Id</th><th scope=col>ResidentStatus</th><th scope=col>Education1989Revision</th><th scope=col>Education2003Revision</th><th scope=col>EducationReportingFlag</th><th scope=col>MonthOfDeath</th><th scope=col>Sex</th><th scope=col>AgeType</th><th scope=col>Age</th><th scope=col>AgeSubstitutionFlag</th><th scope=col>...</th><th scope=col>CauseRecode39</th><th scope=col>NumberOfEntityAxisConditions</th><th scope=col>NumberOfRecordAxisConditions</th><th scope=col>Race</th><th scope=col>BridgedRaceFlag</th><th scope=col>RaceImputationFlag</th><th scope=col>RaceRecode3</th><th scope=col>RaceRecode5</th><th scope=col>HispanicOrigin</th><th scope=col>HispanicOriginRaceRecode</th></tr>\n",
       "\t<tr><th scope=col>&lt;int&gt;</th><th scope=col>&lt;int&gt;</th><th scope=col>&lt;int&gt;</th><th scope=col>&lt;int&gt;</th><th scope=col>&lt;int&gt;</th><th scope=col>&lt;int&gt;</th><th scope=col>&lt;chr&gt;</th><th scope=col>&lt;int&gt;</th><th scope=col>&lt;int&gt;</th><th scope=col>&lt;int&gt;</th><th scope=col>...</th><th scope=col>&lt;int&gt;</th><th scope=col>&lt;int&gt;</th><th scope=col>&lt;int&gt;</th><th scope=col>&lt;int&gt;</th><th scope=col>&lt;int&gt;</th><th scope=col>&lt;int&gt;</th><th scope=col>&lt;int&gt;</th><th scope=col>&lt;int&gt;</th><th scope=col>&lt;int&gt;</th><th scope=col>&lt;int&gt;</th></tr>\n",
       "</thead>\n",
       "<tbody>\n",
       "\t<tr><td>1</td><td>1</td><td>0</td><td>2</td><td>1</td><td>1</td><td>M</td><td>1</td><td>87</td><td>0</td><td>...</td><td>24</td><td>1</td><td>1</td><td>1</td><td>0</td><td>0</td><td>1</td><td>1</td><td>100</td><td>6</td></tr>\n",
       "\t<tr><td>2</td><td>1</td><td>0</td><td>2</td><td>1</td><td>1</td><td>M</td><td>1</td><td>58</td><td>0</td><td>...</td><td>21</td><td>3</td><td>3</td><td>1</td><td>0</td><td>0</td><td>1</td><td>1</td><td>100</td><td>6</td></tr>\n",
       "\t<tr><td>3</td><td>1</td><td>0</td><td>7</td><td>1</td><td>1</td><td>F</td><td>1</td><td>75</td><td>0</td><td>...</td><td>28</td><td>2</td><td>2</td><td>1</td><td>0</td><td>0</td><td>1</td><td>1</td><td>100</td><td>6</td></tr>\n",
       "\t<tr><td>4</td><td>1</td><td>0</td><td>6</td><td>1</td><td>1</td><td>M</td><td>1</td><td>74</td><td>0</td><td>...</td><td>22</td><td>3</td><td>3</td><td>1</td><td>0</td><td>0</td><td>1</td><td>1</td><td>100</td><td>6</td></tr>\n",
       "\t<tr><td>5</td><td>1</td><td>0</td><td>3</td><td>1</td><td>1</td><td>M</td><td>1</td><td>64</td><td>0</td><td>...</td><td>21</td><td>1</td><td>1</td><td>1</td><td>0</td><td>0</td><td>1</td><td>1</td><td>100</td><td>6</td></tr>\n",
       "\t<tr><td>6</td><td>1</td><td>0</td><td>5</td><td>1</td><td>1</td><td>F</td><td>1</td><td>93</td><td>0</td><td>...</td><td>37</td><td>5</td><td>5</td><td>1</td><td>0</td><td>0</td><td>1</td><td>1</td><td>100</td><td>6</td></tr>\n",
       "</tbody>\n",
       "</table>\n"
      ],
      "text/latex": [
       "A data.table: 6 x 38\n",
       "\\begin{tabular}{lllllllllllllllllllll}\n",
       " Id & ResidentStatus & Education1989Revision & Education2003Revision & EducationReportingFlag & MonthOfDeath & Sex & AgeType & Age & AgeSubstitutionFlag & ... & CauseRecode39 & NumberOfEntityAxisConditions & NumberOfRecordAxisConditions & Race & BridgedRaceFlag & RaceImputationFlag & RaceRecode3 & RaceRecode5 & HispanicOrigin & HispanicOriginRaceRecode\\\\\n",
       " <int> & <int> & <int> & <int> & <int> & <int> & <chr> & <int> & <int> & <int> & ... & <int> & <int> & <int> & <int> & <int> & <int> & <int> & <int> & <int> & <int>\\\\\n",
       "\\hline\n",
       "\t 1 & 1 & 0 & 2 & 1 & 1 & M & 1 & 87 & 0 & ... & 24 & 1 & 1 & 1 & 0 & 0 & 1 & 1 & 100 & 6\\\\\n",
       "\t 2 & 1 & 0 & 2 & 1 & 1 & M & 1 & 58 & 0 & ... & 21 & 3 & 3 & 1 & 0 & 0 & 1 & 1 & 100 & 6\\\\\n",
       "\t 3 & 1 & 0 & 7 & 1 & 1 & F & 1 & 75 & 0 & ... & 28 & 2 & 2 & 1 & 0 & 0 & 1 & 1 & 100 & 6\\\\\n",
       "\t 4 & 1 & 0 & 6 & 1 & 1 & M & 1 & 74 & 0 & ... & 22 & 3 & 3 & 1 & 0 & 0 & 1 & 1 & 100 & 6\\\\\n",
       "\t 5 & 1 & 0 & 3 & 1 & 1 & M & 1 & 64 & 0 & ... & 21 & 1 & 1 & 1 & 0 & 0 & 1 & 1 & 100 & 6\\\\\n",
       "\t 6 & 1 & 0 & 5 & 1 & 1 & F & 1 & 93 & 0 & ... & 37 & 5 & 5 & 1 & 0 & 0 & 1 & 1 & 100 & 6\\\\\n",
       "\\end{tabular}\n"
      ],
      "text/markdown": [
       "\n",
       "A data.table: 6 x 38\n",
       "\n",
       "| Id &lt;int&gt; | ResidentStatus &lt;int&gt; | Education1989Revision &lt;int&gt; | Education2003Revision &lt;int&gt; | EducationReportingFlag &lt;int&gt; | MonthOfDeath &lt;int&gt; | Sex &lt;chr&gt; | AgeType &lt;int&gt; | Age &lt;int&gt; | AgeSubstitutionFlag &lt;int&gt; | ... ... | CauseRecode39 &lt;int&gt; | NumberOfEntityAxisConditions &lt;int&gt; | NumberOfRecordAxisConditions &lt;int&gt; | Race &lt;int&gt; | BridgedRaceFlag &lt;int&gt; | RaceImputationFlag &lt;int&gt; | RaceRecode3 &lt;int&gt; | RaceRecode5 &lt;int&gt; | HispanicOrigin &lt;int&gt; | HispanicOriginRaceRecode &lt;int&gt; |\n",
       "|---|---|---|---|---|---|---|---|---|---|---|---|---|---|---|---|---|---|---|---|---|\n",
       "| 1 | 1 | 0 | 2 | 1 | 1 | M | 1 | 87 | 0 | ... | 24 | 1 | 1 | 1 | 0 | 0 | 1 | 1 | 100 | 6 |\n",
       "| 2 | 1 | 0 | 2 | 1 | 1 | M | 1 | 58 | 0 | ... | 21 | 3 | 3 | 1 | 0 | 0 | 1 | 1 | 100 | 6 |\n",
       "| 3 | 1 | 0 | 7 | 1 | 1 | F | 1 | 75 | 0 | ... | 28 | 2 | 2 | 1 | 0 | 0 | 1 | 1 | 100 | 6 |\n",
       "| 4 | 1 | 0 | 6 | 1 | 1 | M | 1 | 74 | 0 | ... | 22 | 3 | 3 | 1 | 0 | 0 | 1 | 1 | 100 | 6 |\n",
       "| 5 | 1 | 0 | 3 | 1 | 1 | M | 1 | 64 | 0 | ... | 21 | 1 | 1 | 1 | 0 | 0 | 1 | 1 | 100 | 6 |\n",
       "| 6 | 1 | 0 | 5 | 1 | 1 | F | 1 | 93 | 0 | ... | 37 | 5 | 5 | 1 | 0 | 0 | 1 | 1 | 100 | 6 |\n",
       "\n"
      ],
      "text/plain": [
       "  Id ResidentStatus Education1989Revision Education2003Revision\n",
       "1 1  1              0                     2                    \n",
       "2 2  1              0                     2                    \n",
       "3 3  1              0                     7                    \n",
       "4 4  1              0                     6                    \n",
       "5 5  1              0                     3                    \n",
       "6 6  1              0                     5                    \n",
       "  EducationReportingFlag MonthOfDeath Sex AgeType Age AgeSubstitutionFlag ...\n",
       "1 1                      1            M   1       87  0                   ...\n",
       "2 1                      1            M   1       58  0                   ...\n",
       "3 1                      1            F   1       75  0                   ...\n",
       "4 1                      1            M   1       74  0                   ...\n",
       "5 1                      1            M   1       64  0                   ...\n",
       "6 1                      1            F   1       93  0                   ...\n",
       "  CauseRecode39 NumberOfEntityAxisConditions NumberOfRecordAxisConditions Race\n",
       "1 24            1                            1                            1   \n",
       "2 21            3                            3                            1   \n",
       "3 28            2                            2                            1   \n",
       "4 22            3                            3                            1   \n",
       "5 21            1                            1                            1   \n",
       "6 37            5                            5                            1   \n",
       "  BridgedRaceFlag RaceImputationFlag RaceRecode3 RaceRecode5 HispanicOrigin\n",
       "1 0               0                  1           1           100           \n",
       "2 0               0                  1           1           100           \n",
       "3 0               0                  1           1           100           \n",
       "4 0               0                  1           1           100           \n",
       "5 0               0                  1           1           100           \n",
       "6 0               0                  1           1           100           \n",
       "  HispanicOriginRaceRecode\n",
       "1 6                       \n",
       "2 6                       \n",
       "3 6                       \n",
       "4 6                       \n",
       "5 6                       \n",
       "6 6                       "
      ]
     },
     "metadata": {},
     "output_type": "display_data"
    }
   ],
   "source": [
    "myDF <- fread(\"/anvil/projects/tdm/data/death_records/DeathRecords.csv\")\n",
    "head(myDF)"
   ]
  },
  {
   "cell_type": "code",
   "execution_count": 8,
   "id": "f91e2788-f779-469a-b62a-b2817f47f990",
   "metadata": {},
   "outputs": [
    {
     "data": {
      "text/html": [
       "<table>\n",
       "<caption>A data.table: 6 x 38</caption>\n",
       "<thead>\n",
       "\t<tr><th scope=col>Id</th><th scope=col>ResidentStatus</th><th scope=col>Education1989Revision</th><th scope=col>Education2003Revision</th><th scope=col>EducationReportingFlag</th><th scope=col>MonthOfDeath</th><th scope=col>Sex</th><th scope=col>AgeType</th><th scope=col>Age</th><th scope=col>AgeSubstitutionFlag</th><th scope=col>...</th><th scope=col>CauseRecode39</th><th scope=col>NumberOfEntityAxisConditions</th><th scope=col>NumberOfRecordAxisConditions</th><th scope=col>Race</th><th scope=col>BridgedRaceFlag</th><th scope=col>RaceImputationFlag</th><th scope=col>RaceRecode3</th><th scope=col>RaceRecode5</th><th scope=col>HispanicOrigin</th><th scope=col>HispanicOriginRaceRecode</th></tr>\n",
       "\t<tr><th scope=col>&lt;int&gt;</th><th scope=col>&lt;int&gt;</th><th scope=col>&lt;int&gt;</th><th scope=col>&lt;int&gt;</th><th scope=col>&lt;int&gt;</th><th scope=col>&lt;int&gt;</th><th scope=col>&lt;chr&gt;</th><th scope=col>&lt;int&gt;</th><th scope=col>&lt;int&gt;</th><th scope=col>&lt;int&gt;</th><th scope=col>...</th><th scope=col>&lt;int&gt;</th><th scope=col>&lt;int&gt;</th><th scope=col>&lt;int&gt;</th><th scope=col>&lt;int&gt;</th><th scope=col>&lt;int&gt;</th><th scope=col>&lt;int&gt;</th><th scope=col>&lt;int&gt;</th><th scope=col>&lt;int&gt;</th><th scope=col>&lt;int&gt;</th><th scope=col>&lt;int&gt;</th></tr>\n",
       "</thead>\n",
       "<tbody>\n",
       "\t<tr><td> 3</td><td>1</td><td>0</td><td>7</td><td>1</td><td>1</td><td>F</td><td>1</td><td>75</td><td>0</td><td>...</td><td>28</td><td>2</td><td>2</td><td>1</td><td>0</td><td>0</td><td>1</td><td>1</td><td>100</td><td>6</td></tr>\n",
       "\t<tr><td> 6</td><td>1</td><td>0</td><td>5</td><td>1</td><td>1</td><td>F</td><td>1</td><td>93</td><td>0</td><td>...</td><td>37</td><td>5</td><td>5</td><td>1</td><td>0</td><td>0</td><td>1</td><td>1</td><td>100</td><td>6</td></tr>\n",
       "\t<tr><td> 9</td><td>1</td><td>0</td><td>3</td><td>1</td><td>1</td><td>F</td><td>1</td><td>86</td><td>0</td><td>...</td><td>37</td><td>1</td><td>1</td><td>1</td><td>0</td><td>0</td><td>1</td><td>1</td><td>100</td><td>6</td></tr>\n",
       "\t<tr><td>11</td><td>1</td><td>0</td><td>3</td><td>1</td><td>1</td><td>F</td><td>1</td><td>79</td><td>0</td><td>...</td><td>22</td><td>2</td><td>2</td><td>1</td><td>0</td><td>0</td><td>1</td><td>1</td><td>100</td><td>6</td></tr>\n",
       "\t<tr><td>13</td><td>1</td><td>0</td><td>4</td><td>1</td><td>1</td><td>F</td><td>1</td><td>85</td><td>0</td><td>...</td><td>22</td><td>5</td><td>5</td><td>1</td><td>0</td><td>0</td><td>1</td><td>1</td><td>100</td><td>6</td></tr>\n",
       "\t<tr><td>14</td><td>1</td><td>0</td><td>3</td><td>1</td><td>1</td><td>F</td><td>1</td><td>84</td><td>0</td><td>...</td><td> 8</td><td>2</td><td>2</td><td>1</td><td>0</td><td>0</td><td>1</td><td>1</td><td>100</td><td>6</td></tr>\n",
       "</tbody>\n",
       "</table>\n"
      ],
      "text/latex": [
       "A data.table: 6 x 38\n",
       "\\begin{tabular}{lllllllllllllllllllll}\n",
       " Id & ResidentStatus & Education1989Revision & Education2003Revision & EducationReportingFlag & MonthOfDeath & Sex & AgeType & Age & AgeSubstitutionFlag & ... & CauseRecode39 & NumberOfEntityAxisConditions & NumberOfRecordAxisConditions & Race & BridgedRaceFlag & RaceImputationFlag & RaceRecode3 & RaceRecode5 & HispanicOrigin & HispanicOriginRaceRecode\\\\\n",
       " <int> & <int> & <int> & <int> & <int> & <int> & <chr> & <int> & <int> & <int> & ... & <int> & <int> & <int> & <int> & <int> & <int> & <int> & <int> & <int> & <int>\\\\\n",
       "\\hline\n",
       "\t  3 & 1 & 0 & 7 & 1 & 1 & F & 1 & 75 & 0 & ... & 28 & 2 & 2 & 1 & 0 & 0 & 1 & 1 & 100 & 6\\\\\n",
       "\t  6 & 1 & 0 & 5 & 1 & 1 & F & 1 & 93 & 0 & ... & 37 & 5 & 5 & 1 & 0 & 0 & 1 & 1 & 100 & 6\\\\\n",
       "\t  9 & 1 & 0 & 3 & 1 & 1 & F & 1 & 86 & 0 & ... & 37 & 1 & 1 & 1 & 0 & 0 & 1 & 1 & 100 & 6\\\\\n",
       "\t 11 & 1 & 0 & 3 & 1 & 1 & F & 1 & 79 & 0 & ... & 22 & 2 & 2 & 1 & 0 & 0 & 1 & 1 & 100 & 6\\\\\n",
       "\t 13 & 1 & 0 & 4 & 1 & 1 & F & 1 & 85 & 0 & ... & 22 & 5 & 5 & 1 & 0 & 0 & 1 & 1 & 100 & 6\\\\\n",
       "\t 14 & 1 & 0 & 3 & 1 & 1 & F & 1 & 84 & 0 & ... &  8 & 2 & 2 & 1 & 0 & 0 & 1 & 1 & 100 & 6\\\\\n",
       "\\end{tabular}\n"
      ],
      "text/markdown": [
       "\n",
       "A data.table: 6 x 38\n",
       "\n",
       "| Id &lt;int&gt; | ResidentStatus &lt;int&gt; | Education1989Revision &lt;int&gt; | Education2003Revision &lt;int&gt; | EducationReportingFlag &lt;int&gt; | MonthOfDeath &lt;int&gt; | Sex &lt;chr&gt; | AgeType &lt;int&gt; | Age &lt;int&gt; | AgeSubstitutionFlag &lt;int&gt; | ... ... | CauseRecode39 &lt;int&gt; | NumberOfEntityAxisConditions &lt;int&gt; | NumberOfRecordAxisConditions &lt;int&gt; | Race &lt;int&gt; | BridgedRaceFlag &lt;int&gt; | RaceImputationFlag &lt;int&gt; | RaceRecode3 &lt;int&gt; | RaceRecode5 &lt;int&gt; | HispanicOrigin &lt;int&gt; | HispanicOriginRaceRecode &lt;int&gt; |\n",
       "|---|---|---|---|---|---|---|---|---|---|---|---|---|---|---|---|---|---|---|---|---|\n",
       "|  3 | 1 | 0 | 7 | 1 | 1 | F | 1 | 75 | 0 | ... | 28 | 2 | 2 | 1 | 0 | 0 | 1 | 1 | 100 | 6 |\n",
       "|  6 | 1 | 0 | 5 | 1 | 1 | F | 1 | 93 | 0 | ... | 37 | 5 | 5 | 1 | 0 | 0 | 1 | 1 | 100 | 6 |\n",
       "|  9 | 1 | 0 | 3 | 1 | 1 | F | 1 | 86 | 0 | ... | 37 | 1 | 1 | 1 | 0 | 0 | 1 | 1 | 100 | 6 |\n",
       "| 11 | 1 | 0 | 3 | 1 | 1 | F | 1 | 79 | 0 | ... | 22 | 2 | 2 | 1 | 0 | 0 | 1 | 1 | 100 | 6 |\n",
       "| 13 | 1 | 0 | 4 | 1 | 1 | F | 1 | 85 | 0 | ... | 22 | 5 | 5 | 1 | 0 | 0 | 1 | 1 | 100 | 6 |\n",
       "| 14 | 1 | 0 | 3 | 1 | 1 | F | 1 | 84 | 0 | ... |  8 | 2 | 2 | 1 | 0 | 0 | 1 | 1 | 100 | 6 |\n",
       "\n"
      ],
      "text/plain": [
       "  Id ResidentStatus Education1989Revision Education2003Revision\n",
       "1  3 1              0                     7                    \n",
       "2  6 1              0                     5                    \n",
       "3  9 1              0                     3                    \n",
       "4 11 1              0                     3                    \n",
       "5 13 1              0                     4                    \n",
       "6 14 1              0                     3                    \n",
       "  EducationReportingFlag MonthOfDeath Sex AgeType Age AgeSubstitutionFlag ...\n",
       "1 1                      1            F   1       75  0                   ...\n",
       "2 1                      1            F   1       93  0                   ...\n",
       "3 1                      1            F   1       86  0                   ...\n",
       "4 1                      1            F   1       79  0                   ...\n",
       "5 1                      1            F   1       85  0                   ...\n",
       "6 1                      1            F   1       84  0                   ...\n",
       "  CauseRecode39 NumberOfEntityAxisConditions NumberOfRecordAxisConditions Race\n",
       "1 28            2                            2                            1   \n",
       "2 37            5                            5                            1   \n",
       "3 37            1                            1                            1   \n",
       "4 22            2                            2                            1   \n",
       "5 22            5                            5                            1   \n",
       "6  8            2                            2                            1   \n",
       "  BridgedRaceFlag RaceImputationFlag RaceRecode3 RaceRecode5 HispanicOrigin\n",
       "1 0               0                  1           1           100           \n",
       "2 0               0                  1           1           100           \n",
       "3 0               0                  1           1           100           \n",
       "4 0               0                  1           1           100           \n",
       "5 0               0                  1           1           100           \n",
       "6 0               0                  1           1           100           \n",
       "  HispanicOriginRaceRecode\n",
       "1 6                       \n",
       "2 6                       \n",
       "3 6                       \n",
       "4 6                       \n",
       "5 6                       \n",
       "6 6                       "
      ]
     },
     "metadata": {},
     "output_type": "display_data"
    }
   ],
   "source": [
    "# 1a) Building a subset of the data for which Sex == 'F'\n",
    "sex_F_DF <- subset(myDF, Sex != 'M')\n",
    "head(sex_F_DF)"
   ]
  },
  {
   "cell_type": "code",
   "execution_count": 9,
   "id": "e6596895-7d39-4009-95d9-57eda90039c8",
   "metadata": {},
   "outputs": [
    {
     "name": "stdout",
     "output_type": "stream",
     "text": [
      "\n",
      "    1     2     3     4     5     6     7     8     9    10    11    12    13 \n",
      " 3164  2100  1346   937   820   583   495   511   418   472   358   347   386 \n",
      "   14    15    16    17    18    19    20    21    22    23    24    25    26 \n",
      "  410   499   533   636   735   827   936  1058  1117  1086  1155  1200  1320 \n",
      "   27    28    29    30    31    32    33    34    35    36    37    38    39 \n",
      " 1264  1340  1438  1452  1535  1683  1804  1878  2059  1999  2226  2267  2413 \n",
      "   40    41    42    43    44    45    46    47    48    49    50    51    52 \n",
      " 2577  2953  3324  3681  4091  4229  4524  4957  5664  6520  7247  8190  8740 \n",
      "   53    54    55    56    57    58    59    60    61    62    63    64    65 \n",
      " 9616 10189 11062 11748 12443 12762 13358 13977 14518 15142 15664 16284 17276 \n",
      "   66    67    68    69    70    71    72    73    74    75    76    77    78 \n",
      "18813 20865 17669 18584 20486 22755 22041 22074 22656 24026 25305 26091 27780 \n",
      "   79    80    81    82    83    84    85    86    87    88    89    90    91 \n",
      "29768 30499 32783 34991 37101 40035 40848 42914 44502 44126 44660 44348 41943 \n",
      "   92    93    94    95    96    97    98    99   100   101   102   103   104 \n",
      "39900 35799 31040 24847 21551 16784 13132  9881  7289  5153  3478  2186  1373 \n",
      "  105   106   107   108   109   110   111   112   113   114   999 \n",
      "  864   436   271   164    76    24    24     5     6     5   216 \n"
     ]
    }
   ],
   "source": [
    "# 1b) Table of the Age values from the subset of female data in 1a\n",
    "female_data_age <- table(sex_F_DF$Age)\n",
    "print(female_data_age)"
   ]
  },
  {
   "cell_type": "code",
   "execution_count": 10,
   "id": "999cf2fb-5956-4286-b1fc-398918fd987b",
   "metadata": {},
   "outputs": [
    {
     "data": {
      "image/png": "[encoded data removed]",
      "text/plain": [
       "plot without title"
      ]
     },
     "metadata": {
      "image/png": {
       "height": 420,
       "width": 420
      }
     },
     "output_type": "display_data"
    }
   ],
   "source": [
    "# 1b) plotting the table from the instructions above\n",
    "plot(female_data_age)"
   ]
  },
  {
   "cell_type": "code",
   "execution_count": 10,
   "id": "8b4f616c-7c58-4495-91bf-4eeb0acf2d2e",
   "metadata": {},
   "outputs": [
    {
     "name": "stdout",
     "output_type": "stream",
     "text": [
      "[1] 999\n"
     ]
    }
   ],
   "source": [
    "#s<- sum(sex_F_DF$Age == 76)\n",
    "max_age <- max(sex_F_DF$Age)\n",
    "print(max_age) # 999 mean that these individuals age could not be determined. "
   ]
  },
  {
   "cell_type": "code",
   "execution_count": 11,
   "id": "818e3fa4-7aa0-4ff8-ac72-cd6a467ca249",
   "metadata": {},
   "outputs": [],
   "source": [
    "# # c. building a subset from the original data for which Sex == 'F' & Age != 999\n",
    "# sexF_age_df <- subset(myDF, (Sex == 'F') & (Age != 999))\n",
    "# # head(sexF_age_df)\n",
    "# plot(sexF_age_df) \n",
    "### ! Whenever i run this portion it always sends me a message after some time that the kernel or notebook has died? "
   ]
  },
  {
   "cell_type": "markdown",
   "id": "13ebb08a-1aa2-4091-9df7-09b3d76f5172",
   "metadata": {},
   "source": [
    "##### ! Whenever i run this portion it always sends me a message after some time that the kernel or notebook has died? "
   ]
  },
  {
   "cell_type": "markdown",
   "id": "fc601975-35ed-4680-a4e1-0273ee3cc047",
   "metadata": {},
   "source": [
    "## Question 2"
   ]
  },
  {
   "cell_type": "code",
   "execution_count": 12,
   "id": "a16336a1-1ef0-41e8-bc7c-49387db27497",
   "metadata": {},
   "outputs": [
    {
     "data": {
      "text/html": [
       "<table>\n",
       "<caption>A data.table: 6 x 9</caption>\n",
       "<thead>\n",
       "\t<tr><th scope=col>BASKET_NUM</th><th scope=col>HSHD_NUM</th><th scope=col>PURCHASE_</th><th scope=col>PRODUCT_NUM</th><th scope=col>SPEND</th><th scope=col>UNITS</th><th scope=col>STORE_R</th><th scope=col>WEEK_NUM</th><th scope=col>YEAR</th></tr>\n",
       "\t<tr><th scope=col>&lt;int&gt;</th><th scope=col>&lt;int&gt;</th><th scope=col>&lt;chr&gt;</th><th scope=col>&lt;int&gt;</th><th scope=col>&lt;dbl&gt;</th><th scope=col>&lt;int&gt;</th><th scope=col>&lt;chr&gt;</th><th scope=col>&lt;int&gt;</th><th scope=col>&lt;int&gt;</th></tr>\n",
       "</thead>\n",
       "<tbody>\n",
       "\t<tr><td> 24</td><td>1809</td><td>03-JAN-16</td><td>5817389</td><td>-1.50</td><td>-1</td><td>SOUTH</td><td>1</td><td>2016</td></tr>\n",
       "\t<tr><td> 24</td><td>1809</td><td>03-JAN-16</td><td>5829886</td><td>-1.50</td><td>-1</td><td>SOUTH</td><td>1</td><td>2016</td></tr>\n",
       "\t<tr><td> 34</td><td>1253</td><td>03-JAN-16</td><td> 539501</td><td> 2.19</td><td> 1</td><td>EAST </td><td>1</td><td>2016</td></tr>\n",
       "\t<tr><td> 60</td><td>1595</td><td>03-JAN-16</td><td>5260099</td><td> 0.99</td><td> 1</td><td>WEST </td><td>1</td><td>2016</td></tr>\n",
       "\t<tr><td> 60</td><td>1595</td><td>03-JAN-16</td><td>4535660</td><td> 2.50</td><td> 2</td><td>WEST </td><td>1</td><td>2016</td></tr>\n",
       "\t<tr><td>168</td><td>3393</td><td>03-JAN-16</td><td>5602916</td><td> 4.50</td><td> 1</td><td>SOUTH</td><td>1</td><td>2016</td></tr>\n",
       "</tbody>\n",
       "</table>\n"
      ],
      "text/latex": [
       "A data.table: 6 x 9\n",
       "\\begin{tabular}{lllllllll}\n",
       " BASKET\\_NUM & HSHD\\_NUM & PURCHASE\\_ & PRODUCT\\_NUM & SPEND & UNITS & STORE\\_R & WEEK\\_NUM & YEAR\\\\\n",
       " <int> & <int> & <chr> & <int> & <dbl> & <int> & <chr> & <int> & <int>\\\\\n",
       "\\hline\n",
       "\t  24 & 1809 & 03-JAN-16 & 5817389 & -1.50 & -1 & SOUTH & 1 & 2016\\\\\n",
       "\t  24 & 1809 & 03-JAN-16 & 5829886 & -1.50 & -1 & SOUTH & 1 & 2016\\\\\n",
       "\t  34 & 1253 & 03-JAN-16 &  539501 &  2.19 &  1 & EAST  & 1 & 2016\\\\\n",
       "\t  60 & 1595 & 03-JAN-16 & 5260099 &  0.99 &  1 & WEST  & 1 & 2016\\\\\n",
       "\t  60 & 1595 & 03-JAN-16 & 4535660 &  2.50 &  2 & WEST  & 1 & 2016\\\\\n",
       "\t 168 & 3393 & 03-JAN-16 & 5602916 &  4.50 &  1 & SOUTH & 1 & 2016\\\\\n",
       "\\end{tabular}\n"
      ],
      "text/markdown": [
       "\n",
       "A data.table: 6 x 9\n",
       "\n",
       "| BASKET_NUM &lt;int&gt; | HSHD_NUM &lt;int&gt; | PURCHASE_ &lt;chr&gt; | PRODUCT_NUM &lt;int&gt; | SPEND &lt;dbl&gt; | UNITS &lt;int&gt; | STORE_R &lt;chr&gt; | WEEK_NUM &lt;int&gt; | YEAR &lt;int&gt; |\n",
       "|---|---|---|---|---|---|---|---|---|\n",
       "|  24 | 1809 | 03-JAN-16 | 5817389 | -1.50 | -1 | SOUTH | 1 | 2016 |\n",
       "|  24 | 1809 | 03-JAN-16 | 5829886 | -1.50 | -1 | SOUTH | 1 | 2016 |\n",
       "|  34 | 1253 | 03-JAN-16 |  539501 |  2.19 |  1 | EAST  | 1 | 2016 |\n",
       "|  60 | 1595 | 03-JAN-16 | 5260099 |  0.99 |  1 | WEST  | 1 | 2016 |\n",
       "|  60 | 1595 | 03-JAN-16 | 4535660 |  2.50 |  2 | WEST  | 1 | 2016 |\n",
       "| 168 | 3393 | 03-JAN-16 | 5602916 |  4.50 |  1 | SOUTH | 1 | 2016 |\n",
       "\n"
      ],
      "text/plain": [
       "  BASKET_NUM HSHD_NUM PURCHASE_ PRODUCT_NUM SPEND UNITS STORE_R WEEK_NUM YEAR\n",
       "1  24        1809     03-JAN-16 5817389     -1.50 -1    SOUTH   1        2016\n",
       "2  24        1809     03-JAN-16 5829886     -1.50 -1    SOUTH   1        2016\n",
       "3  34        1253     03-JAN-16  539501      2.19  1    EAST    1        2016\n",
       "4  60        1595     03-JAN-16 5260099      0.99  1    WEST    1        2016\n",
       "5  60        1595     03-JAN-16 4535660      2.50  2    WEST    1        2016\n",
       "6 168        3393     03-JAN-16 5602916      4.50  1    SOUTH   1        2016"
      ]
     },
     "metadata": {},
     "output_type": "display_data"
    }
   ],
   "source": [
    "# code here\n",
    "myDF <- fread(\"/anvil/projects/tdm/data/8451/The_Complete_Journey_2_Master/5000_transactions.csv\")\n",
    "head(myDF)"
   ]
  },
  {
   "cell_type": "code",
   "execution_count": 14,
   "id": "900a9cab-c203-4743-8f5c-9fab91cf76ba",
   "metadata": {},
   "outputs": [
    {
     "name": "stdout",
     "output_type": "stream",
     "text": [
      "\n",
      "CENTRAL    EAST   SOUTH    WEST \n",
      "   2750    3269    2675    3952 \n"
     ]
    }
   ],
   "source": [
    "refundsDF <- subset(myDF, SPEND < 0) # this is to make a subset for all refunds(all whose spend value is negative)\n",
    "refundsDF_count <- table(refundsDF$STORE_R) # to get the count of each STORE_R instances that have negative spend values\n",
    "print(refundsDF_count)"
   ]
  },
  {
   "cell_type": "markdown",
   "id": "8e586edd-ff26-4ce2-8f6b-2424b26f2929",
   "metadata": {},
   "source": [
    "## Question 3"
   ]
  },
  {
   "cell_type": "code",
   "execution_count": 9,
   "id": "bbe0f40d-9655-4653-9ca8-886bdb61cb91",
   "metadata": {},
   "outputs": [],
   "source": [
    "# code here\n",
    "myDF <- fread(\"/anvil/projects/tdm/data/beer/reviews_sample.csv\")\n",
    "# head(myDF,1)"
   ]
  },
  {
   "cell_type": "code",
   "execution_count": 14,
   "id": "b9391c4e-796a-4e83-96e1-2d0515a19748",
   "metadata": {},
   "outputs": [
    {
     "data": {
      "text/html": [
       "<style>\n",
       ".list-inline {list-style: none; margin:0; padding: 0}\n",
       ".list-inline>li {display: inline-block}\n",
       ".list-inline>li:not(:last-child)::after {content: \"\\00b7\"; padding: 0 .5ex}\n",
       "</style>\n",
       "<ol class=list-inline><li>12436</li><li>10</li></ol>\n"
      ],
      "text/latex": [
       "\\begin{enumerate*}\n",
       "\\item 12436\n",
       "\\item 10\n",
       "\\end{enumerate*}\n"
      ],
      "text/markdown": [
       "1. 12436\n",
       "2. 10\n",
       "\n",
       "\n"
      ],
      "text/plain": [
       "[1] 12436    10"
      ]
     },
     "metadata": {},
     "output_type": "display_data"
    }
   ],
   "source": [
    "beers_score <- subset(myDF, (score != 5) & (overall == 5))\n",
    "dim(beers_score)"
   ]
  },
  {
   "cell_type": "markdown",
   "id": "47c6229f-35f7-400c-8366-c442baa5cf47",
   "metadata": {},
   "source": [
    "3. There are 12436 lines in the data subset of beers whose score is not equal to 5 and have and overall score of 5. "
   ]
  },
  {
   "cell_type": "markdown",
   "id": "da22f29c-d245-4d2b-9fc1-ca14cb6087d9",
   "metadata": {},
   "source": [
    "## Question 4"
   ]
  },
  {
   "cell_type": "code",
   "execution_count": 17,
   "id": "8cffc767-d1c8-4d64-b7dc-f0d2ee8a80d1",
   "metadata": {},
   "outputs": [
    {
     "data": {
      "text/html": [
       "<table class=\"dataframe\">\n",
       "<caption>A data.table: 2 x 21</caption>\n",
       "<thead>\n",
       "\t<tr><th scope=col>CMTE_ID</th><th scope=col>AMNDT_IND</th><th scope=col>RPT_TP</th><th scope=col>TRANSACTION_PGI</th><th scope=col>IMAGE_NUM</th><th scope=col>TRANSACTION_TP</th><th scope=col>ENTITY_TP</th><th scope=col>NAME</th><th scope=col>CITY</th><th scope=col>STATE</th><th scope=col>...</th><th scope=col>EMPLOYER</th><th scope=col>OCCUPATION</th><th scope=col>TRANSACTION_DT</th><th scope=col>TRANSACTION_AMT</th><th scope=col>OTHER_ID</th><th scope=col>TRAN_ID</th><th scope=col>FILE_NUM</th><th scope=col>MEMO_CD</th><th scope=col>MEMO_TEXT</th><th scope=col>SUB_ID</th></tr>\n",
       "\t<tr><th scope=col>&lt;chr&gt;</th><th scope=col>&lt;chr&gt;</th><th scope=col>&lt;chr&gt;</th><th scope=col>&lt;chr&gt;</th><th scope=col>&lt;int64&gt;</th><th scope=col>&lt;chr&gt;</th><th scope=col>&lt;lgl&gt;</th><th scope=col>&lt;chr&gt;</th><th scope=col>&lt;chr&gt;</th><th scope=col>&lt;chr&gt;</th><th scope=col>...</th><th scope=col>&lt;chr&gt;</th><th scope=col>&lt;lgl&gt;</th><th scope=col>&lt;int&gt;</th><th scope=col>&lt;int&gt;</th><th scope=col>&lt;chr&gt;</th><th scope=col>&lt;lgl&gt;</th><th scope=col>&lt;lgl&gt;</th><th scope=col>&lt;lgl&gt;</th><th scope=col>&lt;chr&gt;</th><th scope=col>&lt;int64&gt;</th></tr>\n",
       "</thead>\n",
       "<tbody>\n",
       "\t<tr><td>C00078279</td><td>A</td><td>M11</td><td>P</td><td>80031492155</td><td>22Y</td><td>NA</td><td>MCKENNON, K R</td><td>MIDLAND</td><td>MI</td><td>...</td><td>               </td><td>NA</td><td>10031979</td><td> 400</td><td></td><td>NA</td><td>NA</td><td>NA</td><td>CONTRIBUTION REF TO INDIVIDUAL</td><td>3062020110011466469</td></tr>\n",
       "\t<tr><td>C00078279</td><td>A</td><td>M11</td><td> </td><td>79031415137</td><td>15 </td><td>NA</td><td>OREFFICE, P  </td><td>MIDLAND</td><td>MI</td><td>...</td><td>DOW CHEMICAL CO</td><td>NA</td><td>10261979</td><td>1500</td><td></td><td>NA</td><td>NA</td><td>NA</td><td>                              </td><td>3061920110000382948</td></tr>\n",
       "</tbody>\n",
       "</table>\n"
      ],
      "text/latex": [
       "A data.table: 2 x 21\n",
       "\\begin{tabular}{lllllllllllllllllllll}\n",
       " CMTE\\_ID & AMNDT\\_IND & RPT\\_TP & TRANSACTION\\_PGI & IMAGE\\_NUM & TRANSACTION\\_TP & ENTITY\\_TP & NAME & CITY & STATE & ... & EMPLOYER & OCCUPATION & TRANSACTION\\_DT & TRANSACTION\\_AMT & OTHER\\_ID & TRAN\\_ID & FILE\\_NUM & MEMO\\_CD & MEMO\\_TEXT & SUB\\_ID\\\\\n",
       " <chr> & <chr> & <chr> & <chr> & <int64> & <chr> & <lgl> & <chr> & <chr> & <chr> & ... & <chr> & <lgl> & <int> & <int> & <chr> & <lgl> & <lgl> & <lgl> & <chr> & <int64>\\\\\n",
       "\\hline\n",
       "\t C00078279 & A & M11 & P & 80031492155 & 22Y & NA & MCKENNON, K R & MIDLAND & MI & ... &                 & NA & 10031979 &  400 &  & NA & NA & NA & CONTRIBUTION REF TO INDIVIDUAL & 3062020110011466469\\\\\n",
       "\t C00078279 & A & M11 &   & 79031415137 & 15  & NA & OREFFICE, P   & MIDLAND & MI & ... & DOW CHEMICAL CO & NA & 10261979 & 1500 &  & NA & NA & NA &                                & 3061920110000382948\\\\\n",
       "\\end{tabular}\n"
      ],
      "text/markdown": [
       "\n",
       "A data.table: 2 x 21\n",
       "\n",
       "| CMTE_ID &lt;chr&gt; | AMNDT_IND &lt;chr&gt; | RPT_TP &lt;chr&gt; | TRANSACTION_PGI &lt;chr&gt; | IMAGE_NUM &lt;int64&gt; | TRANSACTION_TP &lt;chr&gt; | ENTITY_TP &lt;lgl&gt; | NAME &lt;chr&gt; | CITY &lt;chr&gt; | STATE &lt;chr&gt; | ... ... | EMPLOYER &lt;chr&gt; | OCCUPATION &lt;lgl&gt; | TRANSACTION_DT &lt;int&gt; | TRANSACTION_AMT &lt;int&gt; | OTHER_ID &lt;chr&gt; | TRAN_ID &lt;lgl&gt; | FILE_NUM &lt;lgl&gt; | MEMO_CD &lt;lgl&gt; | MEMO_TEXT &lt;chr&gt; | SUB_ID &lt;int64&gt; |\n",
       "|---|---|---|---|---|---|---|---|---|---|---|---|---|---|---|---|---|---|---|---|---|\n",
       "| C00078279 | A | M11 | P | 80031492155 | 22Y | NA | MCKENNON, K R | MIDLAND | MI | ... | <!----> | NA | 10031979 |  400 | <!----> | NA | NA | NA | CONTRIBUTION REF TO INDIVIDUAL | 3062020110011466469 |\n",
       "| C00078279 | A | M11 | <!----> | 79031415137 | 15  | NA | OREFFICE, P   | MIDLAND | MI | ... | DOW CHEMICAL CO | NA | 10261979 | 1500 | <!----> | NA | NA | NA | <!----> | 3061920110000382948 |\n",
       "\n"
      ],
      "text/plain": [
       "  CMTE_ID   AMNDT_IND RPT_TP TRANSACTION_PGI IMAGE_NUM   TRANSACTION_TP\n",
       "1 C00078279 A         M11    P               80031492155 22Y           \n",
       "2 C00078279 A         M11                    79031415137 15            \n",
       "  ENTITY_TP NAME          CITY    STATE ... EMPLOYER        OCCUPATION\n",
       "1 NA        MCKENNON, K R MIDLAND MI    ...                 NA        \n",
       "2 NA        OREFFICE, P   MIDLAND MI    ... DOW CHEMICAL CO NA        \n",
       "  TRANSACTION_DT TRANSACTION_AMT OTHER_ID TRAN_ID FILE_NUM MEMO_CD\n",
       "1 10031979        400                     NA      NA       NA     \n",
       "2 10261979       1500                     NA      NA       NA     \n",
       "  MEMO_TEXT                      SUB_ID             \n",
       "1 CONTRIBUTION REF TO INDIVIDUAL 3062020110011466469\n",
       "2                                3061920110000382948"
      ]
     },
     "metadata": {},
     "output_type": "display_data"
    }
   ],
   "source": [
    "# code here\n",
    "library(data.table)\n",
    "myDF <- fread(\"/anvil/projects/tdm/data/election/itcont1980.txt\", quote=\"\")\n",
    "names(myDF) <- c(\"CMTE_ID\", \"AMNDT_IND\", \"RPT_TP\", \"TRANSACTION_PGI\", \"IMAGE_NUM\", \"TRANSACTION_TP\", \"ENTITY_TP\", \"NAME\", \"CITY\", \"STATE\", \"ZIP_CODE\", \"EMPLOYER\", \"OCCUPATION\", \"TRANSACTION_DT\", \"TRANSACTION_AMT\", \"OTHER_ID\", \"TRAN_ID\", \"FILE_NUM\", \"MEMO_CD\", \"MEMO_TEXT\", \"SUB_ID\")\n",
    "head(myDF, 2)"
   ]
  },
  {
   "cell_type": "code",
   "execution_count": 28,
   "id": "402fdf98-d6e9-49c4-a8f4-92a6c8c208e9",
   "metadata": {},
   "outputs": [],
   "source": [
    "sixDonations_1980 <- subset(myDF, is.na(TRANSACTION_DT)) \n",
    "# head(sixDonations_1980, 40)"
   ]
  },
  {
   "cell_type": "code",
   "execution_count": 35,
   "id": "0076bb91-8583-4eff-a84b-00830dbc8722",
   "metadata": {},
   "outputs": [
    {
     "name": "stdout",
     "output_type": "stream",
     "text": [
      "\n",
      "      CURCIO, BARBARA G SCHECK, RICHARD HERBERT          WOLFF, GARY W. \n",
      "                      1                       6                       2 \n"
     ]
    }
   ],
   "source": [
    "# finding out the number instances that these people who have missing donations per person\n",
    "na_donation_count <- table(sixDonations_1980$NAME)\n",
    "print(na_donation_count)"
   ]
  },
  {
   "cell_type": "markdown",
   "id": "054704c4-d39b-4985-adaa-c629276ff146",
   "metadata": {},
   "source": [
    "4. `RICHARD HERBERT` has 6 instances where his donations are missing in the dataframe"
   ]
  },
  {
   "cell_type": "markdown",
   "id": "88c9cdac-3e92-498f-83fa-e089bfc44ac8",
   "metadata": {},
   "source": [
    "## Question 5"
   ]
  },
  {
   "cell_type": "code",
   "execution_count": 36,
   "id": "d370d7c9-06db-42b9-b75f-240481a5c491",
   "metadata": {},
   "outputs": [
    {
     "data": {
      "text/html": [
       "<table class=\"dataframe\">\n",
       "<caption>A data.table: 2 x 29</caption>\n",
       "<thead>\n",
       "\t<tr><th scope=col>Year</th><th scope=col>Month</th><th scope=col>DayofMonth</th><th scope=col>DayOfWeek</th><th scope=col>DepTime</th><th scope=col>CRSDepTime</th><th scope=col>ArrTime</th><th scope=col>CRSArrTime</th><th scope=col>UniqueCarrier</th><th scope=col>FlightNum</th><th scope=col>...</th><th scope=col>TaxiIn</th><th scope=col>TaxiOut</th><th scope=col>Cancelled</th><th scope=col>CancellationCode</th><th scope=col>Diverted</th><th scope=col>CarrierDelay</th><th scope=col>WeatherDelay</th><th scope=col>NASDelay</th><th scope=col>SecurityDelay</th><th scope=col>LateAircraftDelay</th></tr>\n",
       "\t<tr><th scope=col>&lt;int&gt;</th><th scope=col>&lt;int&gt;</th><th scope=col>&lt;int&gt;</th><th scope=col>&lt;int&gt;</th><th scope=col>&lt;int&gt;</th><th scope=col>&lt;int&gt;</th><th scope=col>&lt;int&gt;</th><th scope=col>&lt;int&gt;</th><th scope=col>&lt;chr&gt;</th><th scope=col>&lt;int&gt;</th><th scope=col>...</th><th scope=col>&lt;lgl&gt;</th><th scope=col>&lt;lgl&gt;</th><th scope=col>&lt;int&gt;</th><th scope=col>&lt;lgl&gt;</th><th scope=col>&lt;int&gt;</th><th scope=col>&lt;lgl&gt;</th><th scope=col>&lt;lgl&gt;</th><th scope=col>&lt;lgl&gt;</th><th scope=col>&lt;lgl&gt;</th><th scope=col>&lt;lgl&gt;</th></tr>\n",
       "</thead>\n",
       "<tbody>\n",
       "\t<tr><td>1990</td><td>1</td><td>3</td><td>3</td><td>1707</td><td>1630</td><td>1755</td><td>1723</td><td>US</td><td>29</td><td>...</td><td>NA</td><td>NA</td><td>0</td><td>NA</td><td>0</td><td>NA</td><td>NA</td><td>NA</td><td>NA</td><td>NA</td></tr>\n",
       "\t<tr><td>1990</td><td>1</td><td>4</td><td>4</td><td>1706</td><td>1630</td><td>1807</td><td>1723</td><td>US</td><td>29</td><td>...</td><td>NA</td><td>NA</td><td>0</td><td>NA</td><td>0</td><td>NA</td><td>NA</td><td>NA</td><td>NA</td><td>NA</td></tr>\n",
       "</tbody>\n",
       "</table>\n"
      ],
      "text/latex": [
       "A data.table: 2 x 29\n",
       "\\begin{tabular}{lllllllllllllllllllll}\n",
       " Year & Month & DayofMonth & DayOfWeek & DepTime & CRSDepTime & ArrTime & CRSArrTime & UniqueCarrier & FlightNum & ... & TaxiIn & TaxiOut & Cancelled & CancellationCode & Diverted & CarrierDelay & WeatherDelay & NASDelay & SecurityDelay & LateAircraftDelay\\\\\n",
       " <int> & <int> & <int> & <int> & <int> & <int> & <int> & <int> & <chr> & <int> & ... & <lgl> & <lgl> & <int> & <lgl> & <int> & <lgl> & <lgl> & <lgl> & <lgl> & <lgl>\\\\\n",
       "\\hline\n",
       "\t 1990 & 1 & 3 & 3 & 1707 & 1630 & 1755 & 1723 & US & 29 & ... & NA & NA & 0 & NA & 0 & NA & NA & NA & NA & NA\\\\\n",
       "\t 1990 & 1 & 4 & 4 & 1706 & 1630 & 1807 & 1723 & US & 29 & ... & NA & NA & 0 & NA & 0 & NA & NA & NA & NA & NA\\\\\n",
       "\\end{tabular}\n"
      ],
      "text/markdown": [
       "\n",
       "A data.table: 2 x 29\n",
       "\n",
       "| Year &lt;int&gt; | Month &lt;int&gt; | DayofMonth &lt;int&gt; | DayOfWeek &lt;int&gt; | DepTime &lt;int&gt; | CRSDepTime &lt;int&gt; | ArrTime &lt;int&gt; | CRSArrTime &lt;int&gt; | UniqueCarrier &lt;chr&gt; | FlightNum &lt;int&gt; | ... ... | TaxiIn &lt;lgl&gt; | TaxiOut &lt;lgl&gt; | Cancelled &lt;int&gt; | CancellationCode &lt;lgl&gt; | Diverted &lt;int&gt; | CarrierDelay &lt;lgl&gt; | WeatherDelay &lt;lgl&gt; | NASDelay &lt;lgl&gt; | SecurityDelay &lt;lgl&gt; | LateAircraftDelay &lt;lgl&gt; |\n",
       "|---|---|---|---|---|---|---|---|---|---|---|---|---|---|---|---|---|---|---|---|---|\n",
       "| 1990 | 1 | 3 | 3 | 1707 | 1630 | 1755 | 1723 | US | 29 | ... | NA | NA | 0 | NA | 0 | NA | NA | NA | NA | NA |\n",
       "| 1990 | 1 | 4 | 4 | 1706 | 1630 | 1807 | 1723 | US | 29 | ... | NA | NA | 0 | NA | 0 | NA | NA | NA | NA | NA |\n",
       "\n"
      ],
      "text/plain": [
       "  Year Month DayofMonth DayOfWeek DepTime CRSDepTime ArrTime CRSArrTime\n",
       "1 1990 1     3          3         1707    1630       1755    1723      \n",
       "2 1990 1     4          4         1706    1630       1807    1723      \n",
       "  UniqueCarrier FlightNum ... TaxiIn TaxiOut Cancelled CancellationCode\n",
       "1 US            29        ... NA     NA      0         NA              \n",
       "2 US            29        ... NA     NA      0         NA              \n",
       "  Diverted CarrierDelay WeatherDelay NASDelay SecurityDelay LateAircraftDelay\n",
       "1 0        NA           NA           NA       NA            NA               \n",
       "2 0        NA           NA           NA       NA            NA               "
      ]
     },
     "metadata": {},
     "output_type": "display_data"
    }
   ],
   "source": [
    "# reading the dataframe\n",
    "myDF <- fread(\"/anvil/projects/tdm/data/flights/subset/1990.csv\")\n",
    "head(myDF, 2)"
   ]
  },
  {
   "cell_type": "code",
   "execution_count": 55,
   "id": "616fa5c8-52ea-48bb-b353-215299d53151",
   "metadata": {},
   "outputs": [
    {
     "data": {
      "text/html": [
       "<style>\n",
       ".list-inline {list-style: none; margin:0; padding: 0}\n",
       ".list-inline>li {display: inline-block}\n",
       ".list-inline>li:not(:last-child)::after {content: \"\\00b7\"; padding: 0 .5ex}\n",
       "</style>\n",
       "<ol class=list-inline><li>52458</li><li>29</li></ol>\n"
      ],
      "text/latex": [
       "\\begin{enumerate*}\n",
       "\\item 52458\n",
       "\\item 29\n",
       "\\end{enumerate*}\n"
      ],
      "text/markdown": [
       "1. 52458\n",
       "2. 29\n",
       "\n",
       "\n"
      ],
      "text/plain": [
       "[1] 52458    29"
      ]
     },
     "metadata": {},
     "output_type": "display_data"
    }
   ],
   "source": [
    "# 5a. looking for the departure delays and array delay flight count \n",
    "DepDelay_na <- subset(myDF, (is.na(DepDelay)) & (is.na(ArrDelay)))\n",
    "dim(DepDelay_na)"
   ]
  },
  {
   "cell_type": "code",
   "execution_count": 52,
   "id": "cee55184-50b7-4e3c-82fc-de45f3305efb",
   "metadata": {},
   "outputs": [
    {
     "data": {
      "text/html": [
       "<style>\n",
       ".list-inline {list-style: none; margin:0; padding: 0}\n",
       ".list-inline>li {display: inline-block}\n",
       ".list-inline>li:not(:last-child)::after {content: \"\\00b7\"; padding: 0 .5ex}\n",
       "</style>\n",
       "<ol class=list-inline><li>15954</li><li>29</li></ol>\n"
      ],
      "text/latex": [
       "\\begin{enumerate*}\n",
       "\\item 15954\n",
       "\\item 29\n",
       "\\end{enumerate*}\n"
      ],
      "text/markdown": [
       "1. 15954\n",
       "2. 29\n",
       "\n",
       "\n"
      ],
      "text/plain": [
       "[1] 15954    29"
      ]
     },
     "metadata": {},
     "output_type": "display_data"
    }
   ],
   "source": [
    "# 5b. looking for the departure delays is not missing and arrival delay is missing flight count \n",
    "ArrDelay_na <- subset(myDF, (!is.na(DepDelay)) & (is.na(ArrDelay)))\n",
    "\n",
    "# to check the dimensions\n",
    "dim(ArrDelay_na)"
   ]
  },
  {
   "cell_type": "code",
   "execution_count": 54,
   "id": "5c0186f2-c3be-4c74-bdaa-6c1761a7eeb1",
   "metadata": {},
   "outputs": [
    {
     "data": {
      "text/html": [
       "<style>\n",
       ".list-inline {list-style: none; margin:0; padding: 0}\n",
       ".list-inline>li {display: inline-block}\n",
       ".list-inline>li:not(:last-child)::after {content: \"\\00b7\"; padding: 0 .5ex}\n",
       "</style>\n",
       "<ol class=list-inline><li>52458</li><li>29</li></ol>\n"
      ],
      "text/latex": [
       "\\begin{enumerate*}\n",
       "\\item 52458\n",
       "\\item 29\n",
       "\\end{enumerate*}\n"
      ],
      "text/markdown": [
       "1. 52458\n",
       "2. 29\n",
       "\n",
       "\n"
      ],
      "text/plain": [
       "[1] 52458    29"
      ]
     },
     "metadata": {},
     "output_type": "display_data"
    }
   ],
   "source": [
    "# 5c. find the number of flights for which the ArrDelay is given but the depdelay is missing\n",
    "ArrDelay_na <- subset(myDF, (is.na(DepDelay)) & (!is.na(ArrDelay)))\n",
    "dim(DepDelay_na)"
   ]
  },
  {
   "cell_type": "markdown",
   "id": "9fbf00fb-2418-460f-ae94-2a32b0c28952",
   "metadata": {},
   "source": [
    "a. the number of flights for which the DepDelay is missing and ArrDelay as well is 52458 <br>\n",
    "b. the number of flights for which the DepDelay is given but the ArrDelay is missing is 15954 <br> \n",
    "c. the number of flights for which the ArrDelay is given and DepDelay is not is 52458. "
   ]
  },
  {
   "cell_type": "markdown",
   "id": "f76442d6-d02e-4f26-b9d6-c3183e1d6929",
   "metadata": {},
   "source": [
    "## Pledge\n",
    "\n",
    "By submitting this work I hereby pledge that this is my own, personal work. I've acknowledged in the designated place at the top of this file all sources that I used to complete said work, including but not limited to: online resources, books, and electronic communications. I've noted all collaboration with fellow students and/or TA's. I did not copy or plagiarize another's work.\n",
    "\n",
    "> As a Boilermaker pursuing academic excellence, I pledge to be honest and true in all that I do. Accountable together – We are Purdue."
   ]
  }
 ],
 "metadata": {
  "kernelspec": {
   "display_name": "R 4.1.0",
   "language": "R",
   "name": "ir-4.1.0"
  },
  "language_info": {
   "codemirror_mode": "r",
   "file_extension": ".r",
   "mimetype": "text/x-r-source",
   "name": "R",
   "pygments_lexer": "r",
   "version": "4.1.0"
  }
 },
 "nbformat": 4,
 "nbformat_minor": 5
}
