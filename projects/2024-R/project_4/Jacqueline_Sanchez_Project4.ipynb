{
 "cells": [
  {
   "cell_type": "markdown",
   "id": "be02a957-7133-4d02-818e-fedeb3cecb05",
   "metadata": {},
   "source": [
    "# Project 4 -- Jacqueline Sanchez "
   ]
  },
  {
   "cell_type": "markdown",
   "id": "a1228853-dd19-4ab2-89e0-0394d7d72de3",
   "metadata": {},
   "source": [
    "**TA Help:** N/A\n",
    "\n",
    "- \n",
    "    \n",
    "**Collaboration:** N/A\n",
    "    \n",
    "- \n",
    "-"
   ]
  },
  {
   "cell_type": "markdown",
   "id": "6180e742-8e39-4698-98ff-5b00c8cf8ea0",
   "metadata": {},
   "source": [
    "## Question 1"
   ]
  },
  {
   "cell_type": "code",
   "execution_count": 3,
   "id": "49445606-d363-41b4-b479-e319a9a84c01",
   "metadata": {},
   "outputs": [
    {
     "data": {
      "text/html": [
       "<table class=\"dataframe\">\n",
       "<caption>A data.table: 6 x 38</caption>\n",
       "<thead>\n",
       "\t<tr><th scope=col>Id</th><th scope=col>ResidentStatus</th><th scope=col>Education1989Revision</th><th scope=col>Education2003Revision</th><th scope=col>EducationReportingFlag</th><th scope=col>MonthOfDeath</th><th scope=col>Sex</th><th scope=col>AgeType</th><th scope=col>Age</th><th scope=col>AgeSubstitutionFlag</th><th scope=col>...</th><th scope=col>CauseRecode39</th><th scope=col>NumberOfEntityAxisConditions</th><th scope=col>NumberOfRecordAxisConditions</th><th scope=col>Race</th><th scope=col>BridgedRaceFlag</th><th scope=col>RaceImputationFlag</th><th scope=col>RaceRecode3</th><th scope=col>RaceRecode5</th><th scope=col>HispanicOrigin</th><th scope=col>HispanicOriginRaceRecode</th></tr>\n",
       "\t<tr><th scope=col>&lt;int&gt;</th><th scope=col>&lt;int&gt;</th><th scope=col>&lt;int&gt;</th><th scope=col>&lt;int&gt;</th><th scope=col>&lt;int&gt;</th><th scope=col>&lt;int&gt;</th><th scope=col>&lt;chr&gt;</th><th scope=col>&lt;int&gt;</th><th scope=col>&lt;int&gt;</th><th scope=col>&lt;int&gt;</th><th scope=col>...</th><th scope=col>&lt;int&gt;</th><th scope=col>&lt;int&gt;</th><th scope=col>&lt;int&gt;</th><th scope=col>&lt;int&gt;</th><th scope=col>&lt;int&gt;</th><th scope=col>&lt;int&gt;</th><th scope=col>&lt;int&gt;</th><th scope=col>&lt;int&gt;</th><th scope=col>&lt;int&gt;</th><th scope=col>&lt;int&gt;</th></tr>\n",
       "</thead>\n",
       "<tbody>\n",
       "\t<tr><td>1</td><td>1</td><td>0</td><td>2</td><td>1</td><td>1</td><td>M</td><td>1</td><td>87</td><td>0</td><td>...</td><td>24</td><td>1</td><td>1</td><td>1</td><td>0</td><td>0</td><td>1</td><td>1</td><td>100</td><td>6</td></tr>\n",
       "\t<tr><td>2</td><td>1</td><td>0</td><td>2</td><td>1</td><td>1</td><td>M</td><td>1</td><td>58</td><td>0</td><td>...</td><td>21</td><td>3</td><td>3</td><td>1</td><td>0</td><td>0</td><td>1</td><td>1</td><td>100</td><td>6</td></tr>\n",
       "\t<tr><td>3</td><td>1</td><td>0</td><td>7</td><td>1</td><td>1</td><td>F</td><td>1</td><td>75</td><td>0</td><td>...</td><td>28</td><td>2</td><td>2</td><td>1</td><td>0</td><td>0</td><td>1</td><td>1</td><td>100</td><td>6</td></tr>\n",
       "\t<tr><td>4</td><td>1</td><td>0</td><td>6</td><td>1</td><td>1</td><td>M</td><td>1</td><td>74</td><td>0</td><td>...</td><td>22</td><td>3</td><td>3</td><td>1</td><td>0</td><td>0</td><td>1</td><td>1</td><td>100</td><td>6</td></tr>\n",
       "\t<tr><td>5</td><td>1</td><td>0</td><td>3</td><td>1</td><td>1</td><td>M</td><td>1</td><td>64</td><td>0</td><td>...</td><td>21</td><td>1</td><td>1</td><td>1</td><td>0</td><td>0</td><td>1</td><td>1</td><td>100</td><td>6</td></tr>\n",
       "\t<tr><td>6</td><td>1</td><td>0</td><td>5</td><td>1</td><td>1</td><td>F</td><td>1</td><td>93</td><td>0</td><td>...</td><td>37</td><td>5</td><td>5</td><td>1</td><td>0</td><td>0</td><td>1</td><td>1</td><td>100</td><td>6</td></tr>\n",
       "</tbody>\n",
       "</table>\n"
      ],
      "text/latex": [
       "A data.table: 6 x 38\n",
       "\\begin{tabular}{lllllllllllllllllllll}\n",
       " Id & ResidentStatus & Education1989Revision & Education2003Revision & EducationReportingFlag & MonthOfDeath & Sex & AgeType & Age & AgeSubstitutionFlag & ... & CauseRecode39 & NumberOfEntityAxisConditions & NumberOfRecordAxisConditions & Race & BridgedRaceFlag & RaceImputationFlag & RaceRecode3 & RaceRecode5 & HispanicOrigin & HispanicOriginRaceRecode\\\\\n",
       " <int> & <int> & <int> & <int> & <int> & <int> & <chr> & <int> & <int> & <int> & ... & <int> & <int> & <int> & <int> & <int> & <int> & <int> & <int> & <int> & <int>\\\\\n",
       "\\hline\n",
       "\t 1 & 1 & 0 & 2 & 1 & 1 & M & 1 & 87 & 0 & ... & 24 & 1 & 1 & 1 & 0 & 0 & 1 & 1 & 100 & 6\\\\\n",
       "\t 2 & 1 & 0 & 2 & 1 & 1 & M & 1 & 58 & 0 & ... & 21 & 3 & 3 & 1 & 0 & 0 & 1 & 1 & 100 & 6\\\\\n",
       "\t 3 & 1 & 0 & 7 & 1 & 1 & F & 1 & 75 & 0 & ... & 28 & 2 & 2 & 1 & 0 & 0 & 1 & 1 & 100 & 6\\\\\n",
       "\t 4 & 1 & 0 & 6 & 1 & 1 & M & 1 & 74 & 0 & ... & 22 & 3 & 3 & 1 & 0 & 0 & 1 & 1 & 100 & 6\\\\\n",
       "\t 5 & 1 & 0 & 3 & 1 & 1 & M & 1 & 64 & 0 & ... & 21 & 1 & 1 & 1 & 0 & 0 & 1 & 1 & 100 & 6\\\\\n",
       "\t 6 & 1 & 0 & 5 & 1 & 1 & F & 1 & 93 & 0 & ... & 37 & 5 & 5 & 1 & 0 & 0 & 1 & 1 & 100 & 6\\\\\n",
       "\\end{tabular}\n"
      ],
      "text/markdown": [
       "\n",
       "A data.table: 6 x 38\n",
       "\n",
       "| Id &lt;int&gt; | ResidentStatus &lt;int&gt; | Education1989Revision &lt;int&gt; | Education2003Revision &lt;int&gt; | EducationReportingFlag &lt;int&gt; | MonthOfDeath &lt;int&gt; | Sex &lt;chr&gt; | AgeType &lt;int&gt; | Age &lt;int&gt; | AgeSubstitutionFlag &lt;int&gt; | ... ... | CauseRecode39 &lt;int&gt; | NumberOfEntityAxisConditions &lt;int&gt; | NumberOfRecordAxisConditions &lt;int&gt; | Race &lt;int&gt; | BridgedRaceFlag &lt;int&gt; | RaceImputationFlag &lt;int&gt; | RaceRecode3 &lt;int&gt; | RaceRecode5 &lt;int&gt; | HispanicOrigin &lt;int&gt; | HispanicOriginRaceRecode &lt;int&gt; |\n",
       "|---|---|---|---|---|---|---|---|---|---|---|---|---|---|---|---|---|---|---|---|---|\n",
       "| 1 | 1 | 0 | 2 | 1 | 1 | M | 1 | 87 | 0 | ... | 24 | 1 | 1 | 1 | 0 | 0 | 1 | 1 | 100 | 6 |\n",
       "| 2 | 1 | 0 | 2 | 1 | 1 | M | 1 | 58 | 0 | ... | 21 | 3 | 3 | 1 | 0 | 0 | 1 | 1 | 100 | 6 |\n",
       "| 3 | 1 | 0 | 7 | 1 | 1 | F | 1 | 75 | 0 | ... | 28 | 2 | 2 | 1 | 0 | 0 | 1 | 1 | 100 | 6 |\n",
       "| 4 | 1 | 0 | 6 | 1 | 1 | M | 1 | 74 | 0 | ... | 22 | 3 | 3 | 1 | 0 | 0 | 1 | 1 | 100 | 6 |\n",
       "| 5 | 1 | 0 | 3 | 1 | 1 | M | 1 | 64 | 0 | ... | 21 | 1 | 1 | 1 | 0 | 0 | 1 | 1 | 100 | 6 |\n",
       "| 6 | 1 | 0 | 5 | 1 | 1 | F | 1 | 93 | 0 | ... | 37 | 5 | 5 | 1 | 0 | 0 | 1 | 1 | 100 | 6 |\n",
       "\n"
      ],
      "text/plain": [
       "  Id ResidentStatus Education1989Revision Education2003Revision\n",
       "1 1  1              0                     2                    \n",
       "2 2  1              0                     2                    \n",
       "3 3  1              0                     7                    \n",
       "4 4  1              0                     6                    \n",
       "5 5  1              0                     3                    \n",
       "6 6  1              0                     5                    \n",
       "  EducationReportingFlag MonthOfDeath Sex AgeType Age AgeSubstitutionFlag ...\n",
       "1 1                      1            M   1       87  0                   ...\n",
       "2 1                      1            M   1       58  0                   ...\n",
       "3 1                      1            F   1       75  0                   ...\n",
       "4 1                      1            M   1       74  0                   ...\n",
       "5 1                      1            M   1       64  0                   ...\n",
       "6 1                      1            F   1       93  0                   ...\n",
       "  CauseRecode39 NumberOfEntityAxisConditions NumberOfRecordAxisConditions Race\n",
       "1 24            1                            1                            1   \n",
       "2 21            3                            3                            1   \n",
       "3 28            2                            2                            1   \n",
       "4 22            3                            3                            1   \n",
       "5 21            1                            1                            1   \n",
       "6 37            5                            5                            1   \n",
       "  BridgedRaceFlag RaceImputationFlag RaceRecode3 RaceRecode5 HispanicOrigin\n",
       "1 0               0                  1           1           100           \n",
       "2 0               0                  1           1           100           \n",
       "3 0               0                  1           1           100           \n",
       "4 0               0                  1           1           100           \n",
       "5 0               0                  1           1           100           \n",
       "6 0               0                  1           1           100           \n",
       "  HispanicOriginRaceRecode\n",
       "1 6                       \n",
       "2 6                       \n",
       "3 6                       \n",
       "4 6                       \n",
       "5 6                       \n",
       "6 6                       "
      ]
     },
     "metadata": {},
     "output_type": "display_data"
    }
   ],
   "source": [
    "# code here\n",
    "library(data.table)\n",
    "myDF <- fread(\"/anvil/projects/tdm/data/death_records/DeathRecords.csv\")\n",
    "head(myDF)"
   ]
  },
  {
   "cell_type": "code",
   "execution_count": 2,
   "id": "0e567f96-fb05-4fb9-8b07-cc0ebc74de14",
   "metadata": {},
   "outputs": [
    {
     "data": {
      "text/html": [
       "<style>\n",
       ".dl-inline {width: auto; margin:0; padding: 0}\n",
       ".dl-inline>dt, .dl-inline>dd {float: none; width: auto; display: inline-block}\n",
       ".dl-inline>dt::after {content: \":\\0020\"; padding-right: .5ex}\n",
       ".dl-inline>dt:not(:first-of-type) {padding-left: .5ex}\n",
       "</style><dl class=dl-inline><dt>F</dt><dd>76.6766847989167</dd><dt>M</dt><dd>70.2278579695537</dd></dl>\n"
      ],
      "text/latex": [
       "\\begin{description*}\n",
       "\\item[F] 76.6766847989167\n",
       "\\item[M] 70.2278579695537\n",
       "\\end{description*}\n"
      ],
      "text/markdown": [
       "F\n",
       ":   76.6766847989167M\n",
       ":   70.2278579695537\n",
       "\n"
      ],
      "text/plain": [
       "       F        M \n",
       "76.67668 70.22786 "
      ]
     },
     "metadata": {},
     "output_type": "display_data"
    }
   ],
   "source": [
    "tapply(myDF$Age, myDF$Sex, mean)"
   ]
  },
  {
   "cell_type": "markdown",
   "id": "b456e57c-4a12-464b-999a-ef2df5af80c1",
   "metadata": {},
   "source": [
    "The mean age of death for females is 76.68 and for male is 70.23. "
   ]
  },
  {
   "cell_type": "markdown",
   "id": "fc601975-35ed-4680-a4e1-0273ee3cc047",
   "metadata": {},
   "source": [
    "## Question 2"
   ]
  },
  {
   "cell_type": "code",
   "execution_count": 3,
   "id": "a16336a1-1ef0-41e8-bc7c-49387db27497",
   "metadata": {},
   "outputs": [
    {
     "data": {
      "text/html": [
       "<table class=\"dataframe\">\n",
       "<caption>A data.table: 6 x 9</caption>\n",
       "<thead>\n",
       "\t<tr><th scope=col>BASKET_NUM</th><th scope=col>HSHD_NUM</th><th scope=col>PURCHASE_</th><th scope=col>PRODUCT_NUM</th><th scope=col>SPEND</th><th scope=col>UNITS</th><th scope=col>STORE_R</th><th scope=col>WEEK_NUM</th><th scope=col>YEAR</th></tr>\n",
       "\t<tr><th scope=col>&lt;int&gt;</th><th scope=col>&lt;int&gt;</th><th scope=col>&lt;chr&gt;</th><th scope=col>&lt;int&gt;</th><th scope=col>&lt;dbl&gt;</th><th scope=col>&lt;int&gt;</th><th scope=col>&lt;chr&gt;</th><th scope=col>&lt;int&gt;</th><th scope=col>&lt;int&gt;</th></tr>\n",
       "</thead>\n",
       "<tbody>\n",
       "\t<tr><td> 24</td><td>1809</td><td>03-JAN-16</td><td>5817389</td><td>-1.50</td><td>-1</td><td>SOUTH</td><td>1</td><td>2016</td></tr>\n",
       "\t<tr><td> 24</td><td>1809</td><td>03-JAN-16</td><td>5829886</td><td>-1.50</td><td>-1</td><td>SOUTH</td><td>1</td><td>2016</td></tr>\n",
       "\t<tr><td> 34</td><td>1253</td><td>03-JAN-16</td><td> 539501</td><td> 2.19</td><td> 1</td><td>EAST </td><td>1</td><td>2016</td></tr>\n",
       "\t<tr><td> 60</td><td>1595</td><td>03-JAN-16</td><td>5260099</td><td> 0.99</td><td> 1</td><td>WEST </td><td>1</td><td>2016</td></tr>\n",
       "\t<tr><td> 60</td><td>1595</td><td>03-JAN-16</td><td>4535660</td><td> 2.50</td><td> 2</td><td>WEST </td><td>1</td><td>2016</td></tr>\n",
       "\t<tr><td>168</td><td>3393</td><td>03-JAN-16</td><td>5602916</td><td> 4.50</td><td> 1</td><td>SOUTH</td><td>1</td><td>2016</td></tr>\n",
       "</tbody>\n",
       "</table>\n"
      ],
      "text/latex": [
       "A data.table: 6 x 9\n",
       "\\begin{tabular}{lllllllll}\n",
       " BASKET\\_NUM & HSHD\\_NUM & PURCHASE\\_ & PRODUCT\\_NUM & SPEND & UNITS & STORE\\_R & WEEK\\_NUM & YEAR\\\\\n",
       " <int> & <int> & <chr> & <int> & <dbl> & <int> & <chr> & <int> & <int>\\\\\n",
       "\\hline\n",
       "\t  24 & 1809 & 03-JAN-16 & 5817389 & -1.50 & -1 & SOUTH & 1 & 2016\\\\\n",
       "\t  24 & 1809 & 03-JAN-16 & 5829886 & -1.50 & -1 & SOUTH & 1 & 2016\\\\\n",
       "\t  34 & 1253 & 03-JAN-16 &  539501 &  2.19 &  1 & EAST  & 1 & 2016\\\\\n",
       "\t  60 & 1595 & 03-JAN-16 & 5260099 &  0.99 &  1 & WEST  & 1 & 2016\\\\\n",
       "\t  60 & 1595 & 03-JAN-16 & 4535660 &  2.50 &  2 & WEST  & 1 & 2016\\\\\n",
       "\t 168 & 3393 & 03-JAN-16 & 5602916 &  4.50 &  1 & SOUTH & 1 & 2016\\\\\n",
       "\\end{tabular}\n"
      ],
      "text/markdown": [
       "\n",
       "A data.table: 6 x 9\n",
       "\n",
       "| BASKET_NUM &lt;int&gt; | HSHD_NUM &lt;int&gt; | PURCHASE_ &lt;chr&gt; | PRODUCT_NUM &lt;int&gt; | SPEND &lt;dbl&gt; | UNITS &lt;int&gt; | STORE_R &lt;chr&gt; | WEEK_NUM &lt;int&gt; | YEAR &lt;int&gt; |\n",
       "|---|---|---|---|---|---|---|---|---|\n",
       "|  24 | 1809 | 03-JAN-16 | 5817389 | -1.50 | -1 | SOUTH | 1 | 2016 |\n",
       "|  24 | 1809 | 03-JAN-16 | 5829886 | -1.50 | -1 | SOUTH | 1 | 2016 |\n",
       "|  34 | 1253 | 03-JAN-16 |  539501 |  2.19 |  1 | EAST  | 1 | 2016 |\n",
       "|  60 | 1595 | 03-JAN-16 | 5260099 |  0.99 |  1 | WEST  | 1 | 2016 |\n",
       "|  60 | 1595 | 03-JAN-16 | 4535660 |  2.50 |  2 | WEST  | 1 | 2016 |\n",
       "| 168 | 3393 | 03-JAN-16 | 5602916 |  4.50 |  1 | SOUTH | 1 | 2016 |\n",
       "\n"
      ],
      "text/plain": [
       "  BASKET_NUM HSHD_NUM PURCHASE_ PRODUCT_NUM SPEND UNITS STORE_R WEEK_NUM YEAR\n",
       "1  24        1809     03-JAN-16 5817389     -1.50 -1    SOUTH   1        2016\n",
       "2  24        1809     03-JAN-16 5829886     -1.50 -1    SOUTH   1        2016\n",
       "3  34        1253     03-JAN-16  539501      2.19  1    EAST    1        2016\n",
       "4  60        1595     03-JAN-16 5260099      0.99  1    WEST    1        2016\n",
       "5  60        1595     03-JAN-16 4535660      2.50  2    WEST    1        2016\n",
       "6 168        3393     03-JAN-16 5602916      4.50  1    SOUTH   1        2016"
      ]
     },
     "metadata": {},
     "output_type": "display_data"
    }
   ],
   "source": [
    "# code here\n",
    "library(data.table)\n",
    "myDF <- fread(\"/anvil/projects/tdm/data/8451/The_Complete_Journey_2_Master/5000_transactions.csv\")\n",
    "head(myDF)"
   ]
  },
  {
   "cell_type": "code",
   "execution_count": 4,
   "id": "e9d4d883-3cf5-4152-b7dc-1412916d4219",
   "metadata": {},
   "outputs": [
    {
     "data": {
      "text/html": [
       "<style>\n",
       ".dl-inline {width: auto; margin:0; padding: 0}\n",
       ".dl-inline>dt, .dl-inline>dd {float: none; width: auto; display: inline-block}\n",
       ".dl-inline>dt::after {content: \":\\0020\"; padding-right: .5ex}\n",
       ".dl-inline>dt:not(:first-of-type) {padding-left: .5ex}\n",
       "</style><dl class=dl-inline><dt>-4.15</dt><dd>1609</dd><dt>-4.83</dt><dd>6574</dd><dt>118.83</dt><dd>6871</dd><dt>-3.61</dt><dd>7714</dd><dt>-1.85</dt><dd>8170</dd><dt>-13.8</dt><dd>8184</dd><dt>-6.82</dt><dd>8186</dd><dt>-5.7</dt><dd>8206</dd><dt>-7.43</dt><dd>8522</dd><dt>-5.87</dt><dd>8522</dd></dl>\n"
      ],
      "text/latex": [
       "\\begin{description*}\n",
       "\\item[-4.15] 1609\n",
       "\\item[-4.83] 6574\n",
       "\\item[118.83] 6871\n",
       "\\item[-3.61] 7714\n",
       "\\item[-1.85] 8170\n",
       "\\item[-13.8] 8184\n",
       "\\item[-6.82] 8186\n",
       "\\item[-5.7] 8206\n",
       "\\item[-7.43] 8522\n",
       "\\item[-5.87] 8522\n",
       "\\end{description*}\n"
      ],
      "text/markdown": [
       "-4.15\n",
       ":   1609-4.83\n",
       ":   6574118.83\n",
       ":   6871-3.61\n",
       ":   7714-1.85\n",
       ":   8170-13.8\n",
       ":   8184-6.82\n",
       ":   8186-5.7\n",
       ":   8206-7.43\n",
       ":   8522-5.87\n",
       ":   8522\n",
       "\n"
      ],
      "text/plain": [
       " -4.15  -4.83 118.83  -3.61  -1.85  -13.8  -6.82   -5.7  -7.43  -5.87 \n",
       "  1609   6574   6871   7714   8170   8184   8186   8206   8522   8522 "
      ]
     },
     "metadata": {},
     "output_type": "display_data"
    }
   ],
   "source": [
    "head(sort(tapply(myDF$PRODUCT_NUM, myDF$SPEND, sum)), 10)"
   ]
  },
  {
   "cell_type": "markdown",
   "id": "8e586edd-ff26-4ce2-8f6b-2424b26f2929",
   "metadata": {},
   "source": [
    "## Question 3"
   ]
  },
  {
   "cell_type": "code",
   "execution_count": 5,
   "id": "bbe0f40d-9655-4653-9ca8-886bdb61cb91",
   "metadata": {},
   "outputs": [],
   "source": [
    "# code here\n",
    "myDF <- fread(\"/anvil/projects/tdm/data/beer/reviews_sample.csv\")\n",
    "# head(myDF, 2)"
   ]
  },
  {
   "cell_type": "code",
   "execution_count": 6,
   "id": "e6d9cd55-aafe-4df6-8b83-fc620d3e969c",
   "metadata": {},
   "outputs": [
    {
     "data": {
      "text/html": [
       "<style>\n",
       ".dl-inline {width: auto; margin:0; padding: 0}\n",
       ".dl-inline>dt, .dl-inline>dd {float: none; width: auto; display: inline-block}\n",
       ".dl-inline>dt::after {content: \":\\0020\"; padding-right: .5ex}\n",
       ".dl-inline>dt:not(:first-of-type) {padding-left: .5ex}\n",
       "</style><dl class=dl-inline><dt>2001-04-26</dt><dd>5</dd><dt>2001-06-18</dt><dd>5</dd><dt>2002-01-26</dt><dd>5</dd></dl>\n"
      ],
      "text/latex": [
       "\\begin{description*}\n",
       "\\item[2001-04-26] 5\n",
       "\\item[2001-06-18] 5\n",
       "\\item[2002-01-26] 5\n",
       "\\end{description*}\n"
      ],
      "text/markdown": [
       "2001-04-26\n",
       ":   52001-06-18\n",
       ":   52002-01-26\n",
       ":   5\n",
       "\n"
      ],
      "text/plain": [
       "2001-04-26 2001-06-18 2002-01-26 \n",
       "         5          5          5 "
      ]
     },
     "metadata": {},
     "output_type": "display_data"
    }
   ],
   "source": [
    "# printing out the three dates that have a perfect score of 5 \n",
    "tail(sort(tapply(myDF$score, myDF$date, mean)),3)"
   ]
  },
  {
   "cell_type": "markdown",
   "id": "47c6229f-35f7-400c-8366-c442baa5cf47",
   "metadata": {},
   "source": [
    "I applied the tapply to the beer data set score column and grouped them based on dates. I used the sort function since it would sort the mean score values in ascending order the largest mean score would be placed at "
   ]
  },
  {
   "cell_type": "markdown",
   "id": "da22f29c-d245-4d2b-9fc1-ca14cb6087d9",
   "metadata": {},
   "source": [
    "## Question 4"
   ]
  },
  {
   "cell_type": "code",
   "execution_count": 8,
   "id": "8cffc767-d1c8-4d64-b7dc-f0d2ee8a80d1",
   "metadata": {},
   "outputs": [
    {
     "data": {
      "text/html": [
       "<table class=\"dataframe\">\n",
       "<caption>A data.table: 6 x 21</caption>\n",
       "<thead>\n",
       "\t<tr><th scope=col>CMTE_ID</th><th scope=col>AMNDT_IND</th><th scope=col>RPT_TP</th><th scope=col>TRANSACTION_PGI</th><th scope=col>IMAGE_NUM</th><th scope=col>TRANSACTION_TP</th><th scope=col>ENTITY_TP</th><th scope=col>NAME</th><th scope=col>CITY</th><th scope=col>STATE</th><th scope=col>...</th><th scope=col>EMPLOYER</th><th scope=col>OCCUPATION</th><th scope=col>TRANSACTION_DT</th><th scope=col>TRANSACTION_AMT</th><th scope=col>OTHER_ID</th><th scope=col>TRAN_ID</th><th scope=col>FILE_NUM</th><th scope=col>MEMO_CD</th><th scope=col>MEMO_TEXT</th><th scope=col>SUB_ID</th></tr>\n",
       "\t<tr><th scope=col>&lt;chr&gt;</th><th scope=col>&lt;chr&gt;</th><th scope=col>&lt;chr&gt;</th><th scope=col>&lt;chr&gt;</th><th scope=col>&lt;int64&gt;</th><th scope=col>&lt;chr&gt;</th><th scope=col>&lt;lgl&gt;</th><th scope=col>&lt;chr&gt;</th><th scope=col>&lt;chr&gt;</th><th scope=col>&lt;chr&gt;</th><th scope=col>...</th><th scope=col>&lt;chr&gt;</th><th scope=col>&lt;lgl&gt;</th><th scope=col>&lt;int&gt;</th><th scope=col>&lt;int&gt;</th><th scope=col>&lt;chr&gt;</th><th scope=col>&lt;lgl&gt;</th><th scope=col>&lt;lgl&gt;</th><th scope=col>&lt;lgl&gt;</th><th scope=col>&lt;chr&gt;</th><th scope=col>&lt;int64&gt;</th></tr>\n",
       "</thead>\n",
       "<tbody>\n",
       "\t<tr><td>C00078279</td><td>A</td><td>M11</td><td>P</td><td>80031492155</td><td>22Y</td><td>NA</td><td>MCKENNON, K R    </td><td>MIDLAND</td><td>MI</td><td>...</td><td>               </td><td>NA</td><td>10031979</td><td> 400</td><td></td><td>NA</td><td>NA</td><td>NA</td><td>CONTRIBUTION REF TO INDIVIDUAL</td><td>3062020110011466469</td></tr>\n",
       "\t<tr><td>C00078279</td><td>A</td><td>M11</td><td> </td><td>79031415137</td><td>15 </td><td>NA</td><td>OREFFICE, P      </td><td>MIDLAND</td><td>MI</td><td>...</td><td>DOW CHEMICAL CO</td><td>NA</td><td>10261979</td><td>1500</td><td></td><td>NA</td><td>NA</td><td>NA</td><td>                              </td><td>3061920110000382948</td></tr>\n",
       "\t<tr><td>C00078279</td><td>A</td><td>M11</td><td> </td><td>79031415137</td><td>15 </td><td>NA</td><td>DOWNEY, J        </td><td>MIDLAND</td><td>MI</td><td>...</td><td>DOW CHEMICAL CO</td><td>NA</td><td>10261979</td><td> 300</td><td></td><td>NA</td><td>NA</td><td>NA</td><td>                              </td><td>3061920110000382949</td></tr>\n",
       "\t<tr><td>C00078279</td><td>A</td><td>M11</td><td> </td><td>79031415137</td><td>15 </td><td>NA</td><td>BLAIR, E         </td><td>MIDLAND</td><td>MI</td><td>...</td><td>DOW CHEMICAL CO</td><td>NA</td><td>10261979</td><td>1000</td><td></td><td>NA</td><td>NA</td><td>NA</td><td>                              </td><td>3061920110000382950</td></tr>\n",
       "\t<tr><td>C00078287</td><td>A</td><td>Q1 </td><td> </td><td>79031231889</td><td>15 </td><td>NA</td><td>BLANCHARD, JOHN A</td><td>CHICAGO</td><td>IL</td><td>...</td><td>               </td><td>NA</td><td> 3201979</td><td> 200</td><td></td><td>NA</td><td>NA</td><td>NA</td><td>                              </td><td>3061920110000383914</td></tr>\n",
       "\t<tr><td>C00078287</td><td>A</td><td>Q1 </td><td> </td><td>79031231889</td><td>15 </td><td>NA</td><td>CRAMER, JOHN H   </td><td>CHICAGO</td><td>IL</td><td>...</td><td>               </td><td>NA</td><td> 2281979</td><td> 200</td><td></td><td>NA</td><td>NA</td><td>NA</td><td>                              </td><td>3061920110000383915</td></tr>\n",
       "</tbody>\n",
       "</table>\n"
      ],
      "text/latex": [
       "A data.table: 6 x 21\n",
       "\\begin{tabular}{lllllllllllllllllllll}\n",
       " CMTE\\_ID & AMNDT\\_IND & RPT\\_TP & TRANSACTION\\_PGI & IMAGE\\_NUM & TRANSACTION\\_TP & ENTITY\\_TP & NAME & CITY & STATE & ... & EMPLOYER & OCCUPATION & TRANSACTION\\_DT & TRANSACTION\\_AMT & OTHER\\_ID & TRAN\\_ID & FILE\\_NUM & MEMO\\_CD & MEMO\\_TEXT & SUB\\_ID\\\\\n",
       " <chr> & <chr> & <chr> & <chr> & <int64> & <chr> & <lgl> & <chr> & <chr> & <chr> & ... & <chr> & <lgl> & <int> & <int> & <chr> & <lgl> & <lgl> & <lgl> & <chr> & <int64>\\\\\n",
       "\\hline\n",
       "\t C00078279 & A & M11 & P & 80031492155 & 22Y & NA & MCKENNON, K R     & MIDLAND & MI & ... &                 & NA & 10031979 &  400 &  & NA & NA & NA & CONTRIBUTION REF TO INDIVIDUAL & 3062020110011466469\\\\\n",
       "\t C00078279 & A & M11 &   & 79031415137 & 15  & NA & OREFFICE, P       & MIDLAND & MI & ... & DOW CHEMICAL CO & NA & 10261979 & 1500 &  & NA & NA & NA &                                & 3061920110000382948\\\\\n",
       "\t C00078279 & A & M11 &   & 79031415137 & 15  & NA & DOWNEY, J         & MIDLAND & MI & ... & DOW CHEMICAL CO & NA & 10261979 &  300 &  & NA & NA & NA &                                & 3061920110000382949\\\\\n",
       "\t C00078279 & A & M11 &   & 79031415137 & 15  & NA & BLAIR, E          & MIDLAND & MI & ... & DOW CHEMICAL CO & NA & 10261979 & 1000 &  & NA & NA & NA &                                & 3061920110000382950\\\\\n",
       "\t C00078287 & A & Q1  &   & 79031231889 & 15  & NA & BLANCHARD, JOHN A & CHICAGO & IL & ... &                 & NA &  3201979 &  200 &  & NA & NA & NA &                                & 3061920110000383914\\\\\n",
       "\t C00078287 & A & Q1  &   & 79031231889 & 15  & NA & CRAMER, JOHN H    & CHICAGO & IL & ... &                 & NA &  2281979 &  200 &  & NA & NA & NA &                                & 3061920110000383915\\\\\n",
       "\\end{tabular}\n"
      ],
      "text/markdown": [
       "\n",
       "A data.table: 6 x 21\n",
       "\n",
       "| CMTE_ID &lt;chr&gt; | AMNDT_IND &lt;chr&gt; | RPT_TP &lt;chr&gt; | TRANSACTION_PGI &lt;chr&gt; | IMAGE_NUM &lt;int64&gt; | TRANSACTION_TP &lt;chr&gt; | ENTITY_TP &lt;lgl&gt; | NAME &lt;chr&gt; | CITY &lt;chr&gt; | STATE &lt;chr&gt; | ... ... | EMPLOYER &lt;chr&gt; | OCCUPATION &lt;lgl&gt; | TRANSACTION_DT &lt;int&gt; | TRANSACTION_AMT &lt;int&gt; | OTHER_ID &lt;chr&gt; | TRAN_ID &lt;lgl&gt; | FILE_NUM &lt;lgl&gt; | MEMO_CD &lt;lgl&gt; | MEMO_TEXT &lt;chr&gt; | SUB_ID &lt;int64&gt; |\n",
       "|---|---|---|---|---|---|---|---|---|---|---|---|---|---|---|---|---|---|---|---|---|\n",
       "| C00078279 | A | M11 | P | 80031492155 | 22Y | NA | MCKENNON, K R     | MIDLAND | MI | ... | <!----> | NA | 10031979 |  400 | <!----> | NA | NA | NA | CONTRIBUTION REF TO INDIVIDUAL | 3062020110011466469 |\n",
       "| C00078279 | A | M11 | <!----> | 79031415137 | 15  | NA | OREFFICE, P       | MIDLAND | MI | ... | DOW CHEMICAL CO | NA | 10261979 | 1500 | <!----> | NA | NA | NA | <!----> | 3061920110000382948 |\n",
       "| C00078279 | A | M11 | <!----> | 79031415137 | 15  | NA | DOWNEY, J         | MIDLAND | MI | ... | DOW CHEMICAL CO | NA | 10261979 |  300 | <!----> | NA | NA | NA | <!----> | 3061920110000382949 |\n",
       "| C00078279 | A | M11 | <!----> | 79031415137 | 15  | NA | BLAIR, E          | MIDLAND | MI | ... | DOW CHEMICAL CO | NA | 10261979 | 1000 | <!----> | NA | NA | NA | <!----> | 3061920110000382950 |\n",
       "| C00078287 | A | Q1  | <!----> | 79031231889 | 15  | NA | BLANCHARD, JOHN A | CHICAGO | IL | ... | <!----> | NA |  3201979 |  200 | <!----> | NA | NA | NA | <!----> | 3061920110000383914 |\n",
       "| C00078287 | A | Q1  | <!----> | 79031231889 | 15  | NA | CRAMER, JOHN H    | CHICAGO | IL | ... | <!----> | NA |  2281979 |  200 | <!----> | NA | NA | NA | <!----> | 3061920110000383915 |\n",
       "\n"
      ],
      "text/plain": [
       "  CMTE_ID   AMNDT_IND RPT_TP TRANSACTION_PGI IMAGE_NUM   TRANSACTION_TP\n",
       "1 C00078279 A         M11    P               80031492155 22Y           \n",
       "2 C00078279 A         M11                    79031415137 15            \n",
       "3 C00078279 A         M11                    79031415137 15            \n",
       "4 C00078279 A         M11                    79031415137 15            \n",
       "5 C00078287 A         Q1                     79031231889 15            \n",
       "6 C00078287 A         Q1                     79031231889 15            \n",
       "  ENTITY_TP NAME              CITY    STATE ... EMPLOYER        OCCUPATION\n",
       "1 NA        MCKENNON, K R     MIDLAND MI    ...                 NA        \n",
       "2 NA        OREFFICE, P       MIDLAND MI    ... DOW CHEMICAL CO NA        \n",
       "3 NA        DOWNEY, J         MIDLAND MI    ... DOW CHEMICAL CO NA        \n",
       "4 NA        BLAIR, E          MIDLAND MI    ... DOW CHEMICAL CO NA        \n",
       "5 NA        BLANCHARD, JOHN A CHICAGO IL    ...                 NA        \n",
       "6 NA        CRAMER, JOHN H    CHICAGO IL    ...                 NA        \n",
       "  TRANSACTION_DT TRANSACTION_AMT OTHER_ID TRAN_ID FILE_NUM MEMO_CD\n",
       "1 10031979        400                     NA      NA       NA     \n",
       "2 10261979       1500                     NA      NA       NA     \n",
       "3 10261979        300                     NA      NA       NA     \n",
       "4 10261979       1000                     NA      NA       NA     \n",
       "5  3201979        200                     NA      NA       NA     \n",
       "6  2281979        200                     NA      NA       NA     \n",
       "  MEMO_TEXT                      SUB_ID             \n",
       "1 CONTRIBUTION REF TO INDIVIDUAL 3062020110011466469\n",
       "2                                3061920110000382948\n",
       "3                                3061920110000382949\n",
       "4                                3061920110000382950\n",
       "5                                3061920110000383914\n",
       "6                                3061920110000383915"
      ]
     },
     "metadata": {},
     "output_type": "display_data"
    }
   ],
   "source": [
    "# code here\n",
    "myDF <- fread(\"/anvil/projects/tdm/data/election/itcont1980.txt\", quote = \"\")\n",
    "names(myDF) <- c(\"CMTE_ID\", \"AMNDT_IND\", \"RPT_TP\", \"TRANSACTION_PGI\", \"IMAGE_NUM\", \"TRANSACTION_TP\", \"ENTITY_TP\", \"NAME\", \"CITY\", \"STATE\",\"ZIP_CODE\", \"EMPLOYER\", \"OCCUPATION\", \"TRANSACTION_DT\", \"TRANSACTION_AMT\", \"OTHER_ID\", \"TRAN_ID\", \"FILE_NUM\", \"MEMO_CD\", \"MEMO_TEXT\", \"SUB_ID\")\n",
    "head(myDF)"
   ]
  },
  {
   "cell_type": "code",
   "execution_count": 9,
   "id": "9a44f263-6c94-4e97-83af-1f75102ec072",
   "metadata": {},
   "outputs": [],
   "source": [
    "# storing the merged city and states into a variable \"newCol\" (newColumn)\n",
    "newCol <- paste(myDF$CITY, myDF$STATE, sep = \",\")"
   ]
  },
  {
   "cell_type": "code",
   "execution_count": 10,
   "id": "f9b23398-f626-4cc9-9a78-ef6989f3917d",
   "metadata": {},
   "outputs": [
    {
     "data": {
      "text/html": [
       "<style>\n",
       ".dl-inline {width: auto; margin:0; padding: 0}\n",
       ".dl-inline>dt, .dl-inline>dd {float: none; width: auto; display: inline-block}\n",
       ".dl-inline>dt::after {content: \":\\0020\"; padding-right: .5ex}\n",
       ".dl-inline>dt:not(:first-of-type) {padding-left: .5ex}\n",
       "</style><dl class=dl-inline><dt>WASHINGTON,DC</dt><dd>4273606</dd><dt>LOS ANGELES,CA</dt><dd>4569952</dd><dt>DALLAS,TX</dt><dd>4748262</dd><dt>HOUSTON,TX</dt><dd>7606806</dd><dt>NEW YORK,NY</dt><dd>11345027</dd><dt>,</dt><dd>17299729</dd></dl>\n"
      ],
      "text/latex": [
       "\\begin{description*}\n",
       "\\item[WASHINGTON,DC] 4273606\n",
       "\\item[LOS ANGELES,CA] 4569952\n",
       "\\item[DALLAS,TX] 4748262\n",
       "\\item[HOUSTON,TX] 7606806\n",
       "\\item[NEW YORK,NY] 11345027\n",
       "\\item[,] 17299729\n",
       "\\end{description*}\n"
      ],
      "text/markdown": [
       "WASHINGTON,DC\n",
       ":   4273606LOS ANGELES,CA\n",
       ":   4569952DALLAS,TX\n",
       ":   4748262HOUSTON,TX\n",
       ":   7606806NEW YORK,NY\n",
       ":   11345027,\n",
       ":   17299729\n",
       "\n"
      ],
      "text/plain": [
       " WASHINGTON,DC LOS ANGELES,CA      DALLAS,TX     HOUSTON,TX    NEW YORK,NY \n",
       "       4273606        4569952        4748262        7606806       11345027 \n",
       "             , \n",
       "      17299729 "
      ]
     },
     "metadata": {},
     "output_type": "display_data"
    }
   ],
   "source": [
    "# calling the variable newCol into the main function\n",
    "tail(sort(tapply(myDF$TRANSACTION_AMT, newCol, sum), n = 20))"
   ]
  },
  {
   "cell_type": "markdown",
   "id": "88c9cdac-3e92-498f-83fa-e089bfc44ac8",
   "metadata": {},
   "source": [
    "## Question 5"
   ]
  },
  {
   "cell_type": "code",
   "execution_count": 4,
   "id": "d370d7c9-06db-42b9-b75f-240481a5c491",
   "metadata": {},
   "outputs": [
    {
     "data": {
      "text/html": [
       "<table class=\"dataframe\">\n",
       "<caption>A data.table: 6 x 29</caption>\n",
       "<thead>\n",
       "\t<tr><th scope=col>Year</th><th scope=col>Month</th><th scope=col>DayofMonth</th><th scope=col>DayOfWeek</th><th scope=col>DepTime</th><th scope=col>CRSDepTime</th><th scope=col>ArrTime</th><th scope=col>CRSArrTime</th><th scope=col>UniqueCarrier</th><th scope=col>FlightNum</th><th scope=col>...</th><th scope=col>TaxiIn</th><th scope=col>TaxiOut</th><th scope=col>Cancelled</th><th scope=col>CancellationCode</th><th scope=col>Diverted</th><th scope=col>CarrierDelay</th><th scope=col>WeatherDelay</th><th scope=col>NASDelay</th><th scope=col>SecurityDelay</th><th scope=col>LateAircraftDelay</th></tr>\n",
       "\t<tr><th scope=col>&lt;int&gt;</th><th scope=col>&lt;int&gt;</th><th scope=col>&lt;int&gt;</th><th scope=col>&lt;int&gt;</th><th scope=col>&lt;int&gt;</th><th scope=col>&lt;int&gt;</th><th scope=col>&lt;int&gt;</th><th scope=col>&lt;int&gt;</th><th scope=col>&lt;chr&gt;</th><th scope=col>&lt;int&gt;</th><th scope=col>...</th><th scope=col>&lt;lgl&gt;</th><th scope=col>&lt;lgl&gt;</th><th scope=col>&lt;int&gt;</th><th scope=col>&lt;lgl&gt;</th><th scope=col>&lt;int&gt;</th><th scope=col>&lt;lgl&gt;</th><th scope=col>&lt;lgl&gt;</th><th scope=col>&lt;lgl&gt;</th><th scope=col>&lt;lgl&gt;</th><th scope=col>&lt;lgl&gt;</th></tr>\n",
       "</thead>\n",
       "<tbody>\n",
       "\t<tr><td>1990</td><td>1</td><td>3</td><td>3</td><td>1707</td><td>1630</td><td>1755</td><td>1723</td><td>US</td><td>29</td><td>...</td><td>NA</td><td>NA</td><td>0</td><td>NA</td><td>0</td><td>NA</td><td>NA</td><td>NA</td><td>NA</td><td>NA</td></tr>\n",
       "\t<tr><td>1990</td><td>1</td><td>4</td><td>4</td><td>1706</td><td>1630</td><td>1807</td><td>1723</td><td>US</td><td>29</td><td>...</td><td>NA</td><td>NA</td><td>0</td><td>NA</td><td>0</td><td>NA</td><td>NA</td><td>NA</td><td>NA</td><td>NA</td></tr>\n",
       "\t<tr><td>1990</td><td>1</td><td>5</td><td>5</td><td>1629</td><td>1630</td><td>1715</td><td>1723</td><td>US</td><td>29</td><td>...</td><td>NA</td><td>NA</td><td>0</td><td>NA</td><td>0</td><td>NA</td><td>NA</td><td>NA</td><td>NA</td><td>NA</td></tr>\n",
       "\t<tr><td>1990</td><td>1</td><td>6</td><td>6</td><td>1633</td><td>1630</td><td>1718</td><td>1723</td><td>US</td><td>29</td><td>...</td><td>NA</td><td>NA</td><td>0</td><td>NA</td><td>0</td><td>NA</td><td>NA</td><td>NA</td><td>NA</td><td>NA</td></tr>\n",
       "\t<tr><td>1990</td><td>1</td><td>8</td><td>1</td><td>1630</td><td>1630</td><td>1726</td><td>1723</td><td>US</td><td>29</td><td>...</td><td>NA</td><td>NA</td><td>0</td><td>NA</td><td>0</td><td>NA</td><td>NA</td><td>NA</td><td>NA</td><td>NA</td></tr>\n",
       "\t<tr><td>1990</td><td>1</td><td>9</td><td>2</td><td>1734</td><td>1630</td><td>1818</td><td>1723</td><td>US</td><td>29</td><td>...</td><td>NA</td><td>NA</td><td>0</td><td>NA</td><td>0</td><td>NA</td><td>NA</td><td>NA</td><td>NA</td><td>NA</td></tr>\n",
       "</tbody>\n",
       "</table>\n"
      ],
      "text/latex": [
       "A data.table: 6 x 29\n",
       "\\begin{tabular}{lllllllllllllllllllll}\n",
       " Year & Month & DayofMonth & DayOfWeek & DepTime & CRSDepTime & ArrTime & CRSArrTime & UniqueCarrier & FlightNum & ... & TaxiIn & TaxiOut & Cancelled & CancellationCode & Diverted & CarrierDelay & WeatherDelay & NASDelay & SecurityDelay & LateAircraftDelay\\\\\n",
       " <int> & <int> & <int> & <int> & <int> & <int> & <int> & <int> & <chr> & <int> & ... & <lgl> & <lgl> & <int> & <lgl> & <int> & <lgl> & <lgl> & <lgl> & <lgl> & <lgl>\\\\\n",
       "\\hline\n",
       "\t 1990 & 1 & 3 & 3 & 1707 & 1630 & 1755 & 1723 & US & 29 & ... & NA & NA & 0 & NA & 0 & NA & NA & NA & NA & NA\\\\\n",
       "\t 1990 & 1 & 4 & 4 & 1706 & 1630 & 1807 & 1723 & US & 29 & ... & NA & NA & 0 & NA & 0 & NA & NA & NA & NA & NA\\\\\n",
       "\t 1990 & 1 & 5 & 5 & 1629 & 1630 & 1715 & 1723 & US & 29 & ... & NA & NA & 0 & NA & 0 & NA & NA & NA & NA & NA\\\\\n",
       "\t 1990 & 1 & 6 & 6 & 1633 & 1630 & 1718 & 1723 & US & 29 & ... & NA & NA & 0 & NA & 0 & NA & NA & NA & NA & NA\\\\\n",
       "\t 1990 & 1 & 8 & 1 & 1630 & 1630 & 1726 & 1723 & US & 29 & ... & NA & NA & 0 & NA & 0 & NA & NA & NA & NA & NA\\\\\n",
       "\t 1990 & 1 & 9 & 2 & 1734 & 1630 & 1818 & 1723 & US & 29 & ... & NA & NA & 0 & NA & 0 & NA & NA & NA & NA & NA\\\\\n",
       "\\end{tabular}\n"
      ],
      "text/markdown": [
       "\n",
       "A data.table: 6 x 29\n",
       "\n",
       "| Year &lt;int&gt; | Month &lt;int&gt; | DayofMonth &lt;int&gt; | DayOfWeek &lt;int&gt; | DepTime &lt;int&gt; | CRSDepTime &lt;int&gt; | ArrTime &lt;int&gt; | CRSArrTime &lt;int&gt; | UniqueCarrier &lt;chr&gt; | FlightNum &lt;int&gt; | ... ... | TaxiIn &lt;lgl&gt; | TaxiOut &lt;lgl&gt; | Cancelled &lt;int&gt; | CancellationCode &lt;lgl&gt; | Diverted &lt;int&gt; | CarrierDelay &lt;lgl&gt; | WeatherDelay &lt;lgl&gt; | NASDelay &lt;lgl&gt; | SecurityDelay &lt;lgl&gt; | LateAircraftDelay &lt;lgl&gt; |\n",
       "|---|---|---|---|---|---|---|---|---|---|---|---|---|---|---|---|---|---|---|---|---|\n",
       "| 1990 | 1 | 3 | 3 | 1707 | 1630 | 1755 | 1723 | US | 29 | ... | NA | NA | 0 | NA | 0 | NA | NA | NA | NA | NA |\n",
       "| 1990 | 1 | 4 | 4 | 1706 | 1630 | 1807 | 1723 | US | 29 | ... | NA | NA | 0 | NA | 0 | NA | NA | NA | NA | NA |\n",
       "| 1990 | 1 | 5 | 5 | 1629 | 1630 | 1715 | 1723 | US | 29 | ... | NA | NA | 0 | NA | 0 | NA | NA | NA | NA | NA |\n",
       "| 1990 | 1 | 6 | 6 | 1633 | 1630 | 1718 | 1723 | US | 29 | ... | NA | NA | 0 | NA | 0 | NA | NA | NA | NA | NA |\n",
       "| 1990 | 1 | 8 | 1 | 1630 | 1630 | 1726 | 1723 | US | 29 | ... | NA | NA | 0 | NA | 0 | NA | NA | NA | NA | NA |\n",
       "| 1990 | 1 | 9 | 2 | 1734 | 1630 | 1818 | 1723 | US | 29 | ... | NA | NA | 0 | NA | 0 | NA | NA | NA | NA | NA |\n",
       "\n"
      ],
      "text/plain": [
       "  Year Month DayofMonth DayOfWeek DepTime CRSDepTime ArrTime CRSArrTime\n",
       "1 1990 1     3          3         1707    1630       1755    1723      \n",
       "2 1990 1     4          4         1706    1630       1807    1723      \n",
       "3 1990 1     5          5         1629    1630       1715    1723      \n",
       "4 1990 1     6          6         1633    1630       1718    1723      \n",
       "5 1990 1     8          1         1630    1630       1726    1723      \n",
       "6 1990 1     9          2         1734    1630       1818    1723      \n",
       "  UniqueCarrier FlightNum ... TaxiIn TaxiOut Cancelled CancellationCode\n",
       "1 US            29        ... NA     NA      0         NA              \n",
       "2 US            29        ... NA     NA      0         NA              \n",
       "3 US            29        ... NA     NA      0         NA              \n",
       "4 US            29        ... NA     NA      0         NA              \n",
       "5 US            29        ... NA     NA      0         NA              \n",
       "6 US            29        ... NA     NA      0         NA              \n",
       "  Diverted CarrierDelay WeatherDelay NASDelay SecurityDelay LateAircraftDelay\n",
       "1 0        NA           NA           NA       NA            NA               \n",
       "2 0        NA           NA           NA       NA            NA               \n",
       "3 0        NA           NA           NA       NA            NA               \n",
       "4 0        NA           NA           NA       NA            NA               \n",
       "5 0        NA           NA           NA       NA            NA               \n",
       "6 0        NA           NA           NA       NA            NA               "
      ]
     },
     "metadata": {},
     "output_type": "display_data"
    }
   ],
   "source": [
    "# code here\n",
    "myDF <- fread(\"/anvil/projects/tdm/data/flights/subset/1990.csv\")\n",
    "head(myDF)"
   ]
  },
  {
   "cell_type": "code",
   "execution_count": 7,
   "id": "bfd32ef7-4923-4a3a-9be7-2a89169ea842",
   "metadata": {},
   "outputs": [
    {
     "data": {
      "text/html": [
       "<style>\n",
       ".dl-inline {width: auto; margin:0; padding: 0}\n",
       ".dl-inline>dt, .dl-inline>dd {float: none; width: auto; display: inline-block}\n",
       ".dl-inline>dt::after {content: \":\\0020\"; padding-right: .5ex}\n",
       ".dl-inline>dt:not(:first-of-type) {padding-left: .5ex}\n",
       "</style><dl class=dl-inline><dt>12/20/1990</dt><dd>27.3454025394168</dd><dt>2/15/1990</dt><dd>28.1230233789816</dd><dt>2/16/1990</dt><dd>36.1942212722046</dd><dt>12/28/1990</dt><dd>43.9144315757391</dd><dt>12/22/1990</dt><dd>45.2222488995598</dd><dt>12/21/1990</dt><dd>45.6617816091954</dd></dl>\n"
      ],
      "text/latex": [
       "\\begin{description*}\n",
       "\\item[12/20/1990] 27.3454025394168\n",
       "\\item[2/15/1990] 28.1230233789816\n",
       "\\item[2/16/1990] 36.1942212722046\n",
       "\\item[12/28/1990] 43.9144315757391\n",
       "\\item[12/22/1990] 45.2222488995598\n",
       "\\item[12/21/1990] 45.6617816091954\n",
       "\\end{description*}\n"
      ],
      "text/markdown": [
       "12/20/1990\n",
       ":   27.34540253941682/15/1990\n",
       ":   28.12302337898162/16/1990\n",
       ":   36.194221272204612/28/1990\n",
       ":   43.914431575739112/22/1990\n",
       ":   45.222248899559812/21/1990\n",
       ":   45.6617816091954\n",
       "\n"
      ],
      "text/plain": [
       "12/20/1990  2/15/1990  2/16/1990 12/28/1990 12/22/1990 12/21/1990 \n",
       "  27.34540   28.12302   36.19422   43.91443   45.22225   45.66178 "
      ]
     },
     "metadata": {},
     "output_type": "display_data"
    }
   ],
   "source": [
    "# finding the mean departure delays on each month/dayofmonth/year triple\n",
    "tail(sort(tapply(myDF$DepDelay,paste(myDF$Month,myDF$DayofMonth, myDF$Year, sep = \"/\"),mean, na.rm=TRUE)), 6)"
   ]
  },
  {
   "cell_type": "markdown",
   "id": "9fbf00fb-2418-460f-ae94-2a32b0c28952",
   "metadata": {},
   "source": [
    "Markdown notes and sentences and analysis written here."
   ]
  },
  {
   "cell_type": "markdown",
   "id": "f76442d6-d02e-4f26-b9d6-c3183e1d6929",
   "metadata": {},
   "source": [
    "## Pledge\n",
    "\n",
    "By submitting this work I hereby pledge that this is my own, personal work. I've acknowledged in the designated place at the top of this file all sources that I used to complete said work, including but not limited to: online resources, books, and electronic communications. I've noted all collaboration with fellow students and/or TA's. I did not copy or plagiarize another's work.\n",
    "\n",
    "> As a Boilermaker pursuing academic excellence, I pledge to be honest and true in all that I do. Accountable together – We are Purdue."
   ]
  }
 ],
 "metadata": {
  "kernelspec": {
   "display_name": "seminar-r",
   "language": "R",
   "name": "seminar-r"
  },
  "language_info": {
   "codemirror_mode": "r",
   "file_extension": ".r",
   "mimetype": "text/x-r-source",
   "name": "R",
   "pygments_lexer": "r",
   "version": "4.3.1"
  }
 },
 "nbformat": 4,
 "nbformat_minor": 5
}
