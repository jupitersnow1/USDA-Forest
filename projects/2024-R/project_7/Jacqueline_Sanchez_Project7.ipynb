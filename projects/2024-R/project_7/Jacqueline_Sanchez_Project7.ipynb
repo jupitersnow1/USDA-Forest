{
 "cells": [
  {
   "cell_type": "markdown",
   "id": "be02a957-7133-4d02-818e-fedeb3cecb05",
   "metadata": {},
   "source": [
    "# Project 7 -- Jacqueline Sanchez"
   ]
  },
  {
   "cell_type": "markdown",
   "id": "a1228853-dd19-4ab2-89e0-0394d7d72de3",
   "metadata": {},
   "source": [
    "**TA Help:** N/A\n",
    "\n",
    "- \n",
    "    \n",
    "**Collaboration:** N/A\n",
    "    \n",
    "- \n",
    "- "
   ]
  },
  {
   "cell_type": "markdown",
   "id": "6180e742-8e39-4698-98ff-5b00c8cf8ea0",
   "metadata": {},
   "source": [
    "## Question 1"
   ]
  },
  {
   "cell_type": "code",
   "execution_count": 1,
   "id": "04f3db4f-eeed-46ab-baab-2dcddebf00c9",
   "metadata": {},
   "outputs": [
    {
     "data": {
      "text/html": [
       "<table class=\"dataframe\">\n",
       "<caption>A data.table: 2 x 38</caption>\n",
       "<thead>\n",
       "\t<tr><th scope=col>Id</th><th scope=col>ResidentStatus</th><th scope=col>Education1989Revision</th><th scope=col>Education2003Revision</th><th scope=col>EducationReportingFlag</th><th scope=col>MonthOfDeath</th><th scope=col>Sex</th><th scope=col>AgeType</th><th scope=col>Age</th><th scope=col>AgeSubstitutionFlag</th><th scope=col>...</th><th scope=col>CauseRecode39</th><th scope=col>NumberOfEntityAxisConditions</th><th scope=col>NumberOfRecordAxisConditions</th><th scope=col>Race</th><th scope=col>BridgedRaceFlag</th><th scope=col>RaceImputationFlag</th><th scope=col>RaceRecode3</th><th scope=col>RaceRecode5</th><th scope=col>HispanicOrigin</th><th scope=col>HispanicOriginRaceRecode</th></tr>\n",
       "\t<tr><th scope=col>&lt;int&gt;</th><th scope=col>&lt;int&gt;</th><th scope=col>&lt;int&gt;</th><th scope=col>&lt;int&gt;</th><th scope=col>&lt;int&gt;</th><th scope=col>&lt;int&gt;</th><th scope=col>&lt;chr&gt;</th><th scope=col>&lt;int&gt;</th><th scope=col>&lt;int&gt;</th><th scope=col>&lt;int&gt;</th><th scope=col>...</th><th scope=col>&lt;int&gt;</th><th scope=col>&lt;int&gt;</th><th scope=col>&lt;int&gt;</th><th scope=col>&lt;int&gt;</th><th scope=col>&lt;int&gt;</th><th scope=col>&lt;int&gt;</th><th scope=col>&lt;int&gt;</th><th scope=col>&lt;int&gt;</th><th scope=col>&lt;int&gt;</th><th scope=col>&lt;int&gt;</th></tr>\n",
       "</thead>\n",
       "<tbody>\n",
       "\t<tr><td>1</td><td>1</td><td>0</td><td>2</td><td>1</td><td>1</td><td>M</td><td>1</td><td>87</td><td>0</td><td>...</td><td>24</td><td>1</td><td>1</td><td>1</td><td>0</td><td>0</td><td>1</td><td>1</td><td>100</td><td>6</td></tr>\n",
       "\t<tr><td>2</td><td>1</td><td>0</td><td>2</td><td>1</td><td>1</td><td>M</td><td>1</td><td>58</td><td>0</td><td>...</td><td>21</td><td>3</td><td>3</td><td>1</td><td>0</td><td>0</td><td>1</td><td>1</td><td>100</td><td>6</td></tr>\n",
       "</tbody>\n",
       "</table>\n"
      ],
      "text/latex": [
       "A data.table: 2 x 38\n",
       "\\begin{tabular}{lllllllllllllllllllll}\n",
       " Id & ResidentStatus & Education1989Revision & Education2003Revision & EducationReportingFlag & MonthOfDeath & Sex & AgeType & Age & AgeSubstitutionFlag & ... & CauseRecode39 & NumberOfEntityAxisConditions & NumberOfRecordAxisConditions & Race & BridgedRaceFlag & RaceImputationFlag & RaceRecode3 & RaceRecode5 & HispanicOrigin & HispanicOriginRaceRecode\\\\\n",
       " <int> & <int> & <int> & <int> & <int> & <int> & <chr> & <int> & <int> & <int> & ... & <int> & <int> & <int> & <int> & <int> & <int> & <int> & <int> & <int> & <int>\\\\\n",
       "\\hline\n",
       "\t 1 & 1 & 0 & 2 & 1 & 1 & M & 1 & 87 & 0 & ... & 24 & 1 & 1 & 1 & 0 & 0 & 1 & 1 & 100 & 6\\\\\n",
       "\t 2 & 1 & 0 & 2 & 1 & 1 & M & 1 & 58 & 0 & ... & 21 & 3 & 3 & 1 & 0 & 0 & 1 & 1 & 100 & 6\\\\\n",
       "\\end{tabular}\n"
      ],
      "text/markdown": [
       "\n",
       "A data.table: 2 x 38\n",
       "\n",
       "| Id &lt;int&gt; | ResidentStatus &lt;int&gt; | Education1989Revision &lt;int&gt; | Education2003Revision &lt;int&gt; | EducationReportingFlag &lt;int&gt; | MonthOfDeath &lt;int&gt; | Sex &lt;chr&gt; | AgeType &lt;int&gt; | Age &lt;int&gt; | AgeSubstitutionFlag &lt;int&gt; | ... ... | CauseRecode39 &lt;int&gt; | NumberOfEntityAxisConditions &lt;int&gt; | NumberOfRecordAxisConditions &lt;int&gt; | Race &lt;int&gt; | BridgedRaceFlag &lt;int&gt; | RaceImputationFlag &lt;int&gt; | RaceRecode3 &lt;int&gt; | RaceRecode5 &lt;int&gt; | HispanicOrigin &lt;int&gt; | HispanicOriginRaceRecode &lt;int&gt; |\n",
       "|---|---|---|---|---|---|---|---|---|---|---|---|---|---|---|---|---|---|---|---|---|\n",
       "| 1 | 1 | 0 | 2 | 1 | 1 | M | 1 | 87 | 0 | ... | 24 | 1 | 1 | 1 | 0 | 0 | 1 | 1 | 100 | 6 |\n",
       "| 2 | 1 | 0 | 2 | 1 | 1 | M | 1 | 58 | 0 | ... | 21 | 3 | 3 | 1 | 0 | 0 | 1 | 1 | 100 | 6 |\n",
       "\n"
      ],
      "text/plain": [
       "  Id ResidentStatus Education1989Revision Education2003Revision\n",
       "1 1  1              0                     2                    \n",
       "2 2  1              0                     2                    \n",
       "  EducationReportingFlag MonthOfDeath Sex AgeType Age AgeSubstitutionFlag ...\n",
       "1 1                      1            M   1       87  0                   ...\n",
       "2 1                      1            M   1       58  0                   ...\n",
       "  CauseRecode39 NumberOfEntityAxisConditions NumberOfRecordAxisConditions Race\n",
       "1 24            1                            1                            1   \n",
       "2 21            3                            3                            1   \n",
       "  BridgedRaceFlag RaceImputationFlag RaceRecode3 RaceRecode5 HispanicOrigin\n",
       "1 0               0                  1           1           100           \n",
       "2 0               0                  1           1           100           \n",
       "  HispanicOriginRaceRecode\n",
       "1 6                       \n",
       "2 6                       "
      ]
     },
     "metadata": {},
     "output_type": "display_data"
    }
   ],
   "source": [
    "# code here\n",
    "# reading my data\n",
    "library(data.table)\n",
    "myDF <- fread(\"/anvil/projects/tdm/data/death_records/DeathRecords.csv\") \n",
    "head(myDF, 2)"
   ]
  },
  {
   "cell_type": "code",
   "execution_count": 2,
   "id": "35128079-0393-4160-8518-168296fe75dc",
   "metadata": {},
   "outputs": [
    {
     "data": {
      "text/plain": [
       "\n",
       "  (0,18]  (18,25]  (25,35]  (35,55] (55,100] \n",
       "   36033    27691    49540   271181  2229384 "
      ]
     },
     "metadata": {},
     "output_type": "display_data"
    }
   ],
   "source": [
    "# (a) using the `cut` command to classify people into a table\n",
    "table(cut(myDF$Age, breaks = c(0, 18, 25, 35, 55, 100)))\n"
   ]
  },
  {
   "cell_type": "code",
   "execution_count": 3,
   "id": "88487ae4-b740-4e76-a1ef-32f5cb08d11a",
   "metadata": {},
   "outputs": [
    {
     "data": {
      "text/plain": [
       "\n",
       "  (0,18]  (18,25]  (25,35]  (35,55] (55,Inf]     <NA> \n",
       "   36033    27691    49540   271181  2246726        0 "
      ]
     },
     "metadata": {},
     "output_type": "display_data"
    }
   ],
   "source": [
    "# (b) using option useNA = \"always\" to find out how many people's ages were unknown at the time of their death. \n",
    "table(cut(myDF$Age, breaks = c(0, 18, 25, 35, 55, Inf)), useNA = \"always\")"
   ]
  },
  {
   "cell_type": "code",
   "execution_count": 4,
   "id": "3f690858-aab2-4a05-a24a-f60d2c693a4d",
   "metadata": {},
   "outputs": [
    {
     "data": {
      "text/plain": [
       "\n",
       "           youth      young adult            adult middle age adult \n",
       "           36033            27691            49540           271181 \n",
       "    senior adult             <NA> \n",
       "         2229384            17342 "
      ]
     },
     "metadata": {},
     "output_type": "display_data"
    }
   ],
   "source": [
    "# (c) adding labels\n",
    "table(cut(myDF$Age, breaks = c(0, 18, 25, 35, 55, 100), labels = c(\"youth\", \"young adult\", \"adult\", \"middle age adult\", \"senior adult\")),useNA = \"always\")"
   ]
  },
  {
   "cell_type": "code",
   "execution_count": 5,
   "id": "8b01cccb-e201-49d7-bfb2-98af697a7840",
   "metadata": {},
   "outputs": [
    {
     "data": {
      "image/png": "[encoded data removed]",
      "text/plain": [
       "plot without title"
      ]
     },
     "metadata": {
      "image/png": {
       "height": 420,
       "width": 420
      }
     },
     "output_type": "display_data"
    }
   ],
   "source": [
    "# (d) Wrapping the table into a barplot\n",
    "plot(table(cut(myDF$Age, breaks = c(0, 18, 25, 35, 55, 100), labels = c(\"youth\", \"young adult\", \"adult\", \"middle age adult\", \"senior adult\")),useNA = \"always\"))"
   ]
  },
  {
   "cell_type": "markdown",
   "id": "b456e57c-4a12-464b-999a-ef2df5af80c1",
   "metadata": {},
   "source": [
    "Markdown notes and sentences and analysis written here."
   ]
  },
  {
   "cell_type": "markdown",
   "id": "fc601975-35ed-4680-a4e1-0273ee3cc047",
   "metadata": {},
   "source": [
    "## Question 2"
   ]
  },
  {
   "cell_type": "code",
   "execution_count": 6,
   "id": "a16336a1-1ef0-41e8-bc7c-49387db27497",
   "metadata": {},
   "outputs": [
    {
     "data": {
      "text/html": [
       "<table class=\"dataframe\">\n",
       "<caption>A data.table: 6 x 9</caption>\n",
       "<thead>\n",
       "\t<tr><th scope=col>BASKET_NUM</th><th scope=col>HSHD_NUM</th><th scope=col>PURCHASE_</th><th scope=col>PRODUCT_NUM</th><th scope=col>SPEND</th><th scope=col>UNITS</th><th scope=col>STORE_R</th><th scope=col>WEEK_NUM</th><th scope=col>YEAR</th></tr>\n",
       "\t<tr><th scope=col>&lt;int&gt;</th><th scope=col>&lt;int&gt;</th><th scope=col>&lt;chr&gt;</th><th scope=col>&lt;int&gt;</th><th scope=col>&lt;dbl&gt;</th><th scope=col>&lt;int&gt;</th><th scope=col>&lt;chr&gt;</th><th scope=col>&lt;int&gt;</th><th scope=col>&lt;int&gt;</th></tr>\n",
       "</thead>\n",
       "<tbody>\n",
       "\t<tr><td> 24</td><td>1809</td><td>03-JAN-16</td><td>5817389</td><td>-1.50</td><td>-1</td><td>SOUTH</td><td>1</td><td>2016</td></tr>\n",
       "\t<tr><td> 24</td><td>1809</td><td>03-JAN-16</td><td>5829886</td><td>-1.50</td><td>-1</td><td>SOUTH</td><td>1</td><td>2016</td></tr>\n",
       "\t<tr><td> 34</td><td>1253</td><td>03-JAN-16</td><td> 539501</td><td> 2.19</td><td> 1</td><td>EAST </td><td>1</td><td>2016</td></tr>\n",
       "\t<tr><td> 60</td><td>1595</td><td>03-JAN-16</td><td>5260099</td><td> 0.99</td><td> 1</td><td>WEST </td><td>1</td><td>2016</td></tr>\n",
       "\t<tr><td> 60</td><td>1595</td><td>03-JAN-16</td><td>4535660</td><td> 2.50</td><td> 2</td><td>WEST </td><td>1</td><td>2016</td></tr>\n",
       "\t<tr><td>168</td><td>3393</td><td>03-JAN-16</td><td>5602916</td><td> 4.50</td><td> 1</td><td>SOUTH</td><td>1</td><td>2016</td></tr>\n",
       "</tbody>\n",
       "</table>\n"
      ],
      "text/latex": [
       "A data.table: 6 x 9\n",
       "\\begin{tabular}{lllllllll}\n",
       " BASKET\\_NUM & HSHD\\_NUM & PURCHASE\\_ & PRODUCT\\_NUM & SPEND & UNITS & STORE\\_R & WEEK\\_NUM & YEAR\\\\\n",
       " <int> & <int> & <chr> & <int> & <dbl> & <int> & <chr> & <int> & <int>\\\\\n",
       "\\hline\n",
       "\t  24 & 1809 & 03-JAN-16 & 5817389 & -1.50 & -1 & SOUTH & 1 & 2016\\\\\n",
       "\t  24 & 1809 & 03-JAN-16 & 5829886 & -1.50 & -1 & SOUTH & 1 & 2016\\\\\n",
       "\t  34 & 1253 & 03-JAN-16 &  539501 &  2.19 &  1 & EAST  & 1 & 2016\\\\\n",
       "\t  60 & 1595 & 03-JAN-16 & 5260099 &  0.99 &  1 & WEST  & 1 & 2016\\\\\n",
       "\t  60 & 1595 & 03-JAN-16 & 4535660 &  2.50 &  2 & WEST  & 1 & 2016\\\\\n",
       "\t 168 & 3393 & 03-JAN-16 & 5602916 &  4.50 &  1 & SOUTH & 1 & 2016\\\\\n",
       "\\end{tabular}\n"
      ],
      "text/markdown": [
       "\n",
       "A data.table: 6 x 9\n",
       "\n",
       "| BASKET_NUM &lt;int&gt; | HSHD_NUM &lt;int&gt; | PURCHASE_ &lt;chr&gt; | PRODUCT_NUM &lt;int&gt; | SPEND &lt;dbl&gt; | UNITS &lt;int&gt; | STORE_R &lt;chr&gt; | WEEK_NUM &lt;int&gt; | YEAR &lt;int&gt; |\n",
       "|---|---|---|---|---|---|---|---|---|\n",
       "|  24 | 1809 | 03-JAN-16 | 5817389 | -1.50 | -1 | SOUTH | 1 | 2016 |\n",
       "|  24 | 1809 | 03-JAN-16 | 5829886 | -1.50 | -1 | SOUTH | 1 | 2016 |\n",
       "|  34 | 1253 | 03-JAN-16 |  539501 |  2.19 |  1 | EAST  | 1 | 2016 |\n",
       "|  60 | 1595 | 03-JAN-16 | 5260099 |  0.99 |  1 | WEST  | 1 | 2016 |\n",
       "|  60 | 1595 | 03-JAN-16 | 4535660 |  2.50 |  2 | WEST  | 1 | 2016 |\n",
       "| 168 | 3393 | 03-JAN-16 | 5602916 |  4.50 |  1 | SOUTH | 1 | 2016 |\n",
       "\n"
      ],
      "text/plain": [
       "  BASKET_NUM HSHD_NUM PURCHASE_ PRODUCT_NUM SPEND UNITS STORE_R WEEK_NUM YEAR\n",
       "1  24        1809     03-JAN-16 5817389     -1.50 -1    SOUTH   1        2016\n",
       "2  24        1809     03-JAN-16 5829886     -1.50 -1    SOUTH   1        2016\n",
       "3  34        1253     03-JAN-16  539501      2.19  1    EAST    1        2016\n",
       "4  60        1595     03-JAN-16 5260099      0.99  1    WEST    1        2016\n",
       "5  60        1595     03-JAN-16 4535660      2.50  2    WEST    1        2016\n",
       "6 168        3393     03-JAN-16 5602916      4.50  1    SOUTH   1        2016"
      ]
     },
     "metadata": {},
     "output_type": "display_data"
    }
   ],
   "source": [
    "# code here\n",
    "myDF <- fread(\"/anvil/projects/tdm/data/8451/The_Complete_Journey_2_Master/5000_transactions.csv\")\n",
    "head(myDF)"
   ]
  },
  {
   "cell_type": "code",
   "execution_count": 7,
   "id": "22b20ada-b865-4fa0-bacc-45f148d9b23a",
   "metadata": {},
   "outputs": [
    {
     "name": "stdout",
     "output_type": "stream",
     "text": [
      "     CENTRAL    EAST   SOUTH    WEST\n",
      "2016 4471801 5829166 3996751 4754003\n",
      "2017 4425505 5870281 3961170 4926104\n"
     ]
    }
   ],
   "source": [
    "#  create a logical vector for years 2016 and 2017\n",
    "year_filter <- (myDF$YEAR == 2016) | (myDF$YEAR == 2017)\n",
    "\n",
    "# data for valid stores\n",
    "store_filter <- (myDF$STORE_R == \"CENTRAL\") | \n",
    "                (myDF$STORE_R == \"EAST\") | \n",
    "                (myDF$STORE_R == \"SOUTH\") | \n",
    "                (myDF$STORE_R == \"WEST\")\n",
    "\n",
    "# tapply to sum SPEND for the filtered years and stores\n",
    "result <- tapply(myDF$SPEND[year_filter & store_filter], \n",
    "                 list(myDF$YEAR[year_filter & store_filter], myDF$STORE_R[year_filter & store_filter]), \n",
    "                 sum)\n",
    "print(result)"
   ]
  },
  {
   "cell_type": "markdown",
   "id": "14dc22d4-ddc3-41cc-a91a-cb0025bc0c80",
   "metadata": {},
   "source": [
    "Markdown notes and sentences and analysis written here."
   ]
  },
  {
   "cell_type": "markdown",
   "id": "8e586edd-ff26-4ce2-8f6b-2424b26f2929",
   "metadata": {},
   "source": [
    "## Question 3"
   ]
  },
  {
   "cell_type": "code",
   "execution_count": 8,
   "id": "a6a1e7bf-4f52-4dd7-9a05-0549b8bb24a8",
   "metadata": {},
   "outputs": [],
   "source": [
    "myDF <- fread(\"/anvil/projects/tdm/data/beer/reviews_sample.csv\")\n",
    "# head(myDF, 1)"
   ]
  },
  {
   "cell_type": "code",
   "execution_count": 9,
   "id": "7250bea3-f2e9-4f07-ab8a-839ef27075df",
   "metadata": {},
   "outputs": [],
   "source": [
    "# month_filter <- table(month(myDF$date))"
   ]
  },
  {
   "cell_type": "code",
   "execution_count": 10,
   "id": "06da2834-c5d3-431c-9ba7-4d8b4f5882ae",
   "metadata": {},
   "outputs": [],
   "source": [
    "# year_filter <- table(year(myDF$date))"
   ]
  },
  {
   "cell_type": "code",
   "execution_count": 11,
   "id": "4e196236-e09f-4ead-abcb-5e45ba820b53",
   "metadata": {},
   "outputs": [
    {
     "data": {
      "text/html": [
       "<table class=\"dataframe\">\n",
       "<caption>A matrix: 21 x 12 of type dbl</caption>\n",
       "<thead>\n",
       "\t<tr><th></th><th scope=col>1</th><th scope=col>2</th><th scope=col>3</th><th scope=col>4</th><th scope=col>5</th><th scope=col>6</th><th scope=col>7</th><th scope=col>8</th><th scope=col>9</th><th scope=col>10</th><th scope=col>11</th><th scope=col>12</th></tr>\n",
       "</thead>\n",
       "<tbody>\n",
       "\t<tr><th scope=row>1998</th><td>3.770000</td><td>3.396667</td><td>4.092000</td><td>3.840000</td><td>3.702000</td><td>4.700000</td><td>3.100000</td><td>3.823333</td><td>3.355000</td><td>3.910000</td><td>      NA</td><td>3.930000</td></tr>\n",
       "\t<tr><th scope=row>1999</th><td>      NA</td><td>3.613333</td><td>      NA</td><td>      NA</td><td>3.820000</td><td>3.850000</td><td>3.880000</td><td>      NA</td><td>      NA</td><td>3.500000</td><td>3.880000</td><td>4.000000</td></tr>\n",
       "\t<tr><th scope=row>2000</th><td>      NA</td><td>4.300000</td><td>      NA</td><td>3.880000</td><td>      NA</td><td>4.470000</td><td>3.995000</td><td>      NA</td><td>3.885000</td><td>3.880000</td><td>4.670000</td><td>3.400000</td></tr>\n",
       "\t<tr><th scope=row>2001</th><td>4.220000</td><td>4.488000</td><td>4.403333</td><td>3.053333</td><td>      NA</td><td>4.012000</td><td>4.080000</td><td>3.905455</td><td>4.010556</td><td>3.948000</td><td>4.112069</td><td>3.851053</td></tr>\n",
       "\t<tr><th scope=row>2002</th><td>4.246667</td><td>3.706000</td><td>3.933846</td><td>3.831224</td><td>3.887788</td><td>3.782655</td><td>3.950776</td><td>3.628201</td><td>3.798758</td><td>3.784247</td><td>3.885028</td><td>3.832537</td></tr>\n",
       "\t<tr><th scope=row>2003</th><td>3.842596</td><td>3.921875</td><td>3.840573</td><td>3.929500</td><td>3.895977</td><td>3.768022</td><td>3.742609</td><td>3.710635</td><td>3.761452</td><td>3.771104</td><td>3.790879</td><td>3.802826</td></tr>\n",
       "\t<tr><th scope=row>2004</th><td>3.892104</td><td>3.822910</td><td>3.757987</td><td>3.825360</td><td>3.826656</td><td>3.798576</td><td>3.816569</td><td>3.861793</td><td>3.802122</td><td>3.784444</td><td>3.741100</td><td>3.843094</td></tr>\n",
       "\t<tr><th scope=row>2005</th><td>3.872065</td><td>3.805870</td><td>3.884944</td><td>3.806607</td><td>3.743355</td><td>3.859615</td><td>3.769045</td><td>3.784184</td><td>3.795644</td><td>3.782152</td><td>3.855852</td><td>3.860837</td></tr>\n",
       "\t<tr><th scope=row>2006</th><td>3.821626</td><td>3.789613</td><td>3.803201</td><td>3.833529</td><td>3.816436</td><td>3.847766</td><td>3.799106</td><td>3.795228</td><td>3.826782</td><td>3.764831</td><td>3.802075</td><td>3.804746</td></tr>\n",
       "\t<tr><th scope=row>2007</th><td>3.796619</td><td>3.820563</td><td>3.785231</td><td>3.820230</td><td>3.768441</td><td>3.721336</td><td>3.809563</td><td>3.710408</td><td>3.769330</td><td>3.826076</td><td>3.779580</td><td>3.834992</td></tr>\n",
       "\t<tr><th scope=row>2008</th><td>3.897296</td><td>3.879322</td><td>3.825841</td><td>3.866337</td><td>3.819464</td><td>3.824667</td><td>3.833681</td><td>3.845346</td><td>3.824287</td><td>3.817620</td><td>3.841760</td><td>3.816298</td></tr>\n",
       "\t<tr><th scope=row>2009</th><td>3.868856</td><td>3.839302</td><td>3.847518</td><td>3.846370</td><td>3.892921</td><td>3.872649</td><td>3.851616</td><td>3.850718</td><td>3.809730</td><td>3.862528</td><td>3.851910</td><td>3.860305</td></tr>\n",
       "\t<tr><th scope=row>2010</th><td>3.810428</td><td>3.886246</td><td>3.884490</td><td>3.869777</td><td>3.838745</td><td>3.838772</td><td>3.806898</td><td>3.842232</td><td>3.844956</td><td>3.807355</td><td>3.844931</td><td>3.876926</td></tr>\n",
       "\t<tr><th scope=row>2011</th><td>3.861355</td><td>3.839600</td><td>3.839057</td><td>3.841564</td><td>3.844314</td><td>3.840459</td><td>3.855617</td><td>3.809778</td><td>3.799865</td><td>3.854808</td><td>4.132859</td><td>4.013434</td></tr>\n",
       "\t<tr><th scope=row>2012</th><td>3.827531</td><td>3.813721</td><td>3.842391</td><td>3.856536</td><td>3.843407</td><td>3.827998</td><td>3.843218</td><td>3.818722</td><td>3.826335</td><td>3.831577</td><td>3.869356</td><td>3.853065</td></tr>\n",
       "\t<tr><th scope=row>2013</th><td>3.930060</td><td>3.922282</td><td>3.945560</td><td>3.949689</td><td>3.945230</td><td>3.883678</td><td>3.849965</td><td>3.847642</td><td>3.822392</td><td>3.860475</td><td>3.875164</td><td>3.885565</td></tr>\n",
       "\t<tr><th scope=row>2014</th><td>3.894819</td><td>3.919469</td><td>3.923504</td><td>3.890891</td><td>3.886415</td><td>3.909815</td><td>3.872173</td><td>3.872730</td><td>3.885820</td><td>3.921727</td><td>3.933716</td><td>3.967668</td></tr>\n",
       "\t<tr><th scope=row>2015</th><td>3.997097</td><td>3.996901</td><td>4.005002</td><td>3.991280</td><td>3.984110</td><td>3.979467</td><td>3.967579</td><td>3.963439</td><td>3.967281</td><td>3.967198</td><td>3.985564</td><td>3.993312</td></tr>\n",
       "\t<tr><th scope=row>2016</th><td>3.986488</td><td>4.001558</td><td>3.987044</td><td>3.950565</td><td>3.970315</td><td>3.982854</td><td>3.987852</td><td>3.993576</td><td>4.005607</td><td>3.990623</td><td>4.007644</td><td>4.010456</td></tr>\n",
       "\t<tr><th scope=row>2017</th><td>4.011244</td><td>4.036964</td><td>4.025383</td><td>4.010692</td><td>3.986720</td><td>3.978366</td><td>3.978893</td><td>3.998201</td><td>4.005115</td><td>4.002342</td><td>4.008391</td><td>4.045614</td></tr>\n",
       "\t<tr><th scope=row>2018</th><td>4.025227</td><td>4.030995</td><td>4.013674</td><td>4.007635</td><td>3.999648</td><td>4.001002</td><td>3.948450</td><td>3.980969</td><td>3.992782</td><td>      NA</td><td>      NA</td><td>      NA</td></tr>\n",
       "</tbody>\n",
       "</table>\n"
      ],
      "text/latex": [
       "A matrix: 21 x 12 of type dbl\n",
       "\\begin{tabular}{r|llllllllllll}\n",
       "  & 1 & 2 & 3 & 4 & 5 & 6 & 7 & 8 & 9 & 10 & 11 & 12\\\\\n",
       "\\hline\n",
       "\t1998 & 3.770000 & 3.396667 & 4.092000 & 3.840000 & 3.702000 & 4.700000 & 3.100000 & 3.823333 & 3.355000 & 3.910000 &       NA & 3.930000\\\\\n",
       "\t1999 &       NA & 3.613333 &       NA &       NA & 3.820000 & 3.850000 & 3.880000 &       NA &       NA & 3.500000 & 3.880000 & 4.000000\\\\\n",
       "\t2000 &       NA & 4.300000 &       NA & 3.880000 &       NA & 4.470000 & 3.995000 &       NA & 3.885000 & 3.880000 & 4.670000 & 3.400000\\\\\n",
       "\t2001 & 4.220000 & 4.488000 & 4.403333 & 3.053333 &       NA & 4.012000 & 4.080000 & 3.905455 & 4.010556 & 3.948000 & 4.112069 & 3.851053\\\\\n",
       "\t2002 & 4.246667 & 3.706000 & 3.933846 & 3.831224 & 3.887788 & 3.782655 & 3.950776 & 3.628201 & 3.798758 & 3.784247 & 3.885028 & 3.832537\\\\\n",
       "\t2003 & 3.842596 & 3.921875 & 3.840573 & 3.929500 & 3.895977 & 3.768022 & 3.742609 & 3.710635 & 3.761452 & 3.771104 & 3.790879 & 3.802826\\\\\n",
       "\t2004 & 3.892104 & 3.822910 & 3.757987 & 3.825360 & 3.826656 & 3.798576 & 3.816569 & 3.861793 & 3.802122 & 3.784444 & 3.741100 & 3.843094\\\\\n",
       "\t2005 & 3.872065 & 3.805870 & 3.884944 & 3.806607 & 3.743355 & 3.859615 & 3.769045 & 3.784184 & 3.795644 & 3.782152 & 3.855852 & 3.860837\\\\\n",
       "\t2006 & 3.821626 & 3.789613 & 3.803201 & 3.833529 & 3.816436 & 3.847766 & 3.799106 & 3.795228 & 3.826782 & 3.764831 & 3.802075 & 3.804746\\\\\n",
       "\t2007 & 3.796619 & 3.820563 & 3.785231 & 3.820230 & 3.768441 & 3.721336 & 3.809563 & 3.710408 & 3.769330 & 3.826076 & 3.779580 & 3.834992\\\\\n",
       "\t2008 & 3.897296 & 3.879322 & 3.825841 & 3.866337 & 3.819464 & 3.824667 & 3.833681 & 3.845346 & 3.824287 & 3.817620 & 3.841760 & 3.816298\\\\\n",
       "\t2009 & 3.868856 & 3.839302 & 3.847518 & 3.846370 & 3.892921 & 3.872649 & 3.851616 & 3.850718 & 3.809730 & 3.862528 & 3.851910 & 3.860305\\\\\n",
       "\t2010 & 3.810428 & 3.886246 & 3.884490 & 3.869777 & 3.838745 & 3.838772 & 3.806898 & 3.842232 & 3.844956 & 3.807355 & 3.844931 & 3.876926\\\\\n",
       "\t2011 & 3.861355 & 3.839600 & 3.839057 & 3.841564 & 3.844314 & 3.840459 & 3.855617 & 3.809778 & 3.799865 & 3.854808 & 4.132859 & 4.013434\\\\\n",
       "\t2012 & 3.827531 & 3.813721 & 3.842391 & 3.856536 & 3.843407 & 3.827998 & 3.843218 & 3.818722 & 3.826335 & 3.831577 & 3.869356 & 3.853065\\\\\n",
       "\t2013 & 3.930060 & 3.922282 & 3.945560 & 3.949689 & 3.945230 & 3.883678 & 3.849965 & 3.847642 & 3.822392 & 3.860475 & 3.875164 & 3.885565\\\\\n",
       "\t2014 & 3.894819 & 3.919469 & 3.923504 & 3.890891 & 3.886415 & 3.909815 & 3.872173 & 3.872730 & 3.885820 & 3.921727 & 3.933716 & 3.967668\\\\\n",
       "\t2015 & 3.997097 & 3.996901 & 4.005002 & 3.991280 & 3.984110 & 3.979467 & 3.967579 & 3.963439 & 3.967281 & 3.967198 & 3.985564 & 3.993312\\\\\n",
       "\t2016 & 3.986488 & 4.001558 & 3.987044 & 3.950565 & 3.970315 & 3.982854 & 3.987852 & 3.993576 & 4.005607 & 3.990623 & 4.007644 & 4.010456\\\\\n",
       "\t2017 & 4.011244 & 4.036964 & 4.025383 & 4.010692 & 3.986720 & 3.978366 & 3.978893 & 3.998201 & 4.005115 & 4.002342 & 4.008391 & 4.045614\\\\\n",
       "\t2018 & 4.025227 & 4.030995 & 4.013674 & 4.007635 & 3.999648 & 4.001002 & 3.948450 & 3.980969 & 3.992782 &       NA &       NA &       NA\\\\\n",
       "\\end{tabular}\n"
      ],
      "text/markdown": [
       "\n",
       "A matrix: 21 x 12 of type dbl\n",
       "\n",
       "| <!--/--> | 1 | 2 | 3 | 4 | 5 | 6 | 7 | 8 | 9 | 10 | 11 | 12 |\n",
       "|---|---|---|---|---|---|---|---|---|---|---|---|---|\n",
       "| 1998 | 3.770000 | 3.396667 | 4.092000 | 3.840000 | 3.702000 | 4.700000 | 3.100000 | 3.823333 | 3.355000 | 3.910000 |       NA | 3.930000 |\n",
       "| 1999 |       NA | 3.613333 |       NA |       NA | 3.820000 | 3.850000 | 3.880000 |       NA |       NA | 3.500000 | 3.880000 | 4.000000 |\n",
       "| 2000 |       NA | 4.300000 |       NA | 3.880000 |       NA | 4.470000 | 3.995000 |       NA | 3.885000 | 3.880000 | 4.670000 | 3.400000 |\n",
       "| 2001 | 4.220000 | 4.488000 | 4.403333 | 3.053333 |       NA | 4.012000 | 4.080000 | 3.905455 | 4.010556 | 3.948000 | 4.112069 | 3.851053 |\n",
       "| 2002 | 4.246667 | 3.706000 | 3.933846 | 3.831224 | 3.887788 | 3.782655 | 3.950776 | 3.628201 | 3.798758 | 3.784247 | 3.885028 | 3.832537 |\n",
       "| 2003 | 3.842596 | 3.921875 | 3.840573 | 3.929500 | 3.895977 | 3.768022 | 3.742609 | 3.710635 | 3.761452 | 3.771104 | 3.790879 | 3.802826 |\n",
       "| 2004 | 3.892104 | 3.822910 | 3.757987 | 3.825360 | 3.826656 | 3.798576 | 3.816569 | 3.861793 | 3.802122 | 3.784444 | 3.741100 | 3.843094 |\n",
       "| 2005 | 3.872065 | 3.805870 | 3.884944 | 3.806607 | 3.743355 | 3.859615 | 3.769045 | 3.784184 | 3.795644 | 3.782152 | 3.855852 | 3.860837 |\n",
       "| 2006 | 3.821626 | 3.789613 | 3.803201 | 3.833529 | 3.816436 | 3.847766 | 3.799106 | 3.795228 | 3.826782 | 3.764831 | 3.802075 | 3.804746 |\n",
       "| 2007 | 3.796619 | 3.820563 | 3.785231 | 3.820230 | 3.768441 | 3.721336 | 3.809563 | 3.710408 | 3.769330 | 3.826076 | 3.779580 | 3.834992 |\n",
       "| 2008 | 3.897296 | 3.879322 | 3.825841 | 3.866337 | 3.819464 | 3.824667 | 3.833681 | 3.845346 | 3.824287 | 3.817620 | 3.841760 | 3.816298 |\n",
       "| 2009 | 3.868856 | 3.839302 | 3.847518 | 3.846370 | 3.892921 | 3.872649 | 3.851616 | 3.850718 | 3.809730 | 3.862528 | 3.851910 | 3.860305 |\n",
       "| 2010 | 3.810428 | 3.886246 | 3.884490 | 3.869777 | 3.838745 | 3.838772 | 3.806898 | 3.842232 | 3.844956 | 3.807355 | 3.844931 | 3.876926 |\n",
       "| 2011 | 3.861355 | 3.839600 | 3.839057 | 3.841564 | 3.844314 | 3.840459 | 3.855617 | 3.809778 | 3.799865 | 3.854808 | 4.132859 | 4.013434 |\n",
       "| 2012 | 3.827531 | 3.813721 | 3.842391 | 3.856536 | 3.843407 | 3.827998 | 3.843218 | 3.818722 | 3.826335 | 3.831577 | 3.869356 | 3.853065 |\n",
       "| 2013 | 3.930060 | 3.922282 | 3.945560 | 3.949689 | 3.945230 | 3.883678 | 3.849965 | 3.847642 | 3.822392 | 3.860475 | 3.875164 | 3.885565 |\n",
       "| 2014 | 3.894819 | 3.919469 | 3.923504 | 3.890891 | 3.886415 | 3.909815 | 3.872173 | 3.872730 | 3.885820 | 3.921727 | 3.933716 | 3.967668 |\n",
       "| 2015 | 3.997097 | 3.996901 | 4.005002 | 3.991280 | 3.984110 | 3.979467 | 3.967579 | 3.963439 | 3.967281 | 3.967198 | 3.985564 | 3.993312 |\n",
       "| 2016 | 3.986488 | 4.001558 | 3.987044 | 3.950565 | 3.970315 | 3.982854 | 3.987852 | 3.993576 | 4.005607 | 3.990623 | 4.007644 | 4.010456 |\n",
       "| 2017 | 4.011244 | 4.036964 | 4.025383 | 4.010692 | 3.986720 | 3.978366 | 3.978893 | 3.998201 | 4.005115 | 4.002342 | 4.008391 | 4.045614 |\n",
       "| 2018 | 4.025227 | 4.030995 | 4.013674 | 4.007635 | 3.999648 | 4.001002 | 3.948450 | 3.980969 | 3.992782 |       NA |       NA |       NA |\n",
       "\n"
      ],
      "text/plain": [
       "     1        2        3        4        5        6        7        8       \n",
       "1998 3.770000 3.396667 4.092000 3.840000 3.702000 4.700000 3.100000 3.823333\n",
       "1999       NA 3.613333       NA       NA 3.820000 3.850000 3.880000       NA\n",
       "2000       NA 4.300000       NA 3.880000       NA 4.470000 3.995000       NA\n",
       "2001 4.220000 4.488000 4.403333 3.053333       NA 4.012000 4.080000 3.905455\n",
       "2002 4.246667 3.706000 3.933846 3.831224 3.887788 3.782655 3.950776 3.628201\n",
       "2003 3.842596 3.921875 3.840573 3.929500 3.895977 3.768022 3.742609 3.710635\n",
       "2004 3.892104 3.822910 3.757987 3.825360 3.826656 3.798576 3.816569 3.861793\n",
       "2005 3.872065 3.805870 3.884944 3.806607 3.743355 3.859615 3.769045 3.784184\n",
       "2006 3.821626 3.789613 3.803201 3.833529 3.816436 3.847766 3.799106 3.795228\n",
       "2007 3.796619 3.820563 3.785231 3.820230 3.768441 3.721336 3.809563 3.710408\n",
       "2008 3.897296 3.879322 3.825841 3.866337 3.819464 3.824667 3.833681 3.845346\n",
       "2009 3.868856 3.839302 3.847518 3.846370 3.892921 3.872649 3.851616 3.850718\n",
       "2010 3.810428 3.886246 3.884490 3.869777 3.838745 3.838772 3.806898 3.842232\n",
       "2011 3.861355 3.839600 3.839057 3.841564 3.844314 3.840459 3.855617 3.809778\n",
       "2012 3.827531 3.813721 3.842391 3.856536 3.843407 3.827998 3.843218 3.818722\n",
       "2013 3.930060 3.922282 3.945560 3.949689 3.945230 3.883678 3.849965 3.847642\n",
       "2014 3.894819 3.919469 3.923504 3.890891 3.886415 3.909815 3.872173 3.872730\n",
       "2015 3.997097 3.996901 4.005002 3.991280 3.984110 3.979467 3.967579 3.963439\n",
       "2016 3.986488 4.001558 3.987044 3.950565 3.970315 3.982854 3.987852 3.993576\n",
       "2017 4.011244 4.036964 4.025383 4.010692 3.986720 3.978366 3.978893 3.998201\n",
       "2018 4.025227 4.030995 4.013674 4.007635 3.999648 4.001002 3.948450 3.980969\n",
       "     9        10       11       12      \n",
       "1998 3.355000 3.910000       NA 3.930000\n",
       "1999       NA 3.500000 3.880000 4.000000\n",
       "2000 3.885000 3.880000 4.670000 3.400000\n",
       "2001 4.010556 3.948000 4.112069 3.851053\n",
       "2002 3.798758 3.784247 3.885028 3.832537\n",
       "2003 3.761452 3.771104 3.790879 3.802826\n",
       "2004 3.802122 3.784444 3.741100 3.843094\n",
       "2005 3.795644 3.782152 3.855852 3.860837\n",
       "2006 3.826782 3.764831 3.802075 3.804746\n",
       "2007 3.769330 3.826076 3.779580 3.834992\n",
       "2008 3.824287 3.817620 3.841760 3.816298\n",
       "2009 3.809730 3.862528 3.851910 3.860305\n",
       "2010 3.844956 3.807355 3.844931 3.876926\n",
       "2011 3.799865 3.854808 4.132859 4.013434\n",
       "2012 3.826335 3.831577 3.869356 3.853065\n",
       "2013 3.822392 3.860475 3.875164 3.885565\n",
       "2014 3.885820 3.921727 3.933716 3.967668\n",
       "2015 3.967281 3.967198 3.985564 3.993312\n",
       "2016 4.005607 3.990623 4.007644 4.010456\n",
       "2017 4.005115 4.002342 4.008391 4.045614\n",
       "2018 3.992782       NA       NA       NA"
      ]
     },
     "metadata": {},
     "output_type": "display_data"
    }
   ],
   "source": [
    "# table of the mean score for each month and year pair\n",
    "tapply(myDF$score,\n",
    "       list(year(myDF$date), month(myDF$date)), \n",
    "       mean)"
   ]
  },
  {
   "cell_type": "markdown",
   "id": "47c6229f-35f7-400c-8366-c442baa5cf47",
   "metadata": {},
   "source": [
    "Markdown notes and sentences and analysis written here."
   ]
  },
  {
   "cell_type": "markdown",
   "id": "da22f29c-d245-4d2b-9fc1-ca14cb6087d9",
   "metadata": {},
   "source": [
    "## Question 4"
   ]
  },
  {
   "cell_type": "code",
   "execution_count": 12,
   "id": "8cffc767-d1c8-4d64-b7dc-f0d2ee8a80d1",
   "metadata": {},
   "outputs": [
    {
     "data": {
      "text/html": [
       "<table class=\"dataframe\">\n",
       "<caption>A data.table: 2 x 21</caption>\n",
       "<thead>\n",
       "\t<tr><th scope=col>CMTE_ID</th><th scope=col>AMNDT_IND</th><th scope=col>RPT_TP</th><th scope=col>TRANSACTION_PGI</th><th scope=col>IMAGE_NUM</th><th scope=col>TRANSACTION_TP</th><th scope=col>ENTITY_TP</th><th scope=col>NAME</th><th scope=col>CITY</th><th scope=col>STATE</th><th scope=col>...</th><th scope=col>EMPLOYER</th><th scope=col>OCCUPATION</th><th scope=col>TRANSACTION_DT</th><th scope=col>TRANSACTION_AMT</th><th scope=col>OTHER_ID</th><th scope=col>TRAN_ID</th><th scope=col>FILE_NUM</th><th scope=col>MEMO_CD</th><th scope=col>MEMO_TEXT</th><th scope=col>SUB_ID</th></tr>\n",
       "\t<tr><th scope=col>&lt;chr&gt;</th><th scope=col>&lt;chr&gt;</th><th scope=col>&lt;chr&gt;</th><th scope=col>&lt;chr&gt;</th><th scope=col>&lt;int64&gt;</th><th scope=col>&lt;chr&gt;</th><th scope=col>&lt;lgl&gt;</th><th scope=col>&lt;chr&gt;</th><th scope=col>&lt;chr&gt;</th><th scope=col>&lt;chr&gt;</th><th scope=col>...</th><th scope=col>&lt;chr&gt;</th><th scope=col>&lt;lgl&gt;</th><th scope=col>&lt;int&gt;</th><th scope=col>&lt;int&gt;</th><th scope=col>&lt;chr&gt;</th><th scope=col>&lt;lgl&gt;</th><th scope=col>&lt;lgl&gt;</th><th scope=col>&lt;lgl&gt;</th><th scope=col>&lt;chr&gt;</th><th scope=col>&lt;int64&gt;</th></tr>\n",
       "</thead>\n",
       "<tbody>\n",
       "\t<tr><td>C00078279</td><td>A</td><td>M11</td><td>P</td><td>80031492155</td><td>22Y</td><td>NA</td><td>MCKENNON, K R</td><td>MIDLAND</td><td>MI</td><td>...</td><td>               </td><td>NA</td><td>10031979</td><td> 400</td><td></td><td>NA</td><td>NA</td><td>NA</td><td>CONTRIBUTION REF TO INDIVIDUAL</td><td>3062020110011466469</td></tr>\n",
       "\t<tr><td>C00078279</td><td>A</td><td>M11</td><td> </td><td>79031415137</td><td>15 </td><td>NA</td><td>OREFFICE, P  </td><td>MIDLAND</td><td>MI</td><td>...</td><td>DOW CHEMICAL CO</td><td>NA</td><td>10261979</td><td>1500</td><td></td><td>NA</td><td>NA</td><td>NA</td><td>                              </td><td>3061920110000382948</td></tr>\n",
       "</tbody>\n",
       "</table>\n"
      ],
      "text/latex": [
       "A data.table: 2 x 21\n",
       "\\begin{tabular}{lllllllllllllllllllll}\n",
       " CMTE\\_ID & AMNDT\\_IND & RPT\\_TP & TRANSACTION\\_PGI & IMAGE\\_NUM & TRANSACTION\\_TP & ENTITY\\_TP & NAME & CITY & STATE & ... & EMPLOYER & OCCUPATION & TRANSACTION\\_DT & TRANSACTION\\_AMT & OTHER\\_ID & TRAN\\_ID & FILE\\_NUM & MEMO\\_CD & MEMO\\_TEXT & SUB\\_ID\\\\\n",
       " <chr> & <chr> & <chr> & <chr> & <int64> & <chr> & <lgl> & <chr> & <chr> & <chr> & ... & <chr> & <lgl> & <int> & <int> & <chr> & <lgl> & <lgl> & <lgl> & <chr> & <int64>\\\\\n",
       "\\hline\n",
       "\t C00078279 & A & M11 & P & 80031492155 & 22Y & NA & MCKENNON, K R & MIDLAND & MI & ... &                 & NA & 10031979 &  400 &  & NA & NA & NA & CONTRIBUTION REF TO INDIVIDUAL & 3062020110011466469\\\\\n",
       "\t C00078279 & A & M11 &   & 79031415137 & 15  & NA & OREFFICE, P   & MIDLAND & MI & ... & DOW CHEMICAL CO & NA & 10261979 & 1500 &  & NA & NA & NA &                                & 3061920110000382948\\\\\n",
       "\\end{tabular}\n"
      ],
      "text/markdown": [
       "\n",
       "A data.table: 2 x 21\n",
       "\n",
       "| CMTE_ID &lt;chr&gt; | AMNDT_IND &lt;chr&gt; | RPT_TP &lt;chr&gt; | TRANSACTION_PGI &lt;chr&gt; | IMAGE_NUM &lt;int64&gt; | TRANSACTION_TP &lt;chr&gt; | ENTITY_TP &lt;lgl&gt; | NAME &lt;chr&gt; | CITY &lt;chr&gt; | STATE &lt;chr&gt; | ... ... | EMPLOYER &lt;chr&gt; | OCCUPATION &lt;lgl&gt; | TRANSACTION_DT &lt;int&gt; | TRANSACTION_AMT &lt;int&gt; | OTHER_ID &lt;chr&gt; | TRAN_ID &lt;lgl&gt; | FILE_NUM &lt;lgl&gt; | MEMO_CD &lt;lgl&gt; | MEMO_TEXT &lt;chr&gt; | SUB_ID &lt;int64&gt; |\n",
       "|---|---|---|---|---|---|---|---|---|---|---|---|---|---|---|---|---|---|---|---|---|\n",
       "| C00078279 | A | M11 | P | 80031492155 | 22Y | NA | MCKENNON, K R | MIDLAND | MI | ... | <!----> | NA | 10031979 |  400 | <!----> | NA | NA | NA | CONTRIBUTION REF TO INDIVIDUAL | 3062020110011466469 |\n",
       "| C00078279 | A | M11 | <!----> | 79031415137 | 15  | NA | OREFFICE, P   | MIDLAND | MI | ... | DOW CHEMICAL CO | NA | 10261979 | 1500 | <!----> | NA | NA | NA | <!----> | 3061920110000382948 |\n",
       "\n"
      ],
      "text/plain": [
       "  CMTE_ID   AMNDT_IND RPT_TP TRANSACTION_PGI IMAGE_NUM   TRANSACTION_TP\n",
       "1 C00078279 A         M11    P               80031492155 22Y           \n",
       "2 C00078279 A         M11                    79031415137 15            \n",
       "  ENTITY_TP NAME          CITY    STATE ... EMPLOYER        OCCUPATION\n",
       "1 NA        MCKENNON, K R MIDLAND MI    ...                 NA        \n",
       "2 NA        OREFFICE, P   MIDLAND MI    ... DOW CHEMICAL CO NA        \n",
       "  TRANSACTION_DT TRANSACTION_AMT OTHER_ID TRAN_ID FILE_NUM MEMO_CD\n",
       "1 10031979        400                     NA      NA       NA     \n",
       "2 10261979       1500                     NA      NA       NA     \n",
       "  MEMO_TEXT                      SUB_ID             \n",
       "1 CONTRIBUTION REF TO INDIVIDUAL 3062020110011466469\n",
       "2                                3061920110000382948"
      ]
     },
     "metadata": {},
     "output_type": "display_data"
    }
   ],
   "source": [
    "# code here\n",
    "library(data.table)\n",
    "myDF <- fread(\"/anvil/projects/tdm/data/election/itcont1980.txt\", quote=\"\")\n",
    "names(myDF) <- c(\"CMTE_ID\", \"AMNDT_IND\", \"RPT_TP\", \"TRANSACTION_PGI\", \"IMAGE_NUM\", \"TRANSACTION_TP\", \"ENTITY_TP\", \"NAME\", \"CITY\", \"STATE\", \"ZIP_CODE\", \"EMPLOYER\", \"OCCUPATION\", \"TRANSACTION_DT\", \"TRANSACTION_AMT\", \"OTHER_ID\", \"TRAN_ID\", \"FILE_NUM\", \"MEMO_CD\", \"MEMO_TEXT\", \"SUB_ID\")\n",
    "head(myDF, 2)"
   ]
  },
  {
   "cell_type": "code",
   "execution_count": 13,
   "id": "02adf786-953d-4a8b-a56f-5f7dbb29ddb0",
   "metadata": {},
   "outputs": [
    {
     "data": {
      "text/plain": [
       "\n",
       "    CHESTERTON    INDIANPOLIS     PLAINFIELD      WALKERTON       HIGHLAND \n",
       "            15             15             15             15             16 \n",
       " MICHIGAN CITY      MISHAWAKA         HOBART      VINCENNES         WARSAW \n",
       "            16             16             17             20             21 \n",
       "       HAMMOND    NOBLESVILLE    W LAFAYETTE       SYRACUSE WEST LAFAYETTE \n",
       "            22             22             22             24             24 \n",
       "        WABASH        MUNSTER         MUNICE       ANDERSON     VALPARAISO \n",
       "            27             30             31             34             34 \n",
       "   CROWN POINT      GREENWOOD    BLOOMINGTON       RICHMOND       COLUMBUS \n",
       "            35             35             38             43             45 \n",
       "        KOKOMO   MERRILLVILLE           GARY     ZIONSVILLE        LAPORTE \n",
       "            45             46             47             52             53 \n",
       "   TERRE HAUTE      LAFAYETTE         INDPLS     SOUTH BEND        ELKHART \n",
       "            75             85            123            123            132 \n",
       "      FT WAYNE     EVANSVILLE     FORT WAYNE         CARMEL         MUNCIE \n",
       "           132            151            157            167            232 \n",
       "  INDIANAPOLIS \n",
       "          1443 "
      ]
     },
     "metadata": {},
     "output_type": "display_data"
    }
   ],
   "source": [
    "# (a) using subset function to get all entries that belong to IN (without NA in TRANSACTION_D)\n",
    "IN <- subset(myDF, STATE == \"IN\" & !is.na(TRANSACTION_DT))\n",
    "\n",
    "# table of donations by CITY\n",
    "IN_CITIES <- table(IN$CITY)\n",
    "\n",
    "# # sorting them in descending to get top 41\n",
    "# sorted_IN_CITIES <- sort(IN_CITIES, decreasing = TRUE)\n",
    "\n",
    "# # top 41\n",
    "# top_41_cities <- head(sorted_IN_CITIES, 41)\n",
    "\n",
    "# print(top_41_cities)\n",
    "tail(sort(IN_CITIES), 41)"
   ]
  },
  {
   "cell_type": "code",
   "execution_count": 14,
   "id": "9fa3f840-4e05-4a96-84d5-089a6fd43a1b",
   "metadata": {},
   "outputs": [
    {
     "data": {
      "text/plain": [
       "\n",
       "    CHESTERTON    INDIANPOLIS     PLAINFIELD      WALKERTON       HIGHLAND \n",
       "            15             15             15             15             16 \n",
       " MICHIGAN CITY      MISHAWAKA         HOBART      VINCENNES         WARSAW \n",
       "            16             16             17             20             21 \n",
       "       HAMMOND    NOBLESVILLE    W LAFAYETTE       SYRACUSE WEST LAFAYETTE \n",
       "            22             22             22             24             24 \n",
       "        WABASH        MUNSTER         MUNICE       ANDERSON     VALPARAISO \n",
       "            27             30             31             34             34 \n",
       "   CROWN POINT      GREENWOOD    BLOOMINGTON       RICHMOND       COLUMBUS \n",
       "            35             35             38             43             45 \n",
       "        KOKOMO   MERRILLVILLE           GARY     ZIONSVILLE        LAPORTE \n",
       "            45             46             47             52             53 \n",
       "   TERRE HAUTE      LAFAYETTE         INDPLS     SOUTH BEND        ELKHART \n",
       "            75             85            123            123            132 \n",
       "      FT WAYNE     EVANSVILLE     FORT WAYNE         CARMEL         MUNCIE \n",
       "           132            151            157            167            232 \n",
       "  INDIANAPOLIS \n",
       "          1443 "
      ]
     },
     "metadata": {},
     "output_type": "display_data"
    }
   ],
   "source": [
    "# (b) indexing to get all entries that belong to IN (without NA in TRANSACTION_DT)\n",
    "IN <- myDF[myDF$STATE == \"IN\" & !is.na(myDF$TRANSACTION_DT), ]\n",
    "\n",
    "# Table of donations by CITY\n",
    "IN_CITIES <- table(IN$CITY)\n",
    "\n",
    "# # Sorting them in descending order to get top 41\n",
    "# sorted_IN_CITIES <- sort(IN_CITIES, decreasing = TRUE)\n",
    "\n",
    "# # Getting the top 41\n",
    "# top_41_cities <- head(sorted_IN_CITIES, 41)\n",
    "\n",
    "# # Display the result\n",
    "# print(top_41_cities)\n",
    "\n",
    "tail(sort(IN_CITIES), 41)"
   ]
  },
  {
   "cell_type": "code",
   "execution_count": 15,
   "id": "dc59d591-7caa-4bad-8279-1f7fa2d6de61",
   "metadata": {},
   "outputs": [],
   "source": [
    "# I couldnt find anything strange about the top 41 entries"
   ]
  },
  {
   "cell_type": "markdown",
   "id": "0d552245-b4d6-474a-9cc9-fa7b8e674d55",
   "metadata": {},
   "source": [
    "Markdown notes and sentences and analysis written here."
   ]
  },
  {
   "cell_type": "markdown",
   "id": "88c9cdac-3e92-498f-83fa-e089bfc44ac8",
   "metadata": {},
   "source": [
    "## Question 5"
   ]
  },
  {
   "cell_type": "code",
   "execution_count": 16,
   "id": "d370d7c9-06db-42b9-b75f-240481a5c491",
   "metadata": {},
   "outputs": [],
   "source": [
    "# code here\n",
    "myDF <- fread(\"/anvil/projects/tdm/data/flights/subset/1990.csv\")\n",
    "# head(myDF$DepTime, breaks = c(-Inf, 60, 120, 180, 240, 1380, 1440, Inf))"
   ]
  },
  {
   "cell_type": "code",
   "execution_count": 17,
   "id": "c455f389-ffca-4a3e-9cb2-b3089b4e4857",
   "metadata": {},
   "outputs": [
    {
     "name": "stdout",
     "output_type": "stream",
     "text": [
      "delay_categories\n",
      "Departed Early or On Time         1-60 minutes late       61-120 minutes late \n",
      "                  2966433                   2111783                    104240 \n",
      "     121-180 minutes late      181-240 minutes late      241-300 minutes late \n",
      "                    24000                      7517                      2630 \n",
      "  More than 23 hours late   More than 24 hours late                   Unknown \n",
      "                     1756                        76                         0 \n",
      "                     <NA> \n",
      "                    52458 \n"
     ]
    }
   ],
   "source": [
    "# using cut function to split into categories\n",
    "delay_categories <- cut(\n",
    "  myDF$DepDelay,\n",
    "  breaks = c(-Inf, 0, 60, 120, 180, 240, 300, 1380, 1440, Inf),\n",
    "  labels = c(\"Departed Early or On Time\", \n",
    "             \"1-60 minutes late\", \n",
    "             \"61-120 minutes late\", \n",
    "             \"121-180 minutes late\", \n",
    "             \"181-240 minutes late\", \n",
    "             \"241-300 minutes late\", \n",
    "             \"More than 23 hours late\", \n",
    "             \"More than 24 hours late\", \n",
    "             \"Unknown\"),\n",
    "  dig.lab = 4  \n",
    ")\n",
    "\n",
    "# creating a table\n",
    "delay_table <- table(delay_categories, useNA = \"always\")\n",
    "\n",
    "print(delay_table)"
   ]
  },
  {
   "cell_type": "markdown",
   "id": "f76442d6-d02e-4f26-b9d6-c3183e1d6929",
   "metadata": {},
   "source": [
    "## Pledge\n",
    "\n",
    "By submitting this work I hereby pledge that this is my own, personal work. I've acknowledged in the designated place at the top of this file all sources that I used to complete said work, including but not limited to: online resources, books, and electronic communications. I've noted all collaboration with fellow students and/or TA's. I did not copy or plagiarize another's work.\n",
    "\n",
    "> As a Boilermaker pursuing academic excellence, I pledge to be honest and true in all that I do. Accountable together – We are Purdue."
   ]
  }
 ],
 "metadata": {
  "kernelspec": {
   "display_name": "seminar-r",
   "language": "R",
   "name": "seminar-r"
  },
  "language_info": {
   "codemirror_mode": "r",
   "file_extension": ".r",
   "mimetype": "text/x-r-source",
   "name": "R",
   "pygments_lexer": "r",
   "version": "4.4.1"
  }
 },
 "nbformat": 4,
 "nbformat_minor": 5
}
