{
 "cells": [
  {
   "cell_type": "markdown",
   "id": "be02a957-7133-4d02-818e-fedeb3cecb05",
   "metadata": {},
   "source": [
    "# Project 14-- Jacqueline Sanchez"
   ]
  },
  {
   "cell_type": "markdown",
   "id": "a1228853-dd19-4ab2-89e0-0394d7d72de3",
   "metadata": {},
   "source": [
    "**TA Help:** N/A\n",
    "\n",
    "- \n",
    "    \n",
    "**Collaboration:** N/A\n",
    "    \n",
    "- \n",
    "- "
   ]
  },
  {
   "cell_type": "markdown",
   "id": "6180e742-8e39-4698-98ff-5b00c8cf8ea0",
   "metadata": {},
   "source": [
    "## Question 1"
   ]
  },
  {
   "cell_type": "markdown",
   "id": "279ef1b1-7fd8-431e-bcd6-464e6a40d4ad",
   "metadata": {},
   "source": [
    "My experience with The Data Mine has been transformative in shaping my academic and professional journey. Collaborating with the USDA Forest Service as part of my corporate partner project allowed me to work on meaningful challenges related to geospatial data analysis and forest inventory management. This project gave me hands-on experience with large raster datasets, satellite imagery, and data pipelines, where I used tools like Google Earth Engine and Python to generate insights for sustainable forest management. Tackling real-world data challenges not only deepened my technical expertise but also helped me understand the practical applications of data science in addressing environmental concerns.\n",
    "\n",
    "The Data Mine's collaborative and interdisciplinary structure was instrumental in this growth. As someone who was new to The Data Mine, I always felt welcome thanks to the supportive environment fostered by my mentors and TAs. They were just a message away, helping us navigate unfamiliar tools, troubleshoot challenges, and adjust to the program’s dynamic learning style. Their encouragement made it easy to transition into the team-based culture and explore new opportunities confidently. I would enthusiastically recommend The Data Mine to both students and industry colleagues. For students, it’s a rare opportunity to bridge the gap between classroom learning and practical application. For professionals, the program is a testament to how academia and industry can work together to nurture talent and solve pressing challenges. My experience with The Data Mine has left me better equipped for a career in data science, particularly in domains where technology and sustainability intersect.\n",
    "\n",
    "I deeply appreciated the guidance from my mentor, as well as Mia, my TA, who consistently went above and beyond to ensure I felt supported and answered every question I had in a timely manner.\n",
    "\n",
    "A special thanks to Dr. Ward and Jessica Judd for their patience, constant support, and guidance, which made my first semester in The Data Mine so much smoother. My extended gratitude also goes to the entire Data Mine Department and team for creating this incredible opportunity, fostering such a supportive environment, and for choosing me to be part of this team. Thank you!\n",
    "\n",
    "\n",
    "\n",
    "Yes, thisd can be published. "
   ]
  },
  {
   "cell_type": "markdown",
   "id": "fc601975-35ed-4680-a4e1-0273ee3cc047",
   "metadata": {},
   "source": [
    "## Question 2"
   ]
  },
  {
   "cell_type": "markdown",
   "id": "85491f15-e186-4c57-bca3-b86545c4abd9",
   "metadata": {},
   "source": [
    "I honestly enjoyed the last project assignment, which was Project 13, where we had to find the optimal pathway for drivers during the Thanksgiving Parade in New York. The dataset we used was `\"/anvil/projects/tdm/data/taxi/yellow/yellow_tripdata_2015-11.csv\". `I particularly enjoyed plotting the geographical points on the map, as it resonated with the work I’m doing with my corporate partners. "
   ]
  },
  {
   "cell_type": "markdown",
   "id": "8e586edd-ff26-4ce2-8f6b-2424b26f2929",
   "metadata": {},
   "source": [
    "## Question 3"
   ]
  },
  {
   "cell_type": "markdown",
   "id": "0f28f4ca-9170-4d63-b738-e6593625d290",
   "metadata": {},
   "source": [
    "One of the projects that I used more than one method of solving it, I have to say is one example from `project 13`, question number 2  which was asking to create a subset of a new data frame, satisfying 3 conditions,<br> <br>\n",
    "(state==\"in\") & (!is.na(long)) & (!is.na(lat)) <br> <br> \n",
    "Since the question was asking to create a subset I remembered that in Project 5 we learned how to create subsets using the prebuilt `subset` function and in Project 6 we learned how to make subsets using `indexing` method. <br> <br> \n",
    "\n",
    "So I wanted to challenge myself to attempt it again based on what i learned without looking at my notes and I successfully replicate it on this assignment, which I'm pretty impressed by how I learned and still retain (: "
   ]
  },
  {
   "cell_type": "code",
   "execution_count": null,
   "id": "bbe0f40d-9655-4653-9ca8-886bdb61cb91",
   "metadata": {},
   "outputs": [],
   "source": [
    "# Project 13\n",
    "library(data.table)\n",
    "\n",
    "# loading Craiglist data \n",
    "myDF <- fread(\"/anvil/projects/tdm/data/craigslist/vehicles.csv\",\n",
    "              stringsAsFactors = TRUE) # nrows=100"
   ]
  },
  {
   "cell_type": "code",
   "execution_count": null,
   "id": "a67e39e1-943d-4064-bc4d-8c95318a6c2f",
   "metadata": {},
   "outputs": [],
   "source": [
    "# subset method\n",
    "myDF_subset_func <- subset(myDF, state == \"in\" & !is.na(long) & !is.na(lat), select = c(state, long, lat))\n",
    "head(myDF_subset_func, 2)\n",
    "dim(myDF_subset_func)"
   ]
  },
  {
   "cell_type": "code",
   "execution_count": null,
   "id": "b07b6ff7-14f3-4701-b6fc-ee8b3f275d1a",
   "metadata": {},
   "outputs": [],
   "source": [
    "# indexing method\n",
    "# indexing method\n",
    "# creating a subset using indexing method\n",
    "mynewdataframe <- myDF[state == \"in\" & !is.na(long) & !is.na(lat), .(state, long, lat)]\n",
    "\n",
    "# view the first 2 rows of the new subset\n",
    "head(mynewdataframe, 2)\n",
    "\n",
    "# check the dimensions of the subset\n",
    "dim(mynewdataframe)"
   ]
  },
  {
   "cell_type": "markdown",
   "id": "47c6229f-35f7-400c-8366-c442baa5cf47",
   "metadata": {},
   "source": [
    "Markdown notes and sentences and analysis written here."
   ]
  },
  {
   "cell_type": "markdown",
   "id": "da22f29c-d245-4d2b-9fc1-ca14cb6087d9",
   "metadata": {},
   "source": [
    "## Question 4"
   ]
  },
  {
   "cell_type": "markdown",
   "id": "c01ff173-407c-425e-8e99-81bd6244c3fb",
   "metadata": {},
   "source": [
    "I dont remember having many complications in the project assignments that I know of"
   ]
  },
  {
   "cell_type": "markdown",
   "id": "88c9cdac-3e92-498f-83fa-e089bfc44ac8",
   "metadata": {},
   "source": [
    "## Question 5"
   ]
  },
  {
   "cell_type": "markdown",
   "id": "8bf8b465-c3ab-4650-a69a-025dcb2fda9c",
   "metadata": {},
   "source": [
    "I think it would have been helpful if the projects included time series analysis in R, like using ARIMA models with the forecast package to explore seasonal trends, as this skill is useful in areas like finance and climate research. Working with geospatial data using tools like sf and leaflet to map and analyze spatial datasets would also have been great since spatial insights are becoming more important in environmental and urban applications. Lastly, learning to create interactive dashboards with shiny could have been beneficial for presenting data insights in a more engaging and accessible way."
   ]
  },
  {
   "cell_type": "markdown",
   "id": "9fbf00fb-2418-460f-ae94-2a32b0c28952",
   "metadata": {},
   "source": [
    "Markdown notes and sentences and analysis written here."
   ]
  },
  {
   "cell_type": "markdown",
   "id": "f76442d6-d02e-4f26-b9d6-c3183e1d6929",
   "metadata": {},
   "source": [
    "## Pledge\n",
    "\n",
    "By submitting this work I hereby pledge that this is my own, personal work. I've acknowledged in the designated place at the top of this file all sources that I used to complete said work, including but not limited to: online resources, books, and electronic communications. I've noted all collaboration with fellow students and/or TA's. I did not copy or plagiarize another's work.\n",
    "\n",
    "> As a Boilermaker pursuing academic excellence, I pledge to be honest and true in all that I do. Accountable together – We are Purdue."
   ]
  }
 ],
 "metadata": {
  "kernelspec": {
   "display_name": "seminar-r",
   "language": "R",
   "name": "seminar-r"
  },
  "language_info": {
   "codemirror_mode": "r",
   "file_extension": ".r",
   "mimetype": "text/x-r-source",
   "name": "R",
   "pygments_lexer": "r",
   "version": "4.4.1"
  }
 },
 "nbformat": 4,
 "nbformat_minor": 5
}
